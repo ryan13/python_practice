{
 "cells": [
  {
   "cell_type": "markdown",
   "metadata": {},
   "source": [
    "### find a second most repeating word in a string\n",
    "If k is small compared to n, it's worth keeping the k elements in sorted order to select the kth in O(1) at the end of the algo. time complexity: O(n*k) that is O(n) if k is constant (e.g. 2) space complexity: O(n)\n",
    "n is the number of characters in the input string.   \n",
    "eg aaa bbb ccc aaa bbb aaa   \n",
    "answer - bbb"
   ]
  },
  {
   "cell_type": "code",
   "execution_count": 81,
   "metadata": {
    "collapsed": false
   },
   "outputs": [
    {
     "data": {
      "text/plain": [
       "'aaaa'"
      ]
     },
     "execution_count": 81,
     "metadata": {},
     "output_type": "execute_result"
    }
   ],
   "source": [
    "from collections import defaultdict\n",
    "def kth_most_repeating_word(st, kth):\n",
    "    i = 0\n",
    "    n = len(st)\n",
    "    word_freq = defaultdict(int)\n",
    "    kcount = [(0, '') for i in range(kth)]\n",
    "    while i < n:\n",
    "        # extract word\n",
    "        while i < n and st[i] == ' ': i += 1 #skip leading spaces\n",
    "        if i == n: break\n",
    "        j = i + 1\n",
    "        while j < n and st[j] != ' ': j += 1 # search next  spaces\n",
    "        word = st[i:j]\n",
    "        i = j + 1\n",
    "        \n",
    "        # count word occurence\n",
    "        count = word_freq[word] + 1\n",
    "        word_freq[word] = count\n",
    "        \n",
    "        # place the element in the sorted list of k length\n",
    "        if kcount[-1][0] < count:\n",
    "            # check if word is already in k-top (can be done more efficient)\n",
    "            k = len(kcount) - 1\n",
    "            for m in range(kth): \n",
    "                if kcount[m][1] == word: \n",
    "                    k = m\n",
    "                    break\n",
    "            # do \"insertion sort\"\n",
    "            kcount[k] = (count, word)\n",
    "            while k > 0 and kcount[k - 1][0] < kcount[k][0]:\n",
    "                kcount[k - 1], kcount[k] = kcount[k], kcount[k - 1] #swap\n",
    "                k -= 1\n",
    "    kcount\n",
    "    # return result\n",
    "    return kcount[-1][1] if kcount[-1][0] > 0 else None\n",
    "sentence='aaaa ddd bbb ddd aaaa'\n",
    "kth_most_repeating_word(sentence,2)"
   ]
  },
  {
   "cell_type": "code",
   "execution_count": 45,
   "metadata": {
    "collapsed": false
   },
   "outputs": [
    {
     "data": {
      "text/plain": [
       "'bbb'"
      ]
     },
     "execution_count": 45,
     "metadata": {},
     "output_type": "execute_result"
    }
   ],
   "source": [
    "## This \n",
    "from collections import Counter\n",
    "\n",
    "def second_most_repeated_word(sentence):\n",
    "     return Counter(sentence.split()).most_common(2)[1][0]\n",
    "sentence='aaaa bbb bbb ddd aaaa'\n",
    "second_most_repeated_word(sentence)    "
   ]
  },
  {
   "cell_type": "code",
   "execution_count": 86,
   "metadata": {
    "collapsed": false
   },
   "outputs": [
    {
     "data": {
      "text/plain": [
       "'bbb'"
      ]
     },
     "execution_count": 86,
     "metadata": {},
     "output_type": "execute_result"
    }
   ],
   "source": [
    "from collections import Counter\n",
    "def second_most_repeated_word(sentence):\n",
    "    word_count=Counter(sentence.split())\n",
    "    return sorted(word_count.items(), key=lambda x: x[1],reverse=True)[1][0]\n",
    "sentence='aaaa bbb bbb ddd aaaa'\n",
    "second_most_repeated_word(sentence)"
   ]
  },
  {
   "cell_type": "markdown",
   "metadata": {},
   "source": [
    "### Find all permutation "
   ]
  },
  {
   "cell_type": "code",
   "execution_count": 89,
   "metadata": {
    "collapsed": false
   },
   "outputs": [
    {
     "name": "stdout",
     "output_type": "stream",
     "text": [
      "['1', '2', '3']\n",
      "['1', '3', '2']\n",
      "['2', '1', '3']\n",
      "['2', '3', '1']\n",
      "['3', '1', '2']\n",
      "['3', '2', '1']\n"
     ]
    }
   ],
   "source": [
    "def permutation(lst):\n",
    "    # If lst is empty then there are no permutations\n",
    "    if len(lst) == 0:\n",
    "        return []\n",
    "    # If there is only one element in lst then, only one permuatation is possible\n",
    "    if len(lst) == 1:\n",
    "        return [lst]\n",
    " \n",
    "    # Find the permutations for lst if there are  more than 1 characters\n",
    "    l = [] # empty list that will store current permutation\n",
    " \n",
    "    # Iterate the input(lst) and calculate the permutation\n",
    "    for i in range(len(lst)):\n",
    "        m = lst[i]\n",
    " \n",
    "       # Extract lst[i] or m from the list.  remLst is\n",
    "       # remaining list\n",
    "        remLst = lst[:i] + lst[i+1:]\n",
    " \n",
    "       # Generating all permutations where m is first\n",
    "       # element\n",
    "        for p in permutation(remLst):\n",
    "            l.append([m] + p)\n",
    "    return l\n",
    " \n",
    "# Driver program to test above function\n",
    "data = list('123')\n",
    "for p in permutation(data):\n",
    "    print(p)"
   ]
  },
  {
   "cell_type": "code",
   "execution_count": 91,
   "metadata": {
    "collapsed": false
   },
   "outputs": [
    {
     "name": "stdout",
     "output_type": "stream",
     "text": [
      "abc\n",
      "acb\n",
      "bac\n",
      "bca\n",
      "cab\n",
      "cba\n"
     ]
    }
   ],
   "source": [
    "def perms(s):        \n",
    "    if(len(s)==1): return [s]\n",
    "    result=[]\n",
    "    for i,v in enumerate(s):\n",
    "        result += [v+p for p in perms(s[:i]+s[i+1:])]\n",
    "    return result\n",
    "perms('abc')\n",
    "print('\\n'.join(perms('abc')))"
   ]
  },
  {
   "cell_type": "code",
   "execution_count": 92,
   "metadata": {
    "collapsed": false
   },
   "outputs": [
    {
     "name": "stdout",
     "output_type": "stream",
     "text": [
      "bac\n",
      "bca\n",
      "cba\n",
      "cab\n",
      "acb\n",
      "abc\n"
     ]
    }
   ],
   "source": [
    "def find_permutations(v):\n",
    "    if len(v) > 1:\n",
    "        for i in perms(v):\n",
    "            nv = i[1:]\n",
    "            for j in perms(nv):\n",
    "                print(i[0] + j)\n",
    "    else:\n",
    "        print(v)\n",
    "\n",
    "\n",
    "def perms(v):\n",
    "    if not hasattr(perms, 'original'):\n",
    "        perms.original = v\n",
    "        perms.list = []\n",
    "    nv = v[1:] + v[0]\n",
    "    perms.list.append(nv)\n",
    "    if perms.original == nv:\n",
    "        l = perms.list\n",
    "        del perms.original\n",
    "        del perms.list\n",
    "        return l\n",
    "    return perms(nv)\n",
    "\n",
    "find_permutations('abc')"
   ]
  },
  {
   "cell_type": "code",
   "execution_count": 104,
   "metadata": {
    "collapsed": false
   },
   "outputs": [
    {
     "data": {
      "text/plain": [
       "[('bacon', 'eggs', 'milk'),\n",
       " ('bacon', 'milk', 'eggs'),\n",
       " ('eggs', 'bacon', 'milk'),\n",
       " ('eggs', 'milk', 'bacon'),\n",
       " ('milk', 'bacon', 'eggs'),\n",
       " ('milk', 'eggs', 'bacon')]"
      ]
     },
     "execution_count": 104,
     "metadata": {},
     "output_type": "execute_result"
    }
   ],
   "source": [
    "# import itertools\n",
    "items =['bacon', 'eggs', 'milk']\n",
    "list(itertools.permutations(items))"
   ]
  },
  {
   "cell_type": "code",
   "execution_count": 103,
   "metadata": {
    "collapsed": false
   },
   "outputs": [
    {
     "data": {
      "text/plain": [
       "True"
      ]
     },
     "execution_count": 103,
     "metadata": {},
     "output_type": "execute_result"
    }
   ],
   "source": [
    "from collections import Counter\n",
    "pat1=Counter('aab')\n",
    "pat2=Counter('aba')\n",
    "pat1==pat2"
   ]
  },
  {
   "cell_type": "markdown",
   "metadata": {},
   "source": [
    "###  Given a binary tree, determine if it is height-balanced.\n",
    "For this problem, a height-balanced binary tree is defined as a binary tree in which the depth of the two subtrees of every node never differ by more than 1."
   ]
  },
  {
   "cell_type": "code",
   "execution_count": 105,
   "metadata": {
    "collapsed": true
   },
   "outputs": [],
   "source": [
    "#Definition for a  binary tree node\n",
    "# class TreeNode:\n",
    "#     def __init__(self, x):\n",
    "#         self.val = x\n",
    "#         self.left = None\n",
    "#         self.right = None\n",
    "\n",
    "class Solution:\n",
    "    # @param root, a tree node\n",
    "    # @return a boolean\n",
    "    def isBalanced(self, root):\n",
    "        return self.isBalancedInt(root)>=0\n",
    "        \n",
    "    def isBalancedInt(self, root):\n",
    "        if root == None:\n",
    "            return 0;\n",
    "        left = self.isBalancedInt(root.left)\n",
    "        right = self.isBalancedInt(root.right)\n",
    "        if left<0 or right<0 or abs(left-right)>1:\n",
    "            return -1\n",
    "        return max(left,right)+1\n",
    "    "
   ]
  },
  {
   "cell_type": "code",
   "execution_count": 107,
   "metadata": {
    "collapsed": false
   },
   "outputs": [
    {
     "ename": "NameError",
     "evalue": "name 'a' is not defined",
     "output_type": "error",
     "traceback": [
      "\u001b[0;31m---------------------------------------------------------------------------\u001b[0m",
      "\u001b[0;31mNameError\u001b[0m                                 Traceback (most recent call last)",
      "\u001b[0;32m<ipython-input-107-1140e8a9f413>\u001b[0m in \u001b[0;36m<module>\u001b[0;34m()\u001b[0m\n\u001b[1;32m     18\u001b[0m         \u001b[1;32mreturn\u001b[0m \u001b[1;33m(\u001b[0m\u001b[0mabs\u001b[0m\u001b[1;33m(\u001b[0m\u001b[0mget_height\u001b[0m\u001b[1;33m(\u001b[0m\u001b[0mroot\u001b[0m\u001b[1;33m.\u001b[0m\u001b[0mleft\u001b[0m\u001b[1;33m)\u001b[0m \u001b[1;33m-\u001b[0m \u001b[0mget_height\u001b[0m\u001b[1;33m(\u001b[0m\u001b[0mroot\u001b[0m\u001b[1;33m.\u001b[0m\u001b[0mright\u001b[0m\u001b[1;33m)\u001b[0m\u001b[1;33m)\u001b[0m \u001b[1;33m<\u001b[0m \u001b[1;36m2\u001b[0m\u001b[1;33m)\u001b[0m \u001b[1;32mand\u001b[0m \u001b[0mis_balanced\u001b[0m\u001b[1;33m(\u001b[0m\u001b[0mroot\u001b[0m\u001b[1;33m.\u001b[0m\u001b[0mright\u001b[0m\u001b[1;33m)\u001b[0m \u001b[1;32mand\u001b[0m \u001b[0mis_balanced\u001b[0m\u001b[1;33m(\u001b[0m\u001b[0mroot\u001b[0m\u001b[1;33m.\u001b[0m\u001b[0mleft\u001b[0m\u001b[1;33m)\u001b[0m\u001b[1;33m\u001b[0m\u001b[0m\n\u001b[1;32m     19\u001b[0m \u001b[0ms\u001b[0m \u001b[1;33m=\u001b[0m \u001b[0mtime\u001b[0m\u001b[1;33m.\u001b[0m\u001b[0mtime\u001b[0m\u001b[1;33m(\u001b[0m\u001b[1;33m)\u001b[0m\u001b[1;33m\u001b[0m\u001b[0m\n\u001b[0;32m---> 20\u001b[0;31m \u001b[0mprint\u001b[0m\u001b[1;33m(\u001b[0m\u001b[1;34m\"result: {}\"\u001b[0m\u001b[1;33m.\u001b[0m\u001b[0mformat\u001b[0m\u001b[1;33m(\u001b[0m\u001b[0mis_balanced\u001b[0m\u001b[1;33m(\u001b[0m\u001b[0ma\u001b[0m\u001b[1;33m)\u001b[0m\u001b[1;33m)\u001b[0m\u001b[1;33m)\u001b[0m\u001b[1;33m\u001b[0m\u001b[0m\n\u001b[0m\u001b[1;32m     21\u001b[0m \u001b[0mprint\u001b[0m\u001b[1;33m(\u001b[0m\u001b[1;34m\"time: {}\"\u001b[0m\u001b[1;33m.\u001b[0m\u001b[0mformat\u001b[0m\u001b[1;33m(\u001b[0m\u001b[0mtime\u001b[0m\u001b[1;33m.\u001b[0m\u001b[0mtime\u001b[0m\u001b[1;33m(\u001b[0m\u001b[1;33m)\u001b[0m \u001b[1;33m-\u001b[0m \u001b[0ms\u001b[0m\u001b[1;33m)\u001b[0m\u001b[1;33m)\u001b[0m\u001b[1;33m\u001b[0m\u001b[0m\n\u001b[1;32m     22\u001b[0m \u001b[1;33m\u001b[0m\u001b[0m\n",
      "\u001b[0;31mNameError\u001b[0m: name 'a' is not defined"
     ]
    }
   ],
   "source": [
    "import time\n",
    "def get_height(root):\n",
    "    if root is None:\n",
    "        return 0\n",
    "    else:\n",
    "        return max(get_height(root.left), get_height(root.right)) + 1\n",
    "    \n",
    "def is_balanced(root):\n",
    "    if root is None:\n",
    "        return True\n",
    "    else:\n",
    "        return is_balanced(root.right) and is_balanced(root.left) and (abs(get_height(root.left) - get_height(root.right)) < 2)    \n",
    "\n",
    "def is_balanced2(root):\n",
    "    if root is None:\n",
    "        return True\n",
    "    else:\n",
    "        return (abs(get_height(root.left) - get_height(root.right)) < 2) and is_balanced(root.right) and is_balanced(root.left)\n",
    "s = time.time()\n",
    "print(\"result: {}\".format(is_balanced(a)))\n",
    "print(\"time: {}\".format(time.time() - s))\n",
    "\n",
    "s = time.time()\n",
    "print(\"result: {}\".format(is_balanced2(a)))\n",
    "print(\"time: {}\".format(time.time() - s))    "
   ]
  },
  {
   "cell_type": "code",
   "execution_count": 109,
   "metadata": {
    "collapsed": false
   },
   "outputs": [
    {
     "name": "stderr",
     "output_type": "stream",
     "text": [
      "E\n",
      "======================================================================\n",
      "ERROR: C:\\Users\\trisi\\AppData\\Roaming\\jupyter\\runtime\\kernel-b15d1790-f7b0-42b7-8baf-158827a0cd7a (unittest.loader._FailedTest)\n",
      "----------------------------------------------------------------------\n",
      "AttributeError: module '__main__' has no attribute 'C:\\Users\\trisi\\AppData\\Roaming\\jupyter\\runtime\\kernel-b15d1790-f7b0-42b7-8baf-158827a0cd7a'\n",
      "\n",
      "----------------------------------------------------------------------\n",
      "Ran 1 test in 0.000s\n",
      "\n",
      "FAILED (errors=1)\n"
     ]
    },
    {
     "ename": "SystemExit",
     "evalue": "True",
     "output_type": "error",
     "traceback": [
      "An exception has occurred, use %tb to see the full traceback.\n",
      "\u001b[0;31mSystemExit\u001b[0m\u001b[0;31m:\u001b[0m True\n"
     ]
    },
    {
     "name": "stderr",
     "output_type": "stream",
     "text": [
      "C:\\Users\\trisi\\Anaconda3\\lib\\site-packages\\IPython\\core\\interactiveshell.py:2889: UserWarning: To exit: use 'exit', 'quit', or Ctrl-D.\n",
      "  warn(\"To exit: use 'exit', 'quit', or Ctrl-D.\", stacklevel=1)\n"
     ]
    }
   ],
   "source": [
    "from collections import namedtuple\n",
    "\n",
    "Node = namedtuple('Node', 'key, left, right')\n",
    "\n",
    "def is_bst(node, key_min=float(\"-inf\"), key_max=float(\"inf\")):\n",
    "    \"\"\"Checks if the subtree rooted at this node is a BST.\"\"\"\n",
    "    if node is None:\n",
    "        return True # By definiton\n",
    "    if node.key <= key_max and node.key >= key_min:\n",
    "        return is_bst(node.left, key_min, node.key) and\\\n",
    "            is_bst(node.right, node.key, key_max)\n",
    "    else:\n",
    "        return False\n",
    "\n",
    "if __name__ == '__main__':\n",
    "    import unittest\n",
    "\n",
    "    class TestBst(unittest.TestCase):\n",
    "        def test_none(self):\n",
    "            self.assertTrue(is_bst(None))\n",
    "\n",
    "        def test_left_skewed(self):\n",
    "            \"\"\"\n",
    "                    8\n",
    "                   / \\\n",
    "                  3   *\n",
    "                 / \\\n",
    "                1   *\n",
    "               / \\\n",
    "              *   * \n",
    "            \"\"\"\n",
    "            root = Node(8, Node(3, Node(1, None, None), None), None)\n",
    "            self.assertTrue(is_bst(root))    \n",
    "\n",
    "        def test_right_skewed(self):\n",
    "            \"\"\"\n",
    "                    8\n",
    "                   / \\\n",
    "                  *  10\n",
    "                     / \\\n",
    "                    *  14\n",
    "            \"\"\"\n",
    "            root = Node(8, None, Node(10, None, Node(14, None, None)))\n",
    "            self.assertTrue(is_bst(root))\n",
    "\n",
    "        def test_bst(self):\n",
    "            \"\"\"\n",
    "                    8\n",
    "                   / \\\n",
    "                  3  10\n",
    "                 / \\ / \\\n",
    "                *  * *   *\n",
    "            \"\"\"\n",
    "            root = Node(8, Node(3, None, None), Node(10, None, None))\n",
    "            self.assertTrue(is_bst(root))\n",
    "\n",
    "        def test_non_bst(self):\n",
    "            \"\"\"\n",
    "                    10\n",
    "                   /  \\\n",
    "                  5   15\n",
    "                 / \\  / \\\n",
    "                *   *6   20\n",
    "                    / \\  / \\\n",
    "                   *   **   *\n",
    "            \"\"\"\n",
    "            root = Node(10,\n",
    "                Node(5, None, None),#left subtree\n",
    "                Node(15,            #right subtree\n",
    "                    Node(6, None, None), Node(20, None, None)))\n",
    "            self.assertFalse(is_bst(root))\n",
    "\n",
    "    unittest.main()"
   ]
  },
  {
   "cell_type": "code",
   "execution_count": null,
   "metadata": {
    "collapsed": true
   },
   "outputs": [],
   "source": [
    "# Definition for a binary tree node.\n",
    "# class TreeNode(object):\n",
    "#     def __init__(self, x):\n",
    "#         self.val = x\n",
    "#         self.left = None\n",
    "#         self.right = None\n",
    "\n",
    "class Solution(object):\n",
    "    def maxDepth(self, root):        \n",
    "        if root == None:\n",
    "            return 0        \n",
    "        else:\n",
    "            return max( self.maxDepth(root.left), self.maxDepth(root.right)) + 1                               \n",
    "        \n",
    "    \n",
    "    def isBalanced(self, root):\n",
    "        \"\"\"\n",
    "        :type root: TreeNode\n",
    "        :rtype: bool\n",
    "        \"\"\"\n",
    "        if root == None:\n",
    "            return True\n",
    "        \n",
    "        else:\n",
    "            if abs( self.maxDepth(root.left) - self.maxDepth(root.right) ) > 1:\n",
    "                return False\n",
    "            else:\n",
    "                return self.isBalanced(root.left) and self.isBalanced(root.right) "
   ]
  },
  {
   "cell_type": "code",
   "execution_count": null,
   "metadata": {
    "collapsed": true
   },
   "outputs": [],
   "source": []
  },
  {
   "cell_type": "code",
   "execution_count": 110,
   "metadata": {
    "collapsed": false
   },
   "outputs": [
    {
     "data": {
      "text/plain": [
       "5"
      ]
     },
     "execution_count": 110,
     "metadata": {},
     "output_type": "execute_result"
    }
   ],
   "source": [
    "# only single operation\n",
    "prices=[3, 2, 1, 4, 2, 5, 6]\n",
    "def maxProfit( prices):\n",
    "        max_profit, min_price = 0, float(\"inf\")\n",
    "        for price in prices:\n",
    "            min_price = min(min_price, price)\n",
    "            max_profit = max(max_profit, price - min_price)  \n",
    "        return max_profit\n",
    "maxProfit(prices)   "
   ]
  },
  {
   "cell_type": "code",
   "execution_count": 114,
   "metadata": {
    "collapsed": false
   },
   "outputs": [
    {
     "data": {
      "text/plain": [
       "865"
      ]
     },
     "execution_count": 114,
     "metadata": {},
     "output_type": "execute_result"
    }
   ],
   "source": [
    "# Multiple operation\n",
    "def maxProfit(prices):\n",
    "        profit = 0\n",
    "        for i in range(len(prices) - 1):\n",
    "            profit += max(0, prices[i + 1] - prices[i])     \n",
    "        return profit\n",
    "\n",
    "def maxProfit2(prices):\n",
    "        return sum(map(lambda x: max(prices[x + 1] - prices[x], 0), range(len(prices[:-1]))))\n",
    "#prices=[3, 2, 1, 4, 2, 5, 6]\n",
    "prices=[100, 180, 260, 310, 40, 535, 695] \n",
    "maxProfit(prices)\n",
    "maxProfit2(prices)"
   ]
  },
  {
   "cell_type": "code",
   "execution_count": null,
   "metadata": {
    "collapsed": true
   },
   "outputs": [],
   "source": []
  }
 ],
 "metadata": {
  "anaconda-cloud": {},
  "kernelspec": {
   "display_name": "Python [default]",
   "language": "python",
   "name": "python3"
  },
  "language_info": {
   "codemirror_mode": {
    "name": "ipython",
    "version": 3
   },
   "file_extension": ".py",
   "mimetype": "text/x-python",
   "name": "python",
   "nbconvert_exporter": "python",
   "pygments_lexer": "ipython3",
   "version": "3.5.2"
  }
 },
 "nbformat": 4,
 "nbformat_minor": 1
}
