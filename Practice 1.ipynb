{
 "cells": [
  {
   "cell_type": "markdown",
   "metadata": {},
   "source": [
    "### Generate permutation"
   ]
  },
  {
   "cell_type": "code",
   "execution_count": 7,
   "metadata": {
    "collapsed": false
   },
   "outputs": [
    {
     "name": "stdout",
     "output_type": "stream",
     "text": [
      "['1', '2', '3']\n",
      "['1', '3', '2']\n",
      "['2', '1', '3']\n",
      "['2', '3', '1']\n",
      "['3', '1', '2']\n",
      "['3', '2', '1']\n"
     ]
    }
   ],
   "source": [
    "def permutation(lst):\n",
    "    # If lst is empty then there are no permutations\n",
    "    if len(lst) == 0:\n",
    "        return []\n",
    "    # If there is only one element in lst then, only one permuatation is possible \n",
    "    if len(lst) == 1:\n",
    "        return [lst]\n",
    "    # Find the permutations for lst if there are more than 1 characters\n",
    "    l = [] # empty list that will store current permutation\n",
    "    # Iterate the input(lst) and calculate the permutation\n",
    "    for i in range(len(lst)):\n",
    "        m = lst[i]\n",
    "    # Extract lst[i] or m from the list.  remLst is remaining list\n",
    "        remLst = lst[:i] + lst[i+1:]\n",
    "    # Generating all permutations where m is first element\n",
    "        for p in permutation(remLst):\n",
    "            l.append([m] + p)\n",
    "    return l\n",
    " \n",
    "# Driver program to test above function\n",
    "data = list('123')\n",
    "for p in permutation(data):\n",
    "    print(p)"
   ]
  },
  {
   "cell_type": "markdown",
   "metadata": {},
   "source": [
    "### How to print maximum number of A’s using given four keys\n",
    "Imagine you have a special keyboard with the following keys:    \n",
    "Key 1:  Prints 'A' on screen   \n",
    "Key 2: (Ctrl-A): Select screen   \n",
    "Key 3: (Ctrl-C): Copy selection to buffer   \n",
    "Key 4: (Ctrl-V): Print buffer on screen appending it   \n",
    "                 after what has already been printed.   \n",
    "Input:  N = 7   \n",
    "Output: 9   \n",
    "We can at most get 9 As on screen by pressing following key sequence.   \n",
    "A, A, A, Ctrl A, Ctrl C, Ctrl V, Ctrl V   \n",
    "Note: a) For N < 7, the output is N itself. b) Ctrl V can be used multiple times to print current buffer\n",
    "\n",
    "The sequence of N keystrokes which produces an optimal string length will end with a suffix of Ctrl-A, a Ctrl-C, followed by only Ctrl-V's (For N > 6).\n",
    "The task is to find out the break=point after which we get the above suffix of keystrokes. Definition of a breakpoint is that instance after which we need to only press Ctrl-A, Ctrl-C once and the only Ctrl-V’s afterwards to generate the optimal length. If we loop from N-3 to 1 and choose each of these values for the break-point, and compute that optimal string they would produce."
   ]
  },
  {
   "cell_type": "code",
   "execution_count": 12,
   "metadata": {
    "collapsed": false
   },
   "outputs": [
    {
     "name": "stdout",
     "output_type": "stream",
     "text": [
      "9\n"
     ]
    }
   ],
   "source": [
    "def count_a(n_times):\n",
    "    if n_times < 7:\n",
    "        return n_times\n",
    "\n",
    "    T = [0 for _ in range(n_times + 1)]\n",
    "\n",
    "    for num in range(7):\n",
    "        T[num] = num\n",
    "    # For any keystroke N, we need to loop from N-3 keystrokes back to 1 keystroke to find a breakpoint 'b' after which we\n",
    "    # will have Ctrl-A, Ctrl-C and then only Ctrl-V all the way.\n",
    "    for n in range(7, n_times + 1):\n",
    "        # If the breakpoint is s at b'th keystroke then the optimal string would have length (n-b-1)* T[b];\n",
    "        for b in range(n - 3, 0, -1):\n",
    "            T[n] = max(T[n], T[b] * (n - b - 1))\n",
    "    return T[n_times]\n",
    "\n",
    "\n",
    "if __name__ == '__main__':\n",
    "    expected = 9\n",
    "    assert expected == count_a(7)\n",
    "print(count_a(7))"
   ]
  },
  {
   "cell_type": "markdown",
   "metadata": {},
   "source": [
    "#### Given a positive integer N, count all the numbers from 1 to 2^N, whose binary representation does not have consecutive 1s.\n",
    "This is a simple application of fibonacci series.  https://www.youtube.com/watch?v=a9-NtLIs1Kk\n",
    "Complexity \n",
    "* Runtime Complexity: O(n)"
   ]
  },
  {
   "cell_type": "code",
   "execution_count": 13,
   "metadata": {
    "collapsed": false
   },
   "outputs": [
    {
     "name": "stdout",
     "output_type": "stream",
     "text": [
      "13\n"
     ]
    }
   ],
   "source": [
    "def consec_one(num_n):\n",
    "    f1 = f2 = 1\n",
    "    for _ in range(num_n):\n",
    "        f1, f2 = f1 + f2, f1\n",
    "    return f1\n",
    "num_n = 5\n",
    "print(consec_one(5))\n"
   ]
  },
  {
   "cell_type": "markdown",
   "metadata": {},
   "source": [
    "### Cutting a Rod\n",
    "Given a rod of length n inches and an array of prices that contains prices of all pieces of size smaller than n. Determine the maximum value obtainable by cutting up the rod and selling the pieces. For example, if length of the rod is 8 and the values of different pieces are given as following, then the maximum obtainable value is 22 (by cutting in two pieces of lengths 2 and 6)\n",
    "\n",
    "length   | 1   2   3   4   5   6   7   8  \n",
    "price    | 1   5   8   9  10  17  17  20   \n",
    "And if the prices are as following, then the maximum obtainable value is 24 (by cutting in eight pieces of length 1)\n",
    "\n",
    "length   | 1   2   3   4   5   6   7   8     \n",
    "price    | 3   5   8   9  10  17  17  20  \n",
    "We can get the best price by making a cut at different positions and comparing the values obtained after a cut. Let cutRoad(n) be the required (best possible price) value for a rod of lenght n. cutRod(n) can be written as following. cutRod(n) = max(price[i] + cutRod(n-i-1)) for all i in {0, 1 .. n-1}   \n",
    "We will use Dynamic programming for this problem, time complexity O(n^2) "
   ]
  },
  {
   "cell_type": "code",
   "execution_count": 16,
   "metadata": {
    "collapsed": false
   },
   "outputs": [
    {
     "name": "stdout",
     "output_type": "stream",
     "text": [
      "22\n",
      "26\n"
     ]
    }
   ],
   "source": [
    "def max_profit_dp(prices):\n",
    "    rod_length = len(prices)\n",
    "    rod_length_values = [0 for _ in range(rod_length + 1)]\n",
    "\n",
    "    for length in range(1, rod_length + 1):\n",
    "        max_value = float(\"-inf\")\n",
    "        for cut_length in range(1, length + 1):\n",
    "            max_value = max(max_value, prices[cut_length - 1] + rod_length_values[length - cut_length])\n",
    "        rod_length_values[length] = max_value\n",
    "\n",
    "    return rod_length_values[rod_length]\n",
    "\n",
    "prices= [1, 5, 8, 9, 10, 17, 17, 20]\n",
    "print(max_profit_dp(prices))\n",
    "prices = [3,5,8,9,10,20,22,25]\n",
    "print(max_profit_dp(prices))"
   ]
  },
  {
   "cell_type": "markdown",
   "metadata": {},
   "source": [
    "### Dice throw: Given n dice each with m faces, numbered from 1 to m, find the number of ways to get sum X. X is the summation of values on each face when all the dice are thrown.\n",
    "\n",
    "Let the function to find X from n dice is: Sum(m, n, X)\n",
    "The function can be represented as:\n",
    "Sum(m, n, X) = Finding Sum (X - 1) from (n - 1) dice plus 1 from nth dice   \n",
    "               + Finding Sum (X - 2) from (n - 1) dice plus 2 from nth dice   \n",
    "               + Finding Sum (X - 3) from (n - 1) dice plus 3 from nth dice   \n",
    "                 \n",
    "            + Finding Sum (X - m) from (n - 1) dice plus m from nth dice   \n",
    "\n",
    "So we can recursively write Sum(m, n, x) as following   \n",
    "Sum(m, n, X) = Sum(m, n - 1, X - 1) +    \n",
    "               Sum(m, n - 1, X - 2) +   \n",
    "                \n",
    "               Sum(m, n - 1, X - m   \n"
   ]
  },
  {
   "cell_type": "code",
   "execution_count": 17,
   "metadata": {
    "collapsed": true
   },
   "outputs": [],
   "source": [
    "def num_ways(faces, dices, sumX):\n",
    "    \"\"\"O(m * n * x) where m is number of faces, n is number of dice and x is given sum.\"\"\"\n",
    "    T = [[0 for _ in range(sumX + 1)] for _ in range(dices + 1)]\n",
    "    # For a single dice\n",
    "    for face_value in range(1, faces + 1):\n",
    "        if face_value <= sumX:\n",
    "            T[1][face_value] = 1\n",
    "\n",
    "    for dice in range(2, dices + 1):\n",
    "        for partial_sum in range(1, sumX + 1):\n",
    "            for face_value in range(1, faces + 1):\n",
    "                if face_value < partial_sum:\n",
    "                    T[dice][partial_sum] += T[dice - 1][partial_sum - face_value]\n",
    "\n",
    "    return T[dices][sumX]\n",
    "\n",
    "\n",
    "if __name__ == '__main__':\n",
    "    assert 7 == num_ways(3, 3, 6)"
   ]
  },
  {
   "cell_type": "markdown",
   "metadata": {
    "collapsed": true
   },
   "source": [
    "### Minimum Edit Distance Dynamic Programming \n",
    "http://www.geeksforgeeks.org/printing-brackets-matrix-chain-multiplication-problem/"
   ]
  },
  {
   "cell_type": "code",
   "execution_count": null,
   "metadata": {
    "collapsed": true
   },
   "outputs": [],
   "source": [
    "def min_edit_distance(str1, str2):\n",
    "    rows = len(str2) + 1\n",
    "    cols = len(str1) + 1\n",
    "    T = [[0 for _ in range(cols)] for _ in range(rows)]\n",
    "    for j in range(cols):\n",
    "        T[0][j] = j\n",
    "    for i in range(rows):\n",
    "        T[i][0] = i\n",
    "    for i in range(1, rows):\n",
    "        for j in range(1, cols):\n",
    "            if str2[i - 1] == str1[j - 1]:\n",
    "                T[i][j] = T[i - 1][j - 1]\n",
    "            else:\n",
    "                T[i][j] = 1 + min(T[i - 1][j - 1], T[i - 1][j], T[i][j - 1])\n",
    "\n",
    "    print_edits(T, str1, str2)\n",
    "    return T[rows - 1][cols - 1]\n",
    "str1=\n",
    "str2=\n",
    "print(min_edit_distance(str1, str2))"
   ]
  },
  {
   "cell_type": "markdown",
   "metadata": {},
   "source": [
    "### 0/1 Knapsack problem\n",
    "https://github.com/madcat1991/knapsack"
   ]
  },
  {
   "cell_type": "code",
   "execution_count": 9,
   "metadata": {
    "collapsed": false
   },
   "outputs": [
    {
     "name": "stdout",
     "output_type": "stream",
     "text": [
      "220\n"
     ]
    }
   ],
   "source": [
    "def knapsack(wt, val,total):\n",
    "    n= len(val)\n",
    "    dp = [[0 for x in range(total+1)] for x in range(n+1)]\n",
    "    for i in range(n+1):\n",
    "        for w in range(total+1):\n",
    "            if i==0 or w==0:\n",
    "                dp[i][w] = 0\n",
    "            elif w >= wt[i-1]:\n",
    "                dp[i][w] = max(val[i-1] + dp[i-1][w-wt[i-1]],  dp[i-1][w])\n",
    "            else:\n",
    "                dp[i][w] = dp[i-1][w]\n",
    " \n",
    "    return dp[n][total]\n",
    " \n",
    "# Driver program to test above function\n",
    "val = [100,60, 120]\n",
    "wt = [ 20,10, 30]\n",
    "total = 50\n",
    "n = len(val)\n",
    "print(knapsack(wt, val, total))"
   ]
  },
  {
   "cell_type": "markdown",
   "metadata": {},
   "source": [
    "### Fractial knapsack\n",
    "https://codereview.stackexchange.com/questions/150677/knapsack-greedy-algorithm-in-python/150891"
   ]
  },
  {
   "cell_type": "code",
   "execution_count": 12,
   "metadata": {
    "collapsed": false
   },
   "outputs": [
    {
     "name": "stdout",
     "output_type": "stream",
     "text": [
      "180.0\n"
     ]
    }
   ],
   "source": [
    "import sys\n",
    "def fractialKnapsack(capacity, weights, values):\n",
    "    finalValue = 0\n",
    "    a=0\n",
    "    A=[0]*len(weights)\n",
    "    densities = sorted([[values[i] /float( weights[i]), weights[i]] for i in range(len(weights))], reverse=True)\n",
    "\n",
    "    #while (capacity >0 and densities):\n",
    "    for i, v in enumerate(densities):\n",
    "        a= min(capacity, densities[i][1])\n",
    "        #print(a)\n",
    "        finalValue += a*densities[i][0]\n",
    "        capacity -= a\n",
    "\n",
    "    return finalValue\n",
    "capacity= 50\n",
    "weights = [20, 50, 30]\n",
    "values = [60, 100, 120]\n",
    "print(fractialKnapsack(capacity, weights, values))"
   ]
  },
  {
   "cell_type": "markdown",
   "metadata": {},
   "source": [
    "### Given set of jobs with start and end interval and profit, how to maximize profit such that jobs in subset do not\n",
    "overlap. Runtime Complexity: O(n^2) and Space Complexity: O(n)   \n",
    "http://www.cs.princeton.edu/courses/archive/spr05/cos423/lectures/06dynamic-programming.pdf\n",
    "http://www.geeksforgeeks.org/weighted-job-scheduling/"
   ]
  },
  {
   "cell_type": "code",
   "execution_count": 15,
   "metadata": {
    "collapsed": false
   },
   "outputs": [
    {
     "name": "stdout",
     "output_type": "stream",
     "text": [
      "17\n"
     ]
    }
   ],
   "source": [
    "def can_sequence(job1, job2):\n",
    "    _, job1_finish_time = job1\n",
    "    job2_start_time, _ = job2\n",
    "    return job1_finish_time <= job2_start_time\n",
    "\n",
    "def find_max_profit(jobs):\n",
    "    sequenced_jobs = sorted(jobs.keys(), key=lambda x: x[1])\n",
    "    T = [jobs[job_key] for job_key in sequenced_jobs]\n",
    "    num_jobs = len(sequenced_jobs)\n",
    "\n",
    "    for j in range(1, num_jobs):\n",
    "        for i in range(0, j):\n",
    "            if can_sequence(sequenced_jobs[i], sequenced_jobs[j]):\n",
    "                T[j] = max(T[j], T[i] + jobs[sequenced_jobs[j]])\n",
    "\n",
    "    return max(T)\n",
    "\n",
    "\n",
    "if __name__ == '__main__':\n",
    "    jobs = {\n",
    "        (1, 3): 5,      # (start_time, end_time, total_cost)\n",
    "        (2, 5): 6,\n",
    "        (4, 6): 5,\n",
    "        (6, 7): 4,\n",
    "        (5, 8): 11,\n",
    "        (7, 9): 2\n",
    "    }\n",
    "\n",
    "assert 17 == find_max_profit(jobs)\n",
    "print(find_max_profit(jobs))"
   ]
  },
  {
   "cell_type": "markdown",
   "metadata": {},
   "source": [
    "### Job sequence problem\n",
    "http://www.geeksforgeeks.org/job-sequencing-problem-set-1-greedy-algorithm/\n",
    "Given an array of jobs where every job has a deadline and associated profit if the job is finished before the deadline. It is also given that every job takes single unit of time, so the minimum possible deadline for any job is 1. How to maximize total profit if only one job can be scheduled at a time. Examples:  \n",
    "\n",
    "Input: Four Jobs with following deadlines and profits  \n",
    "  JobID    Deadline      Profit   \n",
    "    a        4            20      \n",
    "    b        1            10   \n",
    "    c        1            40      \n",
    "    d        1            30   \n",
    "Output: Following is maximum profit sequence of jobs  c, a   "
   ]
  },
  {
   "cell_type": "code",
   "execution_count": 11,
   "metadata": {
    "collapsed": false
   },
   "outputs": [
    {
     "name": "stdout",
     "output_type": "stream",
     "text": [
      "c\n",
      "a\n"
     ]
    }
   ],
   "source": [
    "def printJobScheduling(jobs):\n",
    "    n= len(jobs)\n",
    "    jobs = sorted(jobs.items(), key=lambda x: x[1],reverse=True) #Sort all jobs according to decreasing order of prfit\n",
    "    dmax=0\n",
    "    for job,_ in jobs:\n",
    "        if job[1]> dmax: \n",
    "            dmax=job[1]\n",
    "    slot = [-1] * dmax\n",
    "\n",
    "    filledTimeSlot = 0\n",
    "    for i in range(1,n+1):\n",
    "        k = min(dmax, jobs[i - 1][0][1])\n",
    "        while (k >= 1) :\n",
    "            if(slot[k-1] == -1) :\n",
    "                slot[k-1] = i-1\n",
    "                filledTimeSlot +=1\n",
    "                break\n",
    "            k-=1\n",
    "    # if all time slots are filled then stop\n",
    "        if (filledTimeSlot == dmax) :\n",
    "            break\n",
    "    for i in range(dmax):\n",
    "        if slot[i] > -1:\n",
    "            print( jobs[slot[i]][0][0])\n",
    "\n",
    "jobs = {\n",
    "        ('a', 4): 20,      # (id, deadline, total_cost)\n",
    "        ('b', 1): 10,\n",
    "        ('c', 1): 40,\n",
    "        ('d', 1): 30,\n",
    "         }\n",
    "printJobScheduling(jobs)"
   ]
  },
  {
   "cell_type": "code",
   "execution_count": 2,
   "metadata": {
    "collapsed": false
   },
   "outputs": [
    {
     "name": "stdout",
     "output_type": "stream",
     "text": [
      "c\n",
      "a\n"
     ]
    }
   ],
   "source": [
    "jobs = {\n",
    "        ('a', 4): 20,      # (id, deadline, profit)\n",
    "        ('b', 1): 10,\n",
    "        ('c', 1): 40,\n",
    "        ('d', 1): 30,\n",
    "         }\n",
    "n= len(jobs)\n",
    "jobs = sorted(jobs.items(), key=lambda x: x[1],reverse=True) #Sort all jobs according to decreasing order of prfit\n",
    "dmax=0\n",
    "for job,_ in jobs:\n",
    "    if job[1]> dmax: \n",
    "        dmax=job[1]\n",
    "slot = [-1] * dmax\n",
    "\n",
    "filledTimeSlot = 0\n",
    "for i in range(1,n+1):\n",
    "    k = min(dmax, jobs[i - 1][0][1])\n",
    "\n",
    "   \n",
    "    while (k >= 1) :\n",
    "        if(slot[k-1] == -1) :\n",
    "            slot[k-1] = i-1\n",
    "            filledTimeSlot +=1\n",
    "            break;\n",
    "        k-=1\n",
    "    # if all time slots are filled then stop\n",
    "    if(filledTimeSlot == dmax) :\n",
    "        break\n",
    "for i in range(dmax):\n",
    "    if slot[i] > -1:\n",
    "        print( jobs[slot[i]][0][0])\n"
   ]
  },
  {
   "cell_type": "markdown",
   "metadata": {
    "collapsed": true
   },
   "source": [
    "### Find maximum sum rectangle in give 2D matrix given at least one positive number in the 2D matrix.\n",
    "http://www.geeksforgeeks.org/dynamic-programming-set-27-max-sum-rectangle-in-a-2d-matrix/\n",
    "The naive solution for this problem is to check every possible rectangle in given 2D array. This solution requires 4 nested loops and time complexity of this solution would be O(n^4).\n",
    "\n",
    "Kadane’s algorithm for 1D array can be used to reduce the time complexity to O(n^3). The idea is to fix the left and right columns one by one and find the maximum sum contiguous rows for every left and right column pair.  \n",
    "Solution:\n",
    "--------\n",
    "\n",
    "* Keep temp array with size as number of rows. Start left and right from 0 and keep adding values for each row and\n",
    "  maintain them in this temp array.\n",
    "* Run Kadane's algorithm to find max sum subarray in temp. Now increment right by 1.\n",
    "* When right reaches last column reset right to 1 and left to 1.\n",
    "\n",
    "Analysis\n",
    "--------\n",
    "* Space complexity of this algorithm is O(row)\n",
    "* Time complexity of this algorithm is O(row*col*col)"
   ]
  },
  {
   "cell_type": "code",
   "execution_count": 4,
   "metadata": {
    "collapsed": false
   },
   "outputs": [
    {
     "name": "stdout",
     "output_type": "stream",
     "text": [
      "Result(maxSum=18, leftBound=1, rightBound=3, upBound=1, lowBound=3)\n"
     ]
    }
   ],
   "source": [
    "from collections import namedtuple\n",
    "Result = namedtuple(\"Result\",\"maxSum leftBound rightBound upBound lowBound\")\n",
    "KadanesResult = namedtuple(\"KadanesResult\",\"maxSum start end\")\n",
    "\n",
    "def kadanes(temp):\n",
    "    max = 0\n",
    "    maxStart = -1\n",
    "    maxEnd = -1\n",
    "    currentStart = 0\n",
    "    maxSoFar = 0\n",
    "    for i in range(0, len(temp)):\n",
    "        maxSoFar += temp[i]\n",
    "        if maxSoFar < 0:\n",
    "            maxSoFar = 0\n",
    "            currentStart = i + 1\n",
    "\n",
    "        if maxSoFar > max:\n",
    "            maxStart = currentStart\n",
    "            maxEnd = i\n",
    "            max = maxSoFar\n",
    "    return KadanesResult(max, maxStart, maxEnd)\n",
    "\n",
    "def max_sub_rectangle(rectangle):\n",
    "    rows = len(rectangle)\n",
    "    cols = len(rectangle[0])\n",
    "    result = Result(float(\"-inf\"), -1, -1, -1, -1)\n",
    "    for left in range(cols):\n",
    "        temp = [0 for _ in range(rows)]\n",
    "        for right in range(left, cols):\n",
    "            for i in range(rows):\n",
    "                temp[i] += rectangle[i][right]\n",
    "            kadanes_result = kadanes(temp)\n",
    "            if kadanes_result.maxSum > result.maxSum:\n",
    "                result = Result(kadanes_result.maxSum, left, right, kadanes_result.start, kadanes_result.end)\n",
    "    return result\n",
    "\n",
    "if __name__ == '__main__':\n",
    "    rectangle = [[2,  1, -3, -4,  5],\n",
    "                 [0,  6,  3,  4,  1],\n",
    "                 [2, -2, -1,  4, -5],\n",
    "                 [-3,  3,  1,  0,  3]]\n",
    "\n",
    "    result = max_sub_rectangle(rectangle)\n",
    "    assert 18 == result.maxSum\n",
    "    print(result)\n"
   ]
  },
  {
   "cell_type": "markdown",
   "metadata": {},
   "source": [
    "### Largest Rectangular Area in a Histogram\n",
    "http://www.geeksforgeeks.org/largest-rectangular-area-in-a-histogram-set-1/\n",
    "https://stackoverflow.com/questions/4311694/maximize-the-rectangular-area-under-histogram\n",
    "First observation:   \n",
    "To find the maximal rectangle, if for every bar x, we know the first smaller bar on its each side, let's say l and r, we are certain that height[x] * (r - l - 1) is the best shot we can get by using height of bar x. In the figure below, 1 and 2 are the first smaller of 5.\n",
    "Then, the question comes: for every bar, can we really find the first smaller bar on its left and on its right in O(1) time? It is possible, by using a increasing stack. Why using an increasing stack can keep track of the first smaller on its left and right?\n"
   ]
  },
  {
   "cell_type": "code",
   "execution_count": 3,
   "metadata": {
    "collapsed": false
   },
   "outputs": [
    {
     "name": "stdout",
     "output_type": "stream",
     "text": [
      "6\n",
      "9\n"
     ]
    }
   ],
   "source": [
    "def largestRectangleArea(A):\n",
    "    ans = 0\n",
    "    A = [-1] + A\n",
    "    A.append(-1)\n",
    "    n = len(A)\n",
    "    stack = [0]  # store index\n",
    "\n",
    "    for i in range(n):\n",
    "        while A[i] < A[stack[-1]]:\n",
    "            h = A[stack.pop()]\n",
    "            area = h*(i-stack[-1]-1)\n",
    "            ans = max(ans, area)\n",
    "        stack.append(i)\n",
    "    return ans\n",
    "a=[5,3,1]\n",
    "print(largestRectangleArea(a))\n",
    "a=[4,8,3,2,0]\n",
    "print(largestRectangleArea(a))"
   ]
  },
  {
   "cell_type": "code",
   "execution_count": 4,
   "metadata": {
    "collapsed": false
   },
   "outputs": [
    {
     "name": "stdout",
     "output_type": "stream",
     "text": [
      "9\n"
     ]
    }
   ],
   "source": [
    "from collections import namedtuple\n",
    "Info = namedtuple('Info', 'start height')\n",
    "def max_rectangle_area(histogram):\n",
    "    \"\"\"Find the area of the largest rectangle that fits entirely under the histogram.\n",
    "    \"\"\"\n",
    "    stack = []\n",
    "    top = lambda: stack[-1]\n",
    "    max_area = 0\n",
    "    pos = 0 # current position in the histogram\n",
    "    for pos, height in enumerate(histogram):\n",
    "        start = pos # position where rectangle starts\n",
    "        while True:\n",
    "            if not stack or height > top().height:\n",
    "                stack.append(Info(start, height)) # push\n",
    "            elif stack and height < top().height:\n",
    "                max_area = max(max_area, top().height*(pos-top().start))\n",
    "                start, _ = stack.pop()\n",
    "                continue\n",
    "            break # height == top().height goes here\n",
    "\n",
    "    pos += 1\n",
    "    for start, height in stack:\n",
    "        max_area = max(max_area, height*(pos-start))\n",
    "\n",
    "    return max_area\n",
    "hist=[4,8,3,2,0]\n",
    "print(max_rectangle_area(hist))"
   ]
  },
  {
   "cell_type": "markdown",
   "metadata": {},
   "source": [
    "### Trapping Rain Water between Towers\n",
    "an array where each element represents height of a tower. If it starts raining, what is the amount of water that can be collected between the towers? Assumption is that the width of every tower is 1.\n",
    "Example: Input  - {1,5,2,3,1,7,2} Output - 11\n",
    "Algo: Using two array: MaxSeenRight, MaxSeeLeft s.t\n",
    "maxAmountOfRainWaterOnCurrentTower = 0 (there is no tower on left of current tower with more height || there is no tower on right of current tower with more height) = (Min(MaxHeightOfTowerOnLeft, MaxHeightOfTowerOnRight) - currentTowerHeight)   \n",
    "Joining above conditions:   \n",
    "maxAmountOfRainWaterOnCurrentTower = Max(Min(MaxHeightOfTowerOnLeft, MaxHeightOfTowerOnRight) - currentTowerHeight, 0)   \n",
    "for each tower:   \n",
    "rainWater = rainWater + max(min(maxSeenLeft[i],maxSeenRight[i])-towerHeight[i],0)   \n",
    "Refer: http://www.ideserve.co.in/learn/trapping-rain-water-between-towers\n"
   ]
  },
  {
   "cell_type": "code",
   "execution_count": 12,
   "metadata": {
    "collapsed": false
   },
   "outputs": [
    {
     "name": "stdout",
     "output_type": "stream",
     "text": [
      "11\n"
     ]
    }
   ],
   "source": [
    "def computeWaterTrapped(towerHeight):\n",
    "    maxSeenSoFar= 0\n",
    "    maxSeenLeft =0\n",
    "    maxSeenRight= [0]* len(towerHeight)\n",
    "    rainWater =0\n",
    "    for i in range(len(towerHeight)-1,-1,-1):\n",
    "        if towerHeight[i] > maxSeenSoFar :\n",
    "            maxSeenSoFar = towerHeight[i]\n",
    "            maxSeenRight[i] = maxSeenSoFar\n",
    "        else:\n",
    "            maxSeenRight[i] = maxSeenSoFar\n",
    "            \n",
    "    for i in range(len(towerHeight)) :\n",
    "        rainWater = rainWater + max(min(maxSeenLeft,maxSeenRight[i])-towerHeight[i],0)\n",
    "        if towerHeight[i]> maxSeenLeft:\n",
    "            maxSeenLeft = towerHeight[i]\n",
    "    return rainWater\n",
    "\n",
    "towerHeight=[1,5,2,3,1,7,2,4]\n",
    "print(computeWaterTrapped(towerHeight))\n",
    "            "
   ]
  },
  {
   "cell_type": "markdown",
   "metadata": {},
   "source": [
    "###  Find Length Unsorted Subarray to make entire array sorted\n",
    "e.g: 10, 12 ,20,30,25,40,32,31,35,50,60    we may see that "
   ]
  },
  {
   "cell_type": "code",
   "execution_count": 24,
   "metadata": {
    "collapsed": false
   },
   "outputs": [
    {
     "name": "stdout",
     "output_type": "stream",
     "text": [
      "6\n"
     ]
    },
    {
     "data": {
      "text/plain": [
       "25"
      ]
     },
     "execution_count": 24,
     "metadata": {},
     "output_type": "execute_result"
    }
   ],
   "source": [
    "arr=[0, 12 ,20,30,25,40,32,31,35,50,60 ]\n",
    "\n",
    "s=0 \n",
    "n= len(arr)\n",
    "while s< n-1 and arr[s]< arr[s+1]:\n",
    "    s +=1\n",
    "e= n-1\n",
    "while e >0 and arr[e] > arr[e-1]:\n",
    "    e -=1\n",
    "\n",
    "mine,maxe= min(arr[s:e]),max(arr[s:e])\n",
    "i=0\n",
    "while i < s and arr[i] < mine:\n",
    "    i +=1\n",
    "if i<s: \n",
    "    s = i\n",
    "i= e +1    \n",
    "while i < len(arr) and arr[i] > maxe:\n",
    "    i +=1\n",
    "if i < len(arr): \n",
    "    e = i  \n",
    "print(e-s +1)\n"
   ]
  },
  {
   "cell_type": "markdown",
   "metadata": {},
   "source": [
    "### Maximum size rectangle binary sub-matrix with all 1s\n",
    "The idea is to update each column of a given row with corresponding column of previous row and find largest histogram area for for that row.    \n",
    "Step 1: Find maximum area for row[0]   \n",
    "Step 2:   \n",
    "    for each row in 1 to N - 1   \n",
    "        for each column in that row   \n",
    "            if A[row][column] == 1   \n",
    "              update A[row][column] with   \n",
    "                A[row][column] += A[row - 1][column]   \n",
    "    find area for that row   \n",
    "    and update maximum area so far    step 1:    0 1 1 0  maximum area  = 2   \n",
    "step 1:    0 1 1 0  maximum area  = 2    \n",
    "step 2:   \n",
    "    row 1  1 2 2 1  area = 4, maximum area becomes 4   \n",
    "    row 2  2 3 3 2  area = 8, maximum area becomes 8   \n",
    "    row 3  3 4 0 0  area = 6, maximum area remains 8   "
   ]
  },
  {
   "cell_type": "code",
   "execution_count": 3,
   "metadata": {
    "collapsed": false
   },
   "outputs": [
    {
     "data": {
      "text/plain": [
       "8"
      ]
     },
     "execution_count": 3,
     "metadata": {},
     "output_type": "execute_result"
    }
   ],
   "source": [
    "def maxHist(A):\n",
    "    ans = 0\n",
    "    A = [-1] + A\n",
    "    A.append(-1)\n",
    "    n = len(A)\n",
    "    stack = [0]  # store index\n",
    "\n",
    "    for i in range(n):\n",
    "        while A[i] < A[stack[-1]]:\n",
    "            h = A[stack.pop()]\n",
    "            area = h*(i-stack[-1]-1)\n",
    "            ans = max(ans, area)\n",
    "        stack.append(i)\n",
    "    return ans\n",
    "\n",
    "def maxRectangle(A):\n",
    "    # Calculate area for first row and initialize it as\n",
    "    result = maxHist(A[0])\n",
    "    #iterate over row to find maximum rectangular area considering each row as histogram\n",
    "    for i in range(1,len(A)): \n",
    "        for j in range(len(A[0])) :\n",
    "            if A[i][j]==1:\n",
    "                A[i][j] += A[i - 1][j]\n",
    "        result = max(result, maxHist(A[i]))\n",
    "    return result;\n",
    "A= [[0, 1, 1, 0],\n",
    "    [1, 1, 1, 1],\n",
    "    [1, 1, 1, 1],\n",
    "    [1, 1, 0, 0]]\n",
    "maxRectangle(A)"
   ]
  },
  {
   "cell_type": "markdown",
   "metadata": {},
   "source": [
    "### Matrix Chain Multiplication\n",
    "http://www.geeksforgeeks.org/dynamic-programming-set-8-matrix-chain-multiplication/"
   ]
  },
  {
   "cell_type": "code",
   "execution_count": 9,
   "metadata": {
    "collapsed": false
   },
   "outputs": [
    {
     "name": "stdout",
     "output_type": "stream",
     "text": [
      "Minimum number of multiplications is 18\n"
     ]
    }
   ],
   "source": [
    "import sys\n",
    "def MatrixChainOrder(p, n):\n",
    "    # For simplicity of the program, one extra row and one extra column are allocated in m[][].  0th row and 0th\n",
    "    # column of m[][] are not used\n",
    "    m = [[0 for x in range(n)] for x in range(n)]\n",
    " \n",
    "    # m[i,j] = Minimum number of scalar multiplications needed to compute the matrix A[i]A[i+1]...A[j] = A[i..j] where\n",
    "    # dimension of A[i] is p[i-1] x p[i]. cost is zero when multiplying one matrix.\n",
    "    for i in range(1, n):\n",
    "        m[i][i] = 0\n",
    " \n",
    "    # L is chain length.\n",
    "    for L in range(2, n):\n",
    "        for i in range(1, n-L+1):\n",
    "            j = i+L-1\n",
    "            m[i][j] = sys.maxsize\n",
    "            for k in range(i, j):\n",
    " \n",
    "                # q = cost/scalar multiplications\n",
    "                q = m[i][k] + m[k+1][j] + p[i-1]*p[k]*p[j]\n",
    "                if q < m[i][j]:\n",
    "                    m[i][j] = q\n",
    " \n",
    "    return m[1][n-1]\n",
    " \n",
    "# Driver program to test above function\n",
    "arr = [1, 2, 3 ,4]\n",
    "size = len(arr)\n",
    " \n",
    "print(\"Minimum number of multiplications is \" +  str(MatrixChainOrder(arr, size)))"
   ]
  },
  {
   "cell_type": "code",
   "execution_count": 32,
   "metadata": {
    "collapsed": true
   },
   "outputs": [],
   "source": [
    "### coin change Dynamic programming"
   ]
  },
  {
   "cell_type": "code",
   "execution_count": 31,
   "metadata": {
    "collapsed": false
   },
   "outputs": [
    {
     "name": "stdout",
     "output_type": "stream",
     "text": [
      "2\n"
     ]
    }
   ],
   "source": [
    "def min_coins(coins, total):\n",
    "    cols = total + 1\n",
    "    rows = len(coins)\n",
    "    T = [[0 if col == 0 else float(\"inf\") for col in range(cols)] for _ in range(rows)]\n",
    "\n",
    "    for i in range(rows):\n",
    "        for j in range(1, cols):\n",
    "            if j < coins[i]:\n",
    "                T[i][j] = T[i - 1][j]\n",
    "            else:\n",
    "                T[i][j] = min(T[i - 1][j], 1 + T[i][j - coins[i]])\n",
    "\n",
    "    return T[rows - 1][cols - 1]\n",
    "\n",
    "coins = [1, 5, 6, 8]\n",
    "total = 11\n",
    "\n",
    "print(min_coins(coins, total))"
   ]
  },
  {
   "cell_type": "code",
   "execution_count": 46,
   "metadata": {
    "collapsed": false
   },
   "outputs": [
    {
     "name": "stdout",
     "output_type": "stream",
     "text": [
      "Making change for 63 requires\n",
      "They are:\n",
      "21\n",
      "21\n",
      "21\n"
     ]
    }
   ],
   "source": [
    "def dpMakeChange(coinValues,change):\n",
    "    minCoins = [0]*(change+1)\n",
    "    coinsUsed = [0]*(change+1)\n",
    "    for amount in range(change+1):\n",
    "        coinCount = amount\n",
    "        newCoin = 1\n",
    "        for j in [c for c in coinValues if c <= amount]:\n",
    "            if minCoins[amount-j] + 1 < coinCount:\n",
    "                coinCount = minCoins[amount-j]+1\n",
    "                newCoin = j\n",
    "        minCoins[amount] = coinCount\n",
    "        coinsUsed[amount] = newCoin\n",
    "    return minCoins[change],coinsUsed\n",
    "\n",
    "def printCoins(coinsUsed,change):\n",
    "    coin = change\n",
    "    while coin > 0:\n",
    "        thisCoin = coinsUsed[coin]\n",
    "        print(thisCoin)\n",
    "        coin = coin - thisCoin\n",
    "\n",
    "amnt = 63\n",
    "coins = [1,5,10,21,25]\n",
    "\n",
    "coins,coinsUsed=dpMakeChange(coins,amnt)\n",
    "print(\"Making change for\",amnt,\"requires\")\n",
    "print(\"They are:\")\n",
    "printCoins(coinsUsed,amnt)\n"
   ]
  },
  {
   "cell_type": "code",
   "execution_count": null,
   "metadata": {
    "collapsed": true
   },
   "outputs": [],
   "source": []
  }
 ],
 "metadata": {
  "anaconda-cloud": {},
  "kernelspec": {
   "display_name": "Python [default]",
   "language": "python",
   "name": "python3"
  },
  "language_info": {
   "codemirror_mode": {
    "name": "ipython",
    "version": 3
   },
   "file_extension": ".py",
   "mimetype": "text/x-python",
   "name": "python",
   "nbconvert_exporter": "python",
   "pygments_lexer": "ipython3",
   "version": "3.5.2"
  }
 },
 "nbformat": 4,
 "nbformat_minor": 1
}
