{
 "cells": [
  {
   "cell_type": "markdown",
   "metadata": {},
   "source": [
    "# Practice 3\n",
    "http://practice.geeksforgeeks.org/problems/sort-an-array-of-0s-1s-and-2s/0"
   ]
  },
  {
   "cell_type": "markdown",
   "metadata": {},
   "source": [
    "###  Palindrom substring\n",
    "We perform a \"center expansion\" among all possible centers of the palindrome. Let N = len(S). There are 2N-1 possible centers for the palindrome: we could have a center at S[0], between S[0] and S[1], at S[1], between S[1] and S[2], at S[2], etc.\n",
    "\n",
    "To iterate over each of the 2N-1 centers, we will move the left pointer every 2 times, and the right pointer every 2 times starting with the second (index 1). Hence, left = center / 2, right = center / 2 + center % 2.\n",
    "\n",
    "From here, finding every palindrome starting with that center is straightforward: while the ends are valid and have equal characters, record the answer and expand.   \n",
    "* Step 1: Finding all palindromes using modified Manacher’s algorithm:   \n",
    "Considering each character as a pivot, expand on both sides to find the length of both even and odd length palindromes centered at the pivot character under consideration and store the length in the 2 arrays (odd & even).\n",
    "Time complexity for this step is O(n^2)   \n",
    "* Step 2: Inserting all the found palindromes in a HashMap:   \n",
    "Insert all the palindromes found from the previous step into a HashMap. Also insert all the individual characters from the string into the HashMap (to generate distinct single letter palindromic sub-strings).\n",
    "Time complexity of this step is O(n^3) assuming that the hash insert search takes O(1) time.   \n",
    "* Step 3: Printing the distinct palindromes and number of such distinct palindromes:   \n",
    "The last step is to print all values stored in the HashMap (only distinct elements will be hashed due to the property of HashMap)"
   ]
  },
  {
   "cell_type": "code",
   "execution_count": 12,
   "metadata": {
    "collapsed": false
   },
   "outputs": [
    {
     "name": "stdout",
     "output_type": "stream",
     "text": [
      "Below are 5 palidrom sub-strings\n",
      "aaa\n",
      "a\n",
      "aba\n",
      "aa\n",
      "b\n"
     ]
    }
   ],
   "source": [
    "def palindromeSubStrs(s):\n",
    "    m = dict()\n",
    "    n = len(s)\n",
    "    # table for storing results (2 rows for odd- and even-length palindromes\n",
    "    R = [[0 for x in range(n+1)] for x in range(2)]\n",
    "    # Find all sub-string palindromes from the given input  string insert 'guards' to iterate easily over s\n",
    "    s = \"@\" + s + \"#\"\n",
    " \n",
    "    for j in range(2):\n",
    "        rp = 0    # length of 'palindrome radius'\n",
    "        R[j][0] = 0\n",
    "        i = 1\n",
    "        while i <= n:\n",
    "            # Attempt to expand palindrome centered at i\n",
    "            while s[i - rp - 1] == s[i + j + rp]:\n",
    "                rp += 1 # Incrementing the length of palindromic radius as and when we find valid palindrome\n",
    "            # Assigning the found palindromic length to odd/even length array\n",
    "            R[j][i] = rp\n",
    "            k = 1\n",
    "            while (R[j][i - k] != rp - k) and (k < rp):\n",
    "                R[j][i+k] = min(R[j][i-k], rp - k)\n",
    "                k += 1\n",
    "            rp = max(rp - k, 0)\n",
    "            i += k\n",
    "    # remove guards\n",
    "    s = s[1:len(s)-1]\n",
    " \n",
    "    # Put all obtained palindromes in a hash map to find only distinct palindrome\n",
    "    m[s[0]] = 1\n",
    "    for i in range(1,n):\n",
    "        for j in range(2):\n",
    "            for rp in range(R[j][i],0,-1):\n",
    "                m[s[i - rp - 1 : i - rp - 1 + 2 * rp + j]] = 1\n",
    "        m[s[i]] = 1\n",
    " \n",
    "    # printing all distinct palindromes from hash map\n",
    "    print(\"Below are \" + str(len(m)) + \" palidrom sub-strings\")\n",
    "    for i in m:\n",
    "        print(i)\n",
    "# Test \n",
    "palindromeSubStrs(\"abaaa\")"
   ]
  },
  {
   "cell_type": "markdown",
   "metadata": {},
   "source": [
    "### Longest Palindrom substring\n",
    "The time complexity of the Dynamic Programming based solution is O(n^2) and it requires O(n^2) extra space. We can find the longest palindrome substring in (n^2) time with O(1) extra space. The idea is to generate all even length and odd length palindromes and keep track of the longest palindrome seen so far.   \n",
    "\n",
    "Step to generate odd length palindrome:   \n",
    "Fix a centre and expand in both directions for longer palindromes.   \n",
    "\n",
    "Step to generate even length palindrome   \n",
    "Fix two centre ( low and high ) and expand in both directions for longer palindromes.   "
   ]
  },
  {
   "cell_type": "code",
   "execution_count": 6,
   "metadata": {
    "collapsed": false
   },
   "outputs": [
    {
     "name": "stdout",
     "output_type": "stream",
     "text": [
      "Longest palindrome substring is:geeksskeeg\n",
      "Length is: 10\n"
     ]
    }
   ],
   "source": [
    "def longestPalSubstr(string):\n",
    "    maxLength = 1\n",
    "    start = 0\n",
    "    length = len(string)\n",
    " \n",
    "    low = 0\n",
    "    high = 0\n",
    "    # One by one consider every character as center point of  even and length palindromes\n",
    "    for i in range(1, length):\n",
    "    # Find the longest even length palindrome with center points as i-1 and i.\n",
    "        low = i - 1\n",
    "        high = i\n",
    "        while low >= 0 and high < length and string[low] == string[high]:\n",
    "            if high - low + 1 > maxLength:\n",
    "                start = low\n",
    "                maxLength = high - low + 1\n",
    "            low -= 1\n",
    "            high += 1\n",
    " \n",
    "        # Find the longest odd length palindrome with center point as i\n",
    "        low = i - 1\n",
    "        high = i + 1\n",
    "        while low >= 0 and high < length and string[low] == string[high]:\n",
    "            if high - low + 1 > maxLength:\n",
    "                start = low\n",
    "                maxLength = high - low + 1\n",
    "            low -= 1\n",
    "            high += 1\n",
    " \n",
    "    print(\"Longest palindrome substring is:\"+string[start:start + maxLength])\n",
    " \n",
    "    return maxLength\n",
    " \n",
    "# Driver program to test above functions\n",
    "string = \"forgeeksskeegfor\"\n",
    "print(\"Length is: \" + str(longestPalSubstr(string)))"
   ]
  },
  {
   "cell_type": "markdown",
   "metadata": {},
   "source": [
    "### Longest Palindrom with dynamic programming\n",
    "http://www.geeksforgeeks.org/dynamic-programming-set-12-longest-palindromic-subsequence/  \n",
    "Let X[0..n-1] be the input sequence of length n and L(0, n-1) be the length of the longest palindromic subsequence of X[0..n-1].   \n",
    "If last and first characters of X are same, then L(0, n-1) = L(1, n-2) + 2.   \n",
    "Else L(0, n-1) = MAX (L(1, n-1), L(0, n-2)).     \n",
    "The time complexity of the Dynamic Programming based solution is O(n^2) and it requires O(n^2) extra space."
   ]
  },
  {
   "cell_type": "code",
   "execution_count": 16,
   "metadata": {
    "collapsed": false
   },
   "outputs": [
    {
     "name": "stdout",
     "output_type": "stream",
     "text": [
      "[1, 2, 2, 3, 3, 5, 5, 5, 7]\n",
      "[0, 1, 1, 3, 3, 3, 3, 5, 7]\n",
      "[0, 0, 1, 1, 1, 3, 3, 5, 5]\n",
      "[0, 0, 0, 1, 1, 3, 3, 3, 5]\n",
      "[0, 0, 0, 0, 1, 1, 3, 3, 3]\n",
      "[0, 0, 0, 0, 0, 1, 1, 1, 3]\n",
      "[0, 0, 0, 0, 0, 0, 1, 1, 1]\n",
      "[0, 0, 0, 0, 0, 0, 0, 1, 1]\n",
      "[0, 0, 0, 0, 0, 0, 0, 0, 1]\n"
     ]
    },
    {
     "data": {
      "text/plain": [
       "7"
      ]
     },
     "execution_count": 16,
     "metadata": {},
     "output_type": "execute_result"
    }
   ],
   "source": [
    "# A Dynamic Programming based Python program for LPS problem\n",
    "# Returns the length of the longest palindromic subsequence in seq\n",
    "def lps(str):\n",
    "    n = len(str)\n",
    " \n",
    "    # Create a table to store results of subproblems\n",
    "    L = [[0 for x in range(n)] for x in range(n)]\n",
    " \n",
    "    # Strings of length 1 are palindrome of length 1\n",
    "    for i in range(n):\n",
    "        L[i][i] = 1\n",
    " \n",
    "    # Build the table. Note that the lower diagonal values of table are useless and not filled in the process. The values are\n",
    "    # filled in a manner similar to Matrix Chain Multiplication DP solution (See \n",
    "    # http://www.geeksforgeeks.org/dynamic-programming-set-8-matrix-chain-multiplication/\n",
    "    # cl is length of substring\n",
    "    for cl in range(2, n+1):\n",
    "        for i in range(n-cl+1):\n",
    "            j = i+cl-1\n",
    "            if str[i] == str[j] and cl == 2:\n",
    "                L[i][j] = 2\n",
    "            elif str[i] == str[j]:\n",
    "                L[i][j] = L[i+1][j-1] + 2\n",
    "            else:\n",
    "                L[i][j] = max(L[i][j-1], L[i+1][j]);\n",
    "    for le in L:\n",
    "        print(le)\n",
    "    return L[0][n-1]\n",
    "st=\"BBABCBCAB\"\n",
    "lps(st)"
   ]
  },
  {
   "cell_type": "markdown",
   "metadata": {},
   "source": [
    "### Sol 2: longest panlindrom sequence\n",
    "The idea is to generate all even length and odd length palindromes and keep track of the longest palindrome seen so far.\n",
    "\n",
    "Step to generate odd length palindrome:   \n",
    "Fix a centre and expand in both directions for longer palindromes.   \n",
    "\n",
    "Step to generate even length palindrome   \n",
    "Fix two centre ( low and high ) and expand in both directions for longer palindromes.   "
   ]
  },
  {
   "cell_type": "code",
   "execution_count": 18,
   "metadata": {
    "collapsed": false
   },
   "outputs": [
    {
     "name": "stdout",
     "output_type": "stream",
     "text": [
      "Longest palindrome substring is: geeksskeeg\n",
      "Length is: 10\n"
     ]
    }
   ],
   "source": [
    "def longestPalSubstr(string):\n",
    "    maxLength = 1\n",
    "    start = 0\n",
    "    length = len(string)\n",
    "    low = 0\n",
    "    high = 0\n",
    "    # One by one consider every character as center point of even and length palindromes\n",
    "    for i in range(1, length):\n",
    "    # Find the longest even length palindrome with center points as i-1 and i.\n",
    "        low = i - 1\n",
    "        high = i\n",
    "        while low >= 0 and high < length and string[low] == string[high]:\n",
    "            if high - low + 1 > maxLength:\n",
    "                start = low\n",
    "                maxLength = high - low + 1\n",
    "            low -= 1\n",
    "            high += 1\n",
    " \n",
    "        # Find the longest odd length palindrome with center point as i\n",
    "        low = i - 1\n",
    "        high = i + 1\n",
    "        while low >= 0 and high < length and string[low] == string[high]:\n",
    "            if high - low + 1 > maxLength:\n",
    "                start = low\n",
    "                maxLength = high - low + 1\n",
    "            low -= 1\n",
    "            high += 1\n",
    " \n",
    "    print(\"Longest palindrome substring is:\", string[start:start + maxLength])\n",
    "    return maxLength\n",
    " \n",
    "# Driver program to test above functions\n",
    "string = \"forgeeksskeegfor\"\n",
    "print(\"Length is: \" + str(longestPalSubstr(string)))"
   ]
  },
  {
   "cell_type": "markdown",
   "metadata": {},
   "source": [
    "### Manacher’s Algorithm – Linear Time Longest Palindromic Substring \n",
    " If there is a palindrome of some length L cantered at any position P, then we may not need to compare all characters in left and right side at position P+1. We already calculated LPS at positions before P and they can help to avoid some of the comparisons after position P.\n",
    "This use of information from previous positions at a later point of time makes the Manacher’s algorithm linear"
   ]
  },
  {
   "cell_type": "code",
   "execution_count": 22,
   "metadata": {
    "collapsed": false
   },
   "outputs": [
    {
     "name": "stdout",
     "output_type": "stream",
     "text": [
      "LPS of string is babcbabcbaccba :  abcbabcba \n",
      "\n",
      "LPS of string is abaaba :  abaaba \n",
      "\n",
      "LPS of string is abababa :  abababa \n",
      "\n"
     ]
    }
   ],
   "source": [
    "def findLongestPalindromicString(text):\n",
    "    N = len(text)\n",
    "    if N == 0:\n",
    "        return\n",
    "    N = 2*N+1    # Position count\n",
    "    L = [0] * N\n",
    "    L[0] = 0\n",
    "    L[1] = 1\n",
    "    C = 1     # centerPosition\n",
    "    R = 2     # centerRightPosition\n",
    "    i = 0    # currentRightPosition\n",
    "    iMirror = 0     # currentLeftPosition\n",
    "    maxLPSLength = 0\n",
    "    maxLPSCenterPosition = 0\n",
    "    start = -1\n",
    "    end = -1\n",
    "    diff = -1\n",
    "  \n",
    "    # Uncomment it to print LPS Length array\n",
    "    # printf(\"%d %d \", L[0], L[1]);\n",
    "    for i in range(2,N):\n",
    "      \n",
    "        # get currentLeftPosition iMirror for currentRightPosition i\n",
    "        iMirror = 2*C-i\n",
    "        L[i] = 0\n",
    "        diff = R - i\n",
    "        # If currentRightPosition i is within centerRightPosition R\n",
    "        if diff > 0:\n",
    "            L[i] = min(L[iMirror], diff)\n",
    "  \n",
    "        # Attempt to expand palindrome centered at currentRightPosition i\n",
    "        # Here for odd positions, we compare characters and\n",
    "        # if match then increment LPS Length by ONE\n",
    "        # If even position, we just increment LPS by ONE without\n",
    "        # any character comparison\n",
    "        try:\n",
    "            while ((i + L[i]) < N and (i - L[i]) > 0) and \\\n",
    "                    (((i + L[i] + 1) % 2 == 0) or \\\n",
    "                    (text[(i + L[i] + 1) // 2] == text[(i - L[i] - 1) // 2])):\n",
    "                L[i]+=1\n",
    "        except Exception as e:\n",
    "            pass\n",
    "  \n",
    "        if L[i] > maxLPSLength:        # Track maxLPSLength\n",
    "            maxLPSLength = L[i]\n",
    "            maxLPSCenterPosition = i\n",
    "  \n",
    "        # If palindrome centered at currentRightPosition i\n",
    "        # expand beyond centerRightPosition R,\n",
    "        # adjust centerPosition C based on expanded palindrome.\n",
    "        if i + L[i] > R:\n",
    "            C = i\n",
    "            R = i + L[i]\n",
    "  \n",
    "    # Uncomment it to print LPS Length array\n",
    "    # printf(\"%d \", L[i]);\n",
    "    start = (maxLPSCenterPosition - maxLPSLength) // 2\n",
    "    end = start + maxLPSLength - 1\n",
    "    print(\"LPS of string is \" + text + \" : \",text[start:end+1], \"\\n\")\n",
    "  \n",
    "# Driver program\n",
    "text1 = \"babcbabcbaccba\"\n",
    "findLongestPalindromicString(text1)\n",
    "  \n",
    "text2 = \"abaaba\"\n",
    "findLongestPalindromicString(text2)\n",
    "  \n",
    "text3 = \"abababa\"\n",
    "findLongestPalindromicString(text3)\n",
    "  "
   ]
  },
  {
   "cell_type": "markdown",
   "metadata": {},
   "source": [
    "## Sam and substring : Hacker rank"
   ]
  },
  {
   "cell_type": "code",
   "execution_count": 7,
   "metadata": {
    "collapsed": false
   },
   "outputs": [
    {
     "name": "stdout",
     "output_type": "stream",
     "text": [
      "6789\n",
      "8520\n"
     ]
    }
   ],
   "source": [
    "st = input().strip()\n",
    "size = len(st)\n",
    "s = int(st[0])\n",
    "total = s\n",
    "for i in range (1, size):\n",
    "    total= (total*10+int(st[i])*(i+1))%(10**9+7)\n",
    "    s = (total+s)%(10**9+7)\n",
    "print(s)"
   ]
  },
  {
   "cell_type": "markdown",
   "metadata": {},
   "source": [
    "## Abbreviation"
   ]
  },
  {
   "cell_type": "code",
   "execution_count": null,
   "metadata": {
    "collapsed": true
   },
   "outputs": [],
   "source": [
    "def abbr(a, b):\n",
    "    if len(a) < len(b):\n",
    "        return False\n",
    "    \n",
    "    dp = [True] + [False] * len(b)\n",
    "    i = 0\n",
    "    while i < len(b) and a[i].upper() == b[i]:\n",
    "        i += 1\n",
    "        dp[i] = True\n",
    "        \n",
    "    for i in range(len(a) - len(b)):\n",
    "        dp[0] = dp[0] and a[i].islower()\n",
    "        for j in range(len(b)):\n",
    "            cha, chb = a[i + j + 1], b[j]\n",
    "            if cha.isupper():\n",
    "                dp[j + 1] = dp[j] and cha == chb\n",
    "            elif cha.upper() == chb:\n",
    "                dp[j + 1] = dp[j] or dp[j + 1]\n",
    "                \n",
    "    return dp[len(b)]"
   ]
  },
  {
   "cell_type": "markdown",
   "metadata": {
    "collapsed": true
   },
   "source": [
    "### Sum of Lengths of Non-Overlapping SubArrays\n",
    "Given an array of N elements, find the maximum sum of lengths of all non-overlapping subarrays with K as the maximum element in the subarray.   \n",
    "Input 1 : arr[] = {2, 1, 4, 9, 2, 3, 8, 3, 4}       k = 4   \n",
    "Output 1: 5   \n",
    "{2, 1, 4} => Length = 3   \n",
    "{3, 4} => Length = 2   \n",
    "So, 3 + 2 = 5 is the answer   \n",
    "\n",
    "Input 2: arr[] = {1, 2, 3, 2, 3, 4, 1}    k = 4   \n",
    "Output 2: 7   \n",
    "{1, 2, 3, 2, 3, 4, 1} => Length = 7   "
   ]
  },
  {
   "cell_type": "code",
   "execution_count": 4,
   "metadata": {
    "collapsed": false
   },
   "outputs": [
    {
     "name": "stdout",
     "output_type": "stream",
     "text": [
      "5\n"
     ]
    }
   ],
   "source": [
    "arr=[2, 1, 4, 9, 2, 3, 8, 3, 4]\n",
    "k=4\n",
    "ans=0\n",
    "n= len(arr)\n",
    "i =0\n",
    "while  i < n:\n",
    "    count = 0\n",
    "    flag = 0\n",
    "    while (i< n) and (arr[i] <= k):\n",
    "        count +=1\n",
    "        if (arr[i] == k):\n",
    "            flag = 1\n",
    "        i +=1\n",
    "    if (flag == 1):\n",
    "        ans += count   \n",
    "    while i< n and arr[i] > k :\n",
    "        i +=1     \n",
    "print(ans)\n",
    "        "
   ]
  },
  {
   "cell_type": "markdown",
   "metadata": {},
   "source": [
    "### Similar expressions\n",
    "Given two expressions in the form of strings. The task is to compare them and check if they are similar. Expressions consist of lowercase alphabets, '+', '-' and  '( )'. Input:  \n",
    "2   \n",
    "-(a+b+c)   \n",
    "-a-b-c   \n",
    "a-b-(c-d)   \n",
    "a-b-c-d   \n",
    "   \n",
    "Output:   \n",
    "YES   \n",
    "NO   "
   ]
  },
  {
   "cell_type": "code",
   "execution_count": null,
   "metadata": {
    "collapsed": true
   },
   "outputs": [],
   "source": []
  },
  {
   "cell_type": "markdown",
   "metadata": {},
   "source": [
    "### Row with minimum number of 1's\n",
    "Determine the row index with minimum number of ones. The given 2D matrix has only zeroes and ones and also the matrix is sorted row wise . If two or more rows have same number of 1's than print the row with smallest index.Note: If there is no '1' in any of the row than print '-1'.   \n",
    "The first line of input contains an integer T denoting the number of test cases. The first line of each test case consists of two integer n and m. The next line consists of n*m spaced integers. Input:\n",
    "2   \n",
    "3 3   \n",
    "0 0 0 0 0 0 0 0 0   \n",
    "4 4   \n",
    "0 0 0 1 0 1 1 1 0 0 1 1 0 0 1 1   \n",
    "\n",
    "Output:   \n",
    "-1   \n",
    "0   "
   ]
  },
  {
   "cell_type": "markdown",
   "metadata": {
    "collapsed": true
   },
   "source": [
    "### Stock Buy Sell to Maximize Profit\n",
    "\n",
    "The cost of a stock on each day is given in an array, find the max profit that you can make by buying and selling in those days. For example, if the given array is {100, 180, 260, 310, 40, 535, 695}, the maximum profit can earned by buying on day 0, selling on day 3. Again buy on day 4 and sell on day 6. If the given array of prices is sorted in decreasing order, then profit cannot be earned at all.     \n",
    "\n",
    "1. Find the local minima and store it as starting index. If not exists, return.   \n",
    "2. Find the local maxima. and store it as ending index. If we reach the end, set the end as ending index.   \n",
    "3. Update the solution (Increment count of buy sell pairs)   \n",
    "4. Repeat the above steps if end is not reached.   "
   ]
  },
  {
   "cell_type": "code",
   "execution_count": 46,
   "metadata": {
    "collapsed": false
   },
   "outputs": [
    {
     "name": "stdout",
     "output_type": "stream",
     "text": [
      "Buy at  100  sell at  310\n",
      "Buy at  40  sell at  695\n",
      "Profit = 865\n"
     ]
    }
   ],
   "source": [
    "def makeProfit(stocks):\n",
    "    minPIndex,maxDiff =0,0\n",
    "    buy,sell = 0,0\n",
    "    count=0\n",
    "    profit = 0\n",
    "    for i in range(len(stocks)):\n",
    "        if (stocks[i] < stocks[minPIndex]) and (i !=minPIndex):\n",
    "            print('Buy at ',stocks[buy],' sell at ',stocks[sell]) \n",
    "            profit += stocks[sell]-stocks[buy]\n",
    "            minPIndex =i\n",
    "        diff = stocks[i] - stocks[minPIndex] \n",
    "        if diff > maxDiff:\n",
    "            buy = minPIndex\n",
    "            sell =i\n",
    "            maxDiff = diff\n",
    "    profit += stocks[sell]-stocks[buy]        \n",
    "    print('Buy at ',stocks[buy],' sell at ',stocks[sell])           \n",
    "    return profit        \n",
    "stocks=  [100, 180, 260, 310, 40, 535, 695]          \n",
    "print('Profit =',makeProfit(stocks))    \n"
   ]
  },
  {
   "cell_type": "code",
   "execution_count": 47,
   "metadata": {
    "collapsed": false
   },
   "outputs": [
    {
     "name": "stdout",
     "output_type": "stream",
     "text": [
      "profit =  865\n"
     ]
    }
   ],
   "source": [
    "def maxProfit(stocks):\n",
    "    profit=0\n",
    "    n=len(stocks)\n",
    "    i = 0\n",
    "    while i < n:\n",
    "        while i<n and stocks[i] <= stocks[i-1]:\n",
    "            i +=1\n",
    "        buy = i-1\n",
    "        while i<n and (stocks[i] > stocks[i-1]):\n",
    "            i +=1\n",
    "        sell = i-1\n",
    "        profit += stocks[sell]-stocks[buy]\n",
    "    return profit    \n",
    "stocks=  [100, 180, 260, 310, 40, 535, 695]  \n",
    "print('profit = ',maxProfit(stocks))"
   ]
  },
  {
   "cell_type": "markdown",
   "metadata": {},
   "source": [
    "### Maximum profit by buying and selling a share at most twice\n",
    "\n",
    "In a daily share trading, a buyer buys shares in the morning and sells it on same day. If the trader is allowed to make at most 2 transactions in a day, where as second transaction can only start after first one is complete (Sell->buy->sell->buy). Given stock prices throughout day, find out maximum profit that a share trader could have made.   \n",
    "\n",
    "Input:   price[] = {10, 22, 5, 75, 65, 80}   \n",
    "Output:  87   \n",
    "Trader earns 87 as sum of 12 and 75   \n",
    "Buy at price 10, sell at 22, buy at 5 and sell at 80   \n",
    "   \n",
    "Input:   price[] = {2, 30, 15, 10, 8, 25, 80}   \n",
    "Output:  100   \n",
    "Trader earns 100 as sum of 28 and 72   \n",
    "Buy at price 2, sell at 30, buy at 8 and sell at 80   \n",
    "   \n",
    "Input:   price[] = {100, 30, 15, 10, 8, 25, 80};   \n",
    "Output:  72   \n",
    "Buy at price 8 and sell at 80.   \n",
    "   \n",
    "Input:   price[] = {90, 80, 70, 60, 50}   \n",
    "Output:  0   \n",
    "Not possible to earn.\n",
    "\n",
    "Simple solution:\n",
    "\n",
    "Max profit with at most two transactions =\n",
    "       MAX {max profit with one transaction and subarray price[0..i] +\n",
    "            max profit with one transaction and aubarray price[i+1..n-1]  }\n",
    "i varies from 0 to n-1."
   ]
  },
  {
   "cell_type": "code",
   "execution_count": 1,
   "metadata": {
    "collapsed": false
   },
   "outputs": [
    {
     "name": "stdout",
     "output_type": "stream",
     "text": [
      "Maximum profit is 865\n"
     ]
    }
   ],
   "source": [
    "# Returns maximum profit with two transactions on a given \n",
    "# list of stock prices price[0..n-1]\n",
    "def maxProfit(price,n):\n",
    "     \n",
    "    # Create profit array and initialize it as 0\n",
    "    profit = [0]*n\n",
    "     \n",
    "    # Get the maximum profit with only one transaction allowed. After this loop, profit[i] contains maximum profit from \n",
    "    #price[i..n-1] using at most one trans.\n",
    "    max_price=price[n-1]\n",
    "     \n",
    "    for i in range( n-2, 0 ,-1):\n",
    "         \n",
    "        if price[i]> max_price:\n",
    "            max_price = price[i]\n",
    "             \n",
    "        # we can get profit[i] by taking maximum of: \n",
    "        # a) previous maximum, i.e., profit[i+1]\n",
    "        # b) profit by buying at price[i] and selling at  max_price\n",
    "        profit[i] = max(profit[i+1], max_price - price[i])\n",
    "         \n",
    "    # Get the maximum profit with two transactions allowed After this loop, profit[n-1] contains the result    \n",
    "    min_price=price[0]\n",
    "     \n",
    "    for i in range(1,n):\n",
    "         \n",
    "        if price[i] < min_price:\n",
    "            min_price = price[i]\n",
    " \n",
    "        # Maximum profit is maximum of:\n",
    "        # a) previous maximum, i.e., profit[i-1]\n",
    "        # b) (Buy, Sell) at (min_price, A[i]) and add\n",
    "        #    profit of other trans. stored in profit[i]    \n",
    "        profit[i] = max(profit[i-1], profit[i]+(price[i]-min_price))\n",
    "         \n",
    "    result = profit[n-1]\n",
    "     \n",
    "    return result\n",
    " \n",
    "# Driver function\n",
    "#price = [2, 30, 15, 10, 8, 25, 80]\n",
    "#print(\"Maximum profit is\", maxProfit(price, len(price)))\n",
    "stocks=  [100, 180, 260, 310, 40, 535, 695]\n",
    "print(\"Maximum profit is\", maxProfit(stocks, len(stocks)))"
   ]
  },
  {
   "cell_type": "code",
   "execution_count": 1,
   "metadata": {
    "collapsed": false
   },
   "outputs": [
    {
     "data": {
      "text/plain": [
       "865"
      ]
     },
     "execution_count": 1,
     "metadata": {},
     "output_type": "execute_result"
    }
   ],
   "source": [
    "# Multiple operation\n",
    "def maxProfit(prices):\n",
    "        profit = 0\n",
    "        for i in range(len(prices) - 1):\n",
    "            profit += max(0, prices[i + 1] - prices[i])     \n",
    "        return profit\n",
    "\n",
    "def maxProfit2(prices):\n",
    "        return sum(map(lambda x: max(prices[x + 1] - prices[x], 0), range(len(prices[:-1]))))\n",
    "#prices=[3, 2, 1, 4, 2, 5, 6]\n",
    "prices=[100, 180, 260, 310, 40, 535, 695] \n",
    "maxProfit(prices)\n",
    "maxProfit2(prices)"
   ]
  },
  {
   "cell_type": "code",
   "execution_count": 3,
   "metadata": {
    "collapsed": false
   },
   "outputs": [
    {
     "data": {
      "text/plain": [
       "865"
      ]
     },
     "execution_count": 3,
     "metadata": {},
     "output_type": "execute_result"
    }
   ],
   "source": [
    "# at most two transactions.\n",
    "def maxProfit( prices):\n",
    "        hold1, hold2 = float(\"-inf\"), float(\"-inf\")\n",
    "        release1, release2 = 0, 0\n",
    "        for i in prices:\n",
    "            release2 = max(release2, hold2 + i)\n",
    "            hold2    = max(hold2,    release1 - i)\n",
    "            release1 = max(release1, hold1 + i)\n",
    "            hold1    = max(hold1,    -i);\n",
    "        return release2\n",
    "prices=[3, 2, 1, 4, 2, 5, 6]\n",
    "prices=[100, 180, 260, 310, 40, 535, 695]\n",
    "maxProfit( prices)"
   ]
  },
  {
   "cell_type": "markdown",
   "metadata": {},
   "source": [
    "### Maximum profit by buying and selling a share at most k times\n",
    "\n",
    "In share trading, a buyer buys shares and sells on future date. Given stock price of n days, the trader is allowed to make at most k transactions, where new transaction can only start after previous transaction is complete, find out maximum profit that a share trader could have made."
   ]
  },
  {
   "cell_type": "code",
   "execution_count": 5,
   "metadata": {
    "collapsed": false
   },
   "outputs": [
    {
     "name": "stdout",
     "output_type": "stream",
     "text": [
      "Buy on day 0 at price 3\n",
      "Sell on day 0 at price 2\n",
      "Buy on day 3 at price 3\n",
      "Sell on day 3 at price 2\n",
      "Buy on day 6 at price 3\n",
      "Sell on day 6 at price 2\n",
      "[0, 0, 0, 0, 0, 0, 0, 0]\n",
      "[0, 3, 5, 5, 5, 5, 5, 5]\n",
      "[0, 3, 5, 5, 8, 8, 8, 8]\n",
      "[0, 3, 5, 5, 8, 8, 8, 10]\n"
     ]
    }
   ],
   "source": [
    "\"\"\"\"\n",
    "Problem Statement\n",
    "=================\n",
    "\n",
    "Given certain stock values over a period of days (d days) and a number K, the number of transactions allowed, find the\n",
    "maximum profit that be obtained with at most K transactions.\n",
    "\n",
    "Video\n",
    "-----\n",
    "* https://youtu.be/oDhu5uGq_ic\n",
    "\n",
    "Complexity\n",
    "----------\n",
    "\n",
    "* Space Complexity O(days * transctions)\n",
    "* Time Complexity: Slow Solution O (days^2 * transactions), Faster Solution O(days * transaction)\n",
    "\"\"\"\n",
    "\n",
    "\n",
    "def max_profit(prices, K):\n",
    "    if K == 0 or prices == []:\n",
    "        return 0\n",
    "\n",
    "    days = len(prices)\n",
    "    num_transactions = K + 1  # 0th transaction up to and including kth transaction is considered.\n",
    "\n",
    "    T = [[0 for _ in range(days)] for _ in range(num_transactions)]\n",
    "\n",
    "    for transaction in range(1, num_transactions):\n",
    "        max_diff = - prices[0]\n",
    "        for day in range(1, days):\n",
    "            T[transaction][day] = max(T[transaction][day - 1],  # No transaction\n",
    "                                      prices[day] + max_diff)  # price on that day with max diff\n",
    "            max_diff = max(max_diff,\n",
    "                           T[transaction - 1][day] - prices[day])  # update max_diff\n",
    "\n",
    "    print_actual_solution(T, prices)\n",
    "    for e in T:\n",
    "        print(e)\n",
    "    \n",
    "    return T[-1][-1]\n",
    "\n",
    "def print_actual_solution(T, prices):\n",
    "    transaction = len(T) - 1\n",
    "    day = len(T[0]) - 1\n",
    "    stack = []\n",
    "\n",
    "    while True:\n",
    "        if transaction == 0 or day == 0:\n",
    "            break\n",
    "\n",
    "        if T[transaction][day] == T[transaction][day - 1]:  # Didn't sell\n",
    "            day -= 1\n",
    "        else:\n",
    "            stack.append(day)          # sold\n",
    "            max_diff = T[transaction][day] - prices[day]\n",
    "            for k in range(day - 1, -1, -1):\n",
    "                if T[transaction - 1][k] - prices[k] == max_diff:\n",
    "                    stack.append(k)  # bought\n",
    "                    transaction -= 1\n",
    "                    break\n",
    "\n",
    "    for entry in range(len(stack) - 1, -1, -2):\n",
    "        print(\"Buy on day {day} at price {price}\".format(day=stack[entry], price=prices[stack[transaction]]))\n",
    "        print(\"Sell on day {day} at price {price}\".format(day=stack[entry], price=prices[stack[transaction - 1]]))\n",
    "\n",
    "\n",
    "if __name__ == '__main__':\n",
    "    prices = [2, 5, 7, 1, 4, 3, 1, 3]\n",
    "    assert 10 == max_profit(prices, 3)\n",
    "  "
   ]
  },
  {
   "cell_type": "markdown",
   "metadata": {},
   "source": [
    "### Longest common subsequence\n",
    "LCS Problem Statement: Given two sequences, find the length of longest subsequence present in both of them. A subsequence is a sequence that appears in the same relative order, but not necessarily contiguous. For example, “abc”, “abg”, “bdf”, “aeg”, ‘”acefg”, .. etc are subsequences of “abcdefg”. So a string of length n has 2^n different possible subsequences.\n",
    "\n",
    "It is a classic computer science problem, the basis of diff (a file comparison program that outputs the differences between two files), and has applications in bioinformatics. Examples:   \n",
    "LCS for input Sequences “ABCDGH” and “AEDFHR” is “ADH” of length 3.   \n",
    "LCS for input Sequences “AGGTAB” and “GXTXAYB” is “GTAB” of length 4.   \n",
    "\n",
    "Let the input sequences be X[0..m-1] and Y[0..n-1] of lengths m and n respectively. And let L(X[0..m-1], Y[0..n-1]) be the length of LCS of the two sequences X and Y. Following is the recursive definition of L(X[0..m-1], Y[0..n-1]).\n",
    "\n",
    "If last characters of both sequences match (or X[m-1] == Y[n-1]) then\n",
    "L(X[0..m-1], Y[0..n-1]) = 1 + L(X[0..m-2], Y[0..n-2])\n",
    "\n",
    "If last characters of both sequences do not match (or X[m-1] != Y[n-1]) then\n",
    "L(X[0..m-1], Y[0..n-1]) = MAX ( L(X[0..m-2], Y[0..n-1]), L(X[0..m-1], Y[0..n-2])"
   ]
  },
  {
   "cell_type": "code",
   "execution_count": 6,
   "metadata": {
    "collapsed": false
   },
   "outputs": [
    {
     "name": "stdout",
     "output_type": "stream",
     "text": [
      "LCS of AGGTAB and GXTXAYB is GTAB\u0000\n"
     ]
    }
   ],
   "source": [
    "def lcs(X, Y, m, n):\n",
    "    L = [[0 for x in range(n+1)] for x in range(m+1)]\n",
    " \n",
    "    # Following steps build L[m+1][n+1] in bottom up fashion. Note\n",
    "    # that L[i][j] contains length of LCS of X[0..i-1] and Y[0..j-1] \n",
    "    for i in range(m+1):\n",
    "        for j in range(n+1):\n",
    "            if i == 0 or j == 0:\n",
    "                L[i][j] = 0\n",
    "            elif X[i-1] == Y[j-1]:\n",
    "                L[i][j] = L[i-1][j-1] + 1\n",
    "            else:\n",
    "                L[i][j] = max(L[i-1][j], L[i][j-1])\n",
    " \n",
    "    # Following code is used to print LCS\n",
    "    index = L[m][n]\n",
    " \n",
    "    # Create a character array to store the lcs string\n",
    "    lcs = [\"\"] * (index+1)\n",
    "    lcs[index] = \"\\0\"\n",
    " \n",
    "    # Start from the right-most-bottom-most corner and\n",
    "    # one by one store characters in lcs[]\n",
    "    i = m\n",
    "    j = n\n",
    "    while i > 0 and j > 0:\n",
    " \n",
    "        # If current character in X[] and Y are same, then\n",
    "        # current character is part of LCS\n",
    "        if X[i-1] == Y[j-1]:\n",
    "            lcs[index-1] = X[i-1]\n",
    "            i-=1\n",
    "            j-=1\n",
    "            index-=1\n",
    " \n",
    "        # If not same, then find the larger of two and\n",
    "        # go in the direction of larger value\n",
    "        elif L[i-1][j] > L[i][j-1]:\n",
    "            i-=1\n",
    "        else:\n",
    "            j-=1\n",
    " \n",
    "    print(\"LCS of \" + X + \" and \" + Y + \" is \" + \"\".join(lcs)) \n",
    "# Driver program\n",
    "X = \"AGGTAB\"\n",
    "Y = \"GXTXAYB\"\n",
    "m = len(X)\n",
    "n = len(Y)\n",
    "lcs(X, Y, m, n)"
   ]
  }
 ],
 "metadata": {
  "anaconda-cloud": {},
  "kernelspec": {
   "display_name": "Python [default]",
   "language": "python",
   "name": "python3"
  },
  "language_info": {
   "codemirror_mode": {
    "name": "ipython",
    "version": 3
   },
   "file_extension": ".py",
   "mimetype": "text/x-python",
   "name": "python",
   "nbconvert_exporter": "python",
   "pygments_lexer": "ipython3",
   "version": "3.5.2"
  }
 },
 "nbformat": 4,
 "nbformat_minor": 1
}
