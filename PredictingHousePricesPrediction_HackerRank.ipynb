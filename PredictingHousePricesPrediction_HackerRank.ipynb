{
 "cells": [
  {
   "cell_type": "markdown",
   "metadata": {},
   "source": [
    "## This notebook illustrates the use of a linear regression to predict house price\n",
    "https://www.hackerrank.com/challenges/predicting-house-prices\n",
    "Task:    \n",
    "Charlie wants to buy a house. He does a detailed survey of the area where he wants to live, in which he quantifies, normalizes, and maps the desirable features of houses to values on a scale of 0 to 1 so the data can be assembled into a table. If Charlie noted F features, each row contains space-separated values followed by the house price in dollars per square foot (making for a total of F+ 1 columns). If Charlie makes observations about H  houses, his observation table has H rows. This means that the table has a total of (F+1)x H entries. \n",
    "Unfortunately, he was only able to get the price per square foot for certain houses and thus needs your help estimating the prices of the rest! Given the feature and pricing data for a set of houses, help Charlie estimate the price per square foot of the houses for which he has compiled feature data but no pricing.\n",
    "Important Observation: The prices per square foot form an approximately linear function for the features quantified in Charlie's table. For the purposes of prediction, you need to figure out this linear function.\n",
    "Recommended Technique: Use a regression-based technique. At this point, you are not expected to account for bias and variance trade-offs.\n"
   ]
  },
  {
   "cell_type": "markdown",
   "metadata": {},
   "source": [
    "## Sample Input\n",
    "2 7    \n",
    "0.18 0.89 109.85   \n",
    "1.0 0.26 155.72   \n",
    "0.92 0.11 137.66   \n",
    "0.07 0.37 76.17    \n",
    "0.85 0.16 139.75   \n",
    "0.99 0.41 162.6   \n",
    "0.87 0.47 151.77   \n",
    "4   \n",
    "0.49 0.18   \n",
    "0.57 0.83   \n",
    "0.56 0.64   \n",
    "0.76 0.18      \n",
    "\n",
    "## Sample Output   \n",
    "105.22   \n",
    "142.68   \n",
    "132.94   \n",
    "129.71   "
   ]
  },
  {
   "cell_type": "code",
   "execution_count": 3,
   "metadata": {},
   "outputs": [
    {
     "name": "stdout",
     "output_type": "stream",
     "text": [
      "2 7\n"
     ]
    }
   ],
   "source": [
    "from sklearn.linear_model import LinearRegression\n",
    "f, n = input().split()\n",
    "f = int(f)\n",
    "n = int(n)\n",
    "\n",
    "clf = LinearRegression()\n",
    "x_train = []\n",
    "y_train = []\n"
   ]
  },
  {
   "cell_type": "code",
   "execution_count": 4,
   "metadata": {},
   "outputs": [
    {
     "name": "stdout",
     "output_type": "stream",
     "text": [
      "0.18 0.89 109.85\n",
      "1.0 0.26 155.72\n",
      "0.92 0.11 137.66\n",
      "0.07 0.37 76.17\n",
      "0.85 0.16 139.75\n",
      "0.99 0.41 162.6\n",
      "0.87 0.47 151.77\n"
     ]
    }
   ],
   "source": [
    "for i in range(n):\n",
    "    tmp = [float(n) for n in input().split()]\n",
    "    x_train.append(tmp[0: len(tmp) - 1])\n",
    "    y_train.append(tmp[len(tmp) - 1])"
   ]
  },
  {
   "cell_type": "code",
   "execution_count": 6,
   "metadata": {},
   "outputs": [
    {
     "name": "stdout",
     "output_type": "stream",
     "text": [
      "4\n",
      "0.49 0.18\n",
      "0.57 0.83\n",
      "0.56 0.64\n",
      "0.76 0.18\n"
     ]
    }
   ],
   "source": [
    "clf.fit(x_train, y_train)\n",
    "\n",
    "x_test = []\n",
    "n = int(input())\n",
    "for i in range(n):\n",
    "    tmp = [float(n) for n in input().split()]\n",
    "    x_test.append(tmp)\n"
   ]
  },
  {
   "cell_type": "markdown",
   "metadata": {},
   "source": [
    "## Predicting"
   ]
  },
  {
   "cell_type": "code",
   "execution_count": 10,
   "metadata": {},
   "outputs": [
    {
     "name": "stdout",
     "output_type": "stream",
     "text": [
      "105.214558351\n",
      "142.670951307\n",
      "132.936054691\n",
      "129.701754045\n"
     ]
    }
   ],
   "source": [
    "y_test = clf.predict(x_test)\n",
    "for y in y_test:\n",
    "    print(y)"
   ]
  },
  {
   "cell_type": "code",
   "execution_count": null,
   "metadata": {
    "collapsed": true
   },
   "outputs": [],
   "source": []
  }
 ],
 "metadata": {
  "kernelspec": {
   "display_name": "Python 3",
   "language": "python",
   "name": "python3"
  },
  "language_info": {
   "codemirror_mode": {
    "name": "ipython",
    "version": 3
   },
   "file_extension": ".py",
   "mimetype": "text/x-python",
   "name": "python",
   "nbconvert_exporter": "python",
   "pygments_lexer": "ipython3",
   "version": "3.6.2"
  }
 },
 "nbformat": 4,
 "nbformat_minor": 2
}
