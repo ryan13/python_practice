{
 "cells": [
  {
   "cell_type": "markdown",
   "metadata": {},
   "source": [
    "# Array right rotation"
   ]
  },
  {
   "cell_type": "code",
   "execution_count": 11,
   "metadata": {
    "collapsed": false
   },
   "outputs": [
    {
     "data": {
      "text/plain": [
       "[3, 4, 5, 1, 2]"
      ]
     },
     "execution_count": 11,
     "metadata": {},
     "output_type": "execute_result"
    }
   ],
   "source": [
    "def array_right_rotate(a, n):\n",
    "    k =  n% len(a)\n",
    "    return a[-k:] + a[:-k]\n",
    "array_right_rotate([1,2,3,4,5],3)"
   ]
  },
  {
   "cell_type": "code",
   "execution_count": null,
   "metadata": {
    "collapsed": true
   },
   "outputs": [],
   "source": [
    "def array_left_rotation(a, n, k):\n",
    "    k %= n\n",
    "    return (a[k:] + a[:k])\n",
    "n, k = map(int, input().strip().split(' '))\n",
    "a = list(map(int, input().strip().split(' ')))\n",
    "answer = array_left_rotation(a, n, k);\n",
    "print(*answer, sep=' ')"
   ]
  },
  {
   "cell_type": "markdown",
   "metadata": {},
   "source": [
    "# Number of deletion to making Anagram"
   ]
  },
  {
   "cell_type": "code",
   "execution_count": 27,
   "metadata": {
    "collapsed": false
   },
   "outputs": [
    {
     "name": "stdout",
     "output_type": "stream",
     "text": [
      "'abc'\n",
      "'cde'\n",
      "4\n"
     ]
    }
   ],
   "source": [
    "from collections import Counter\n",
    "def number_needed(a, b):\n",
    "    a=Counter(a) ; b=Counter(b)\n",
    "    c= a-b; d= b-a; e=c+d\n",
    "    return len(list(e.elements()))\n",
    "a = input().strip()\n",
    "b = input().strip()\n",
    "print(number_needed(a,b))"
   ]
  },
  {
   "cell_type": "code",
   "execution_count": 1,
   "metadata": {
    "collapsed": false
   },
   "outputs": [
    {
     "data": {
      "text/plain": [
       "13"
      ]
     },
     "execution_count": 1,
     "metadata": {},
     "output_type": "execute_result"
    }
   ],
   "source": [
    "def fib_iter(n):\n",
    "    a, b = 1, 1\n",
    "    for _ in range(n):\n",
    "        a, b = a + b, a\n",
    "    return b\n",
    "fib_iter(6)"
   ]
  },
  {
   "cell_type": "code",
   "execution_count": 2,
   "metadata": {
    "collapsed": false
   },
   "outputs": [
    {
     "name": "stdout",
     "output_type": "stream",
     "text": [
      "1\n",
      "2 3 \n",
      "Counter({2: 1, 3: 1})\n"
     ]
    }
   ],
   "source": [
    "from collections import Counter\n",
    "import sys\n",
    "\n",
    "def lonelyinteger(a):\n",
    "    # Complete this function\n",
    "    \n",
    "    return Counter(a)\n",
    "n = int(input().strip())\n",
    "a = map(int, input().strip().split(\" \"))\n",
    "result = lonelyinteger(a)\n",
    "print(result)"
   ]
  },
  {
   "cell_type": "code",
   "execution_count": 25,
   "metadata": {
    "collapsed": false
   },
   "outputs": [
    {
     "data": {
      "text/plain": [
       "4"
      ]
     },
     "execution_count": 25,
     "metadata": {},
     "output_type": "execute_result"
    }
   ],
   "source": [
    "def getClosestSmaller(x):\n",
    "    x |= x >> 1\n",
    "    x |= x >> 2\n",
    "    x |= x >> 4\n",
    "    x |= x >> 8\n",
    "    x |= x >> 16\n",
    "    x |= x >> 32\n",
    "    x = x + 1\n",
    "    x = x >> 1\n",
    "    return x\n",
    "getClosestSmaller(6)"
   ]
  },
  {
   "cell_type": "markdown",
   "metadata": {},
   "source": [
    "# Counter game"
   ]
  },
  {
   "cell_type": "code",
   "execution_count": 30,
   "metadata": {
    "collapsed": false
   },
   "outputs": [
    {
     "name": "stdout",
     "output_type": "stream",
     "text": [
      "1\n",
      "9\n",
      "Louise\n"
     ]
    }
   ],
   "source": [
    "T = int(input())\n",
    "players = \"Richard\", \"Louise\"\n",
    "for i in range(T):\n",
    "    N = int(input())\n",
    "    print(players[bin(N-1).count(\"1\")%2])    "
   ]
  },
  {
   "cell_type": "code",
   "execution_count": 31,
   "metadata": {
    "collapsed": false
   },
   "outputs": [
    {
     "name": "stdout",
     "output_type": "stream",
     "text": [
      "7 4\n",
      "1110100110\n",
      "1001010"
     ]
    }
   ],
   "source": [
    "import sys\n",
    "\n",
    "m_len, m_rec = map(int, input().split(\" \"))\n",
    "message = [int(i) for i in str(input())]\n",
    "accum = 0\n",
    "for i in range(m_len):\n",
    "    message[i] = message[i] ^ accum\n",
    "    sys.stdout.write(str(message[i]))\n",
    "    accum = message[i] ^ accum\n",
    "    if i>=m_rec-1:\n",
    "        accum = accum ^ message[i-m_rec+1]"
   ]
  },
  {
   "cell_type": "markdown",
   "metadata": {
    "collapsed": true
   },
   "source": [
    "# Game of Throne 1: is string an anagrame of a palindrom"
   ]
  },
  {
   "cell_type": "code",
   "execution_count": null,
   "metadata": {
    "collapsed": true
   },
   "outputs": [],
   "source": [
    "from collections import Counter\n",
    "\n",
    "def can_be_palindrome(string):\n",
    "    \"\"\"Returns true if a string is an anagram of a palindrome.\"\"\"\n",
    "    # Observation: one letter can appear odd number of times in a palindrome.\n",
    "    # The rest must appear an even number of times.\n",
    "    letter_counts = Counter(string).values()\n",
    "    odd_counts = [count for count in letter_counts if count % 2 != 0]\n",
    "    return len(odd_counts) <= 1\n",
    "\n",
    "\n",
    "if __name__ == '__main__':\n",
    "    string = input()\n",
    "print('YES' if can_be_palindrome(string) else 'NO')"
   ]
  },
  {
   "cell_type": "markdown",
   "metadata": {},
   "source": [
    "## Sherlock and Anagrams : find unorder pair of anagram"
   ]
  },
  {
   "cell_type": "code",
   "execution_count": 7,
   "metadata": {
    "collapsed": false
   },
   "outputs": [
    {
     "name": "stdout",
     "output_type": "stream",
     "text": [
      "4\n"
     ]
    }
   ],
   "source": [
    " for _ in range(int(input())):\n",
    "    s = input().strip()\n",
    "    anag =0\n",
    "    bucket={}\n",
    "    for i in range(len(s)):\n",
    "        for j in range(len(s)-i):\n",
    "            s1 = ''.join(sorted(s[j:j+i+1]))\n",
    "            bucket[s1]= bucket.get(s1,0) +1\n",
    "            \n",
    "    \n",
    "    \n",
    "    for key in bucket:\n",
    "        anag += (bucket[key] - 1) * bucket[key] // 2\n",
    "    print(anag)"
   ]
  },
  {
   "cell_type": "code",
   "execution_count": 8,
   "metadata": {
    "collapsed": false
   },
   "outputs": [
    {
     "name": "stdout",
     "output_type": "stream",
     "text": [
      "1\n",
      "'abba'\n"
     ]
    }
   ],
   "source": [
    "from collections import Counter\n",
    "\n",
    "T = int(input())\n",
    "for a0 in range(T):\n",
    "    s = input().strip()\n",
    "    buckets = {}\n",
    "    for i in range(len(s)):\n",
    "        for j in range(1, len(s) - i + 1):\n",
    "            key = frozenset(Counter(s[i:i+j]).items()) # O(N) time key extract\n",
    "            buckets[key] = buckets.get(key, 0) + 1\n",
    "            "
   ]
  },
  {
   "cell_type": "code",
   "execution_count": null,
   "metadata": {
    "collapsed": true
   },
   "outputs": [],
   "source": [
    "from collections import Counter\n",
    " \n",
    "def isValid(S):\n",
    "    char_map = Counter(S)\n",
    "    char_occurence_map = Counter(char_map.values())\n",
    " \n",
    "    if len(char_occurence_map) == 1:\n",
    "        return True\n",
    " \n",
    "    if len(char_occurence_map) == 2:\n",
    "        for v in char_occurence_map.values():\n",
    "            if v == 1:\n",
    "                return True\n",
    " \n",
    "    return False\n",
    " \n",
    "S = raw_input()\n",
    "if isValid(S):\n",
    "    print(\"YES\")\n",
    "else:\n",
    "    print(\"NO\")\n"
   ]
  },
  {
   "cell_type": "code",
   "execution_count": null,
   "metadata": {
    "collapsed": true
   },
   "outputs": [],
   "source": [
    "n = int(input())\n",
    "student_marks = {}\n",
    "for _ in range(n):\n",
    "    line = input().split()\n",
    "    name, scores = line[0], line[1:]\n",
    "    scores = map(float, scores)\n",
    "    student_marks[name] = scores\n",
    "query_name = input()\n",
    "sum(student_marks[query_name])/len(student_marks[query_name])"
   ]
  },
  {
   "cell_type": "code",
   "execution_count": 5,
   "metadata": {
    "collapsed": false
   },
   "outputs": [
    {
     "name": "stdout",
     "output_type": "stream",
     "text": [
      "10\n",
      "2 3 4 5 6 8 7 6 5 18 6\n"
     ]
    }
   ],
   "source": [
    "from collections import Counter\n",
    "\n",
    "numShoes = int(input())\n",
    "shoes = Counter(map(int, input().split()))\n",
    "numCust = int(input())\n",
    "income = 0\n",
    "for i in range(numCust):\n",
    "    size, price = map(int, input().split())\n",
    "    if shoes[size]: \n",
    "        income += price\n",
    "        shoes[size] -= 1\n",
    "\n",
    "print(income)  \n"
   ]
  },
  {
   "cell_type": "markdown",
   "metadata": {},
   "source": [
    "## Abbreviation"
   ]
  },
  {
   "cell_type": "code",
   "execution_count": 5,
   "metadata": {
    "collapsed": false
   },
   "outputs": [
    {
     "data": {
      "text/plain": [
       "False"
      ]
     },
     "execution_count": 5,
     "metadata": {},
     "output_type": "execute_result"
    }
   ],
   "source": [
    "def abbr(a, b):\n",
    "    if len(a) < len(b):\n",
    "        return False\n",
    "    \n",
    "    dp = [True] + [False] * len(b)\n",
    "    i = 0\n",
    "    while i < len(b) and a[i].upper() == b[i]:\n",
    "        i += 1\n",
    "        dp[i] = True\n",
    "        \n",
    "    for i in range(len(a) - len(b)):\n",
    "        dp[0] = dp[0] and a[i].islower()\n",
    "        for j in range(len(b)):\n",
    "            cha, chb = a[i + j + 1], b[j]\n",
    "            if cha.isupper():   # when matching two characters, check small subset, it is also a case non-matching then\n",
    "                dp[j + 1] = dp[j] and cha == chb # check for smaller in a with current b\n",
    "            elif cha.upper() == chb:   # matching if upper case, either check excluding matching characters both \n",
    "                dp[j + 1] = dp[j] or dp[j + 1]  # or check excluding the character of a with current b \n",
    "                \n",
    "    return dp[len(b)]\n",
    "abbr('SRTING','STRING')"
   ]
  },
  {
   "cell_type": "code",
   "execution_count": 2,
   "metadata": {
    "collapsed": false
   },
   "outputs": [
    {
     "data": {
      "text/plain": [
       "[[True, False, False, False],\n",
       " [True, -1, -1, -1],\n",
       " [True, -1, -1, -1],\n",
       " [False, -1, -1, -1],\n",
       " [False, -1, -1, -1],\n",
       " [False, -1, -1, -1]]"
      ]
     },
     "execution_count": 2,
     "metadata": {},
     "output_type": "execute_result"
    }
   ],
   "source": [
    "s1 = 'daBcd'\n",
    "s2 = 'ABC'\n",
    "\n",
    "store = [[-1 for j in range(len(s2)+1)] for i in range (len(s1)+1)]\n",
    "\n",
    "store[0][0] = True\n",
    "for x in range(1, len(s1)+1):\n",
    "    if s1[x-1].isupper():\n",
    "        store[x][0] = False\n",
    "    else:\n",
    "        store[x][0] = store[x-1][0]\n",
    "for y in range (1, len(s2)+1):\n",
    "        store[0][y]=False\n",
    "store        "
   ]
  },
  {
   "cell_type": "code",
   "execution_count": 12,
   "metadata": {
    "collapsed": false
   },
   "outputs": [
    {
     "data": {
      "text/plain": [
       "[[True, False, False, False],\n",
       " [True, -1, -1, -1],\n",
       " [True, -1, -1, -1],\n",
       " [False, -1, -1, -1],\n",
       " [False, -1, -1, -1],\n",
       " [False, -1, -1, -1]]"
      ]
     },
     "execution_count": 12,
     "metadata": {},
     "output_type": "execute_result"
    }
   ],
   "source": [
    "store = [[-1 for j in range(len(s2)+1)] for i in range (len(s1)+1)]\n",
    "store[0][0] = True\n",
    "for x in range(1, len(s1)+1):\n",
    "    if s1[x-1].isupper():\n",
    "        store[x][0] = False\n",
    "    else:\n",
    "        store[x][0] = store[x-1][0]\n",
    "for y in range (1, len(s2)+1):\n",
    "        store[0][y]=False        \n",
    "store"
   ]
  },
  {
   "cell_type": "markdown",
   "metadata": {},
   "source": [
    "## Minimum number if jump to the end of array or Tower hopper"
   ]
  },
  {
   "cell_type": "code",
   "execution_count": 3,
   "metadata": {
    "collapsed": false
   },
   "outputs": [
    {
     "data": {
      "text/plain": [
       "False"
      ]
     },
     "execution_count": 3,
     "metadata": {},
     "output_type": "execute_result"
    }
   ],
   "source": [
    "def is_hoppable(tower):\n",
    "    if not tower:\n",
    "        return False\n",
    "    height =0 \n",
    "    target = len(tower)\n",
    "    for i in range(len(tower)):\n",
    "        height = max(height,tower[i])\n",
    "        if target <= height +i:\n",
    "            return True\n",
    "        height = -1\n",
    "        if height <0:\n",
    "            return False\n",
    "    return True\n",
    "is_hoppable([2,3,1,1,2,4,2,0,1,1])\n",
    "is_hoppable([1, 3, 5, 8, 9, 2, 6, 7, 6, 8, 9])"
   ]
  },
  {
   "cell_type": "code",
   "execution_count": 4,
   "metadata": {
    "collapsed": false
   },
   "outputs": [
    {
     "data": {
      "text/plain": [
       "True"
      ]
     },
     "execution_count": 4,
     "metadata": {},
     "output_type": "execute_result"
    }
   ],
   "source": [
    "def is_hoppable(arr):\n",
    "    step= arr[0]\n",
    "    for i in range(1,len(arr)):\n",
    "        if step >0 :\n",
    "            step -=1\n",
    "            step= max(step,arr[i])\n",
    "        else:\n",
    "            return False\n",
    "    return True\n",
    "is_hoppable([2,3,1,1,2,4,2,0,1,1])\n",
    "is_hoppable([1, 3, 5, 8, 9, 2, 6, 7, 6, 8, 9])"
   ]
  },
  {
   "cell_type": "code",
   "execution_count": 20,
   "metadata": {
    "collapsed": false
   },
   "outputs": [
    {
     "data": {
      "text/plain": [
       "([0, 1, 2, 2, 2, 3, 3, 3, 3, 3, 3], [0, 0, 1, 1, 1, 2, 2, 2, 3, 3, 3])"
      ]
     },
     "execution_count": 20,
     "metadata": {},
     "output_type": "execute_result"
    }
   ],
   "source": [
    "def is_hoppable(arr):\n",
    "    steps=[0]+[max(arr)]*(len(arr)-1)\n",
    "    loc=[0]*len(arr)\n",
    "    current=0\n",
    "    for i in range(1,len(arr)):\n",
    "        for j in range(i):\n",
    "            if i <= j +arr[j]:\n",
    "                steps[i] = min(steps[i],steps[j]+1)\n",
    "            if i <= current +arr[current]:   \n",
    "                loc[i]= current   \n",
    "            elif current < j:\n",
    "                current=j\n",
    "                loc[i]=j\n",
    "         \n",
    "    return steps, loc\n",
    "\n",
    "is_hoppable([1, 3, 5, 8, 9, 2, 6, 7, 6, 8, 9])"
   ]
  },
  {
   "cell_type": "markdown",
   "metadata": {
    "collapsed": false
   },
   "source": [
    "### http://www.geeksforgeeks.org/minimum-number-jumps-reach-endset-2on-solution/"
   ]
  },
  {
   "cell_type": "code",
   "execution_count": 5,
   "metadata": {
    "collapsed": false
   },
   "outputs": [
    {
     "name": "stdout",
     "output_type": "stream",
     "text": [
      "Minimum number of jumps to reach end is 3 \n"
     ]
    }
   ],
   "source": [
    "def minJumps(arr, n):\n",
    "# The number of jumps needed to reach the starting index is 0\n",
    "    if (n <= 1):\n",
    "        return 0\n",
    "# Return -1 if not possible to jump\n",
    "    if (arr[0] == 0):\n",
    "        return -1\n",
    "# initialization stores all time the maximal reachable index in the array\n",
    "    maxReach = arr[0]  \n",
    "# stores the amount of steps we can still take\n",
    "    step = arr[0]\n",
    "# stores the amount of jumps necessary to reach that maximal reachable position\n",
    "    jump =1\n",
    "# Start traversing array\n",
    "    for i in range(1,n):\n",
    "# Check if we have reached the end of the array\n",
    "        if (i == n-1):\n",
    "            return jump\n",
    "# updating maxReach\n",
    "        maxReach = max(maxReach, i+arr[i])\n",
    "# we use a step to get to the current index\n",
    "        step -= 1;\n",
    "# If no further steps left\n",
    "        if (step == 0):\n",
    "# we must have used a jump\n",
    "            jump += 1\n",
    "# Check if the current index/position or lesser index is the maximum reach point from the previous indexes\n",
    "            if(i >= maxReach):\n",
    "                return -1\n",
    "# re-initialize the steps to the amount\n",
    "# of steps to reach maxReach from position i.\n",
    "            step = maxReach - i;\n",
    "    return -1\n",
    "    \n",
    "arr = [1, 3, 5, 8, 9, 2, 6, 7, 6, 8, 9]\n",
    "\n",
    "size = len(arr)\n",
    "  \n",
    "# Calling the minJumps function\n",
    "print(\"Minimum number of jumps to reach end is %d \" %minJumps(arr,size))"
   ]
  },
  {
   "cell_type": "code",
   "execution_count": 6,
   "metadata": {
    "collapsed": false
   },
   "outputs": [
    {
     "name": "stdout",
     "output_type": "stream",
     "text": [
      "Minimum number of jumps to reach end is 3 \n"
     ]
    }
   ],
   "source": [
    "def minJumps(arr, n):\n",
    "    if (n <= 1):\n",
    "        return 0\n",
    "    if (arr[0] == 0):\n",
    "        return -1\n",
    "    maxReach = arr[0]  \n",
    "    step = arr[0]\n",
    "    jump =1\n",
    "    for i in range(1,n):\n",
    "        if (i == n-1):\n",
    "            return jump\n",
    "        maxReach = max(maxReach, i+arr[i])\n",
    "        step -= 1;\n",
    "        if (step == 0):\n",
    "            jump += 1\n",
    "            if(i >= maxReach):  # No solution\n",
    "                return -1\n",
    "            step = maxReach - i;\n",
    "    return -1\n",
    "    \n",
    "arr = [1, 3, 5, 8, 9, 2, 6, 7, 6, 8, 9]\n",
    "\n",
    "size = len(arr)\n",
    "  \n",
    "# Calling the minJumps function\n",
    "print(\"Minimum number of jumps to reach end is %d \" %minJumps(arr,size))"
   ]
  },
  {
   "cell_type": "code",
   "execution_count": 25,
   "metadata": {
    "collapsed": false
   },
   "outputs": [
    {
     "data": {
      "text/plain": [
       "4"
      ]
     },
     "execution_count": 25,
     "metadata": {},
     "output_type": "execute_result"
    }
   ],
   "source": [
    "def eggDrop(n, k):\n",
    "    # A 2D table where entery eggFloor[i][j] will represent minimum\n",
    "    # number of trials needed for i eggs and j floors.\n",
    "    eggFloor = [[0 for x in range(k+1)] for x in range(n+1)]\n",
    " \n",
    "    # We need one trial for one floor and0 trials for 0 floors\n",
    "    for i in range(1, n+1):\n",
    "        eggFloor[i][1] = 1\n",
    "        eggFloor[i][0] = 0\n",
    " \n",
    "    # We always need j trials for one egg and j floors.\n",
    "    for j in range(1, k+1):\n",
    "        eggFloor[1][j] = j\n",
    " \n",
    "    # Fill rest of the entries in table using optimal substructure property\n",
    "    for i in range(2, n+1):\n",
    "        for j in range(2, k+1):\n",
    "            eggFloor[i][j] = 999\n",
    "            for x in range(1, j+1):\n",
    "                res = 1 + max(eggFloor[i-1][x-1], eggFloor[i][j-x])\n",
    "                if res < eggFloor[i][j]:\n",
    "                    eggFloor[i][j] = res\n",
    " \n",
    "    # eggFloor[n][k] holds the result\n",
    "    return eggFloor[n][k]\n",
    "eggDrop(2,10)"
   ]
  },
  {
   "cell_type": "markdown",
   "metadata": {
    "collapsed": true
   },
   "source": [
    "### Find minimum of insertion to make a panlindrome"
   ]
  },
  {
   "cell_type": "markdown",
   "metadata": {},
   "source": [
    "# Dynamic programming for coin change\n",
    "Similar idea: https://www.youtube.com/watch?v=Y0ZqKpToTic"
   ]
  },
  {
   "cell_type": "code",
   "execution_count": 25,
   "metadata": {
    "collapsed": false
   },
   "outputs": [
    {
     "data": {
      "text/plain": [
       "2"
      ]
     },
     "execution_count": 25,
     "metadata": {},
     "output_type": "execute_result"
    }
   ],
   "source": [
    "def dpMakeChange(coinValueList,change,minCoins):\n",
    "    #minCoins = [-1]* (change+1)\n",
    "    for cents in range(change+1):\n",
    "        coinCount = cents\n",
    "        for j in [c for c in coinValueList if c <= cents]:\n",
    "            if minCoins[cents-j] + 1 < coinCount:\n",
    "                coinCount = minCoins[cents-j]+1\n",
    "        minCoins[cents] = coinCount\n",
    "    return minCoins[change]\n",
    "change =13\n",
    "minCoins= [-1]* (change+1)\n",
    "dpMakeChange([7,2,3,6],change,minCoins)    "
   ]
  },
  {
   "cell_type": "code",
   "execution_count": 1,
   "metadata": {
    "collapsed": false
   },
   "outputs": [
    {
     "name": "stdout",
     "output_type": "stream",
     "text": [
      "Making change for 63 requires\n",
      "3 coins\n",
      "They are:\n",
      "21\n",
      "21\n",
      "21\n",
      "The used list is as follows:\n",
      "[1, 1, 1, 1, 1, 5, 1, 1, 1, 1, 10, 1, 1, 1, 1, 5, 1, 1, 1, 1, 10, 21, 1, 1, 1, 25, 1, 1, 1, 1, 5, 10, 1, 1, 1, 10, 1, 1, 1, 1, 5, 10, 21, 1, 1, 10, 21, 1, 1, 1, 25, 1, 10, 1, 1, 5, 10, 1, 1, 1, 10, 1, 10, 21]\n"
     ]
    }
   ],
   "source": [
    "def dpMakeChange(coinList,change,minCoins,coinsUsed):\n",
    "    for cents in range(change+1):\n",
    "        coinCount = cents\n",
    "        newCoin = 1\n",
    "        for j in [c for c in coinList if c <= cents]:\n",
    "            if minCoins[cents-j] + 1 < coinCount:\n",
    "                coinCount = minCoins[cents-j]+1\n",
    "                newCoin = j\n",
    "        minCoins[cents] = coinCount\n",
    "        coinsUsed[cents] = newCoin\n",
    "    return minCoins[change]\n",
    "\n",
    "def printCoins(coinsUsed,change):\n",
    "    coin = change\n",
    "    while coin > 0:\n",
    "        thisCoin = coinsUsed[coin]\n",
    "        print(thisCoin,)\n",
    "        coin = coin - thisCoin\n",
    "\n",
    "amnt = 63\n",
    "clist = [1,5,10,21,25]\n",
    "coinsUsed = [0]*(amnt+1)\n",
    "coinCount = [0]*(amnt+1)\n",
    "\n",
    "print(\"Making change for\",amnt,\"requires\")\n",
    "print(dpMakeChange(clist,amnt,coinCount,coinsUsed),\"coins\")\n",
    "print(\"They are:\")\n",
    "printCoins(coinsUsed,amnt)\n",
    "print(\"The used list is as follows:\")\n",
    "print(coinsUsed)\n"
   ]
  },
  {
   "cell_type": "code",
   "execution_count": 1,
   "metadata": {
    "collapsed": false
   },
   "outputs": [
    {
     "name": "stdout",
     "output_type": "stream",
     "text": [
      "4\n"
     ]
    }
   ],
   "source": [
    "def count(S, m, n):\n",
    "    # We need n+1 rows as the table is consturcted in bottom up\n",
    "    # manner using the base case 0 value case (n = 0)\n",
    "    table = [[0 for x in range(m)] for x in range(n+1)]\n",
    " \n",
    "    # Fill the enteries for 0 value case (n = 0)\n",
    "    for i in range(m):\n",
    "        table[0][i] = 1\n",
    " \n",
    "    # Fill rest of the table enteries in bottom up manner\n",
    "    for i in range(1, n+1):\n",
    "        for j in range(m):\n",
    "            # Count of solutions including S[j]\n",
    "            x = table[i - S[j]][j] if i-S[j] >= 0 else 0\n",
    "            # Count of solutions excluding S[j]\n",
    "            y = table[i][j-1] if j >= 1 else 0\n",
    "            # total count\n",
    "            table[i][j] = x + y\n",
    " \n",
    "    return table[n][m-1]\n",
    " \n",
    "# Driver program to test above function\n",
    "arr = [1, 2, 3]\n",
    "m = len(arr)\n",
    "n = 4\n",
    "print(count(arr, m, n))"
   ]
  },
  {
   "cell_type": "markdown",
   "metadata": {},
   "source": [
    "### Longest  common substring\n",
    "Base Cases: If any of the string is null then LCS will be 0.\n",
    "Check if ith character in one string A is equal to jth character in string B\n",
    "Case 1: both characters are same\n",
    "LCS[i][j] = 1 + LCS[i-1][j-1] (add 1 to the result and remove the last character from both the strings and check the result for the smaller string.)  \n",
    "Case 2: both characters are not same.\n",
    "LCS[i][j] = 0  \n",
    "At the end, traverse the matrix and find the maximum element in it, This will the length of Longest Common Substring."
   ]
  },
  {
   "cell_type": "code",
   "execution_count": null,
   "metadata": {
    "collapsed": true
   },
   "outputs": [],
   "source": []
  },
  {
   "cell_type": "markdown",
   "metadata": {},
   "source": [
    "### Minimum number of insertion to make a palindrom"
   ]
  },
  {
   "cell_type": "code",
   "execution_count": 10,
   "metadata": {
    "collapsed": false
   },
   "outputs": [
    {
     "name": "stdout",
     "output_type": "stream",
     "text": [
      "3\n"
     ]
    }
   ],
   "source": [
    "def  shortPalin( S):\n",
    "    k=0\n",
    "    lis=len(S)\n",
    "    for i in range(len(S)//2):\n",
    "        if S[i]==S[lis-1-i]:\n",
    "            k=k+1\n",
    "        else :break\n",
    "    S=S[k:lis-k]\n",
    "    lis=len(S)\n",
    "    prev=0\n",
    "    w=len(S)\n",
    "    tot=0\n",
    "    for i in range(len(S)):\n",
    "        if i>=w:\n",
    "            break;\n",
    "        elif S[i]==S[lis-1-i]:\n",
    "             tot=tot+lcs(S[prev:i])\n",
    "             prev=i\n",
    "             w=lis-1-i\n",
    "    tot=tot+lcs(S[prev:i])\n",
    "    return tot\n",
    "\n",
    "def  lcs( S):\n",
    "    if (len(S)==1):\n",
    "        return 1\n",
    "    li=len(S)\n",
    "    X=[0 for x in range(len(S)+1)]\n",
    "    Y=[0 for l in range(len(S)+1)]\n",
    "    for i in range(len(S)-1,-1,-1):\n",
    "        for j in range(len(S)-1,-1,-1):\n",
    "            if S[i]==S[li-1-j]:\n",
    "                X[j]=1+Y[j+1]\n",
    "            else:\n",
    "                X[j]=max(Y[j],X[j+1])\n",
    "        Y=X\n",
    "    return li-X[0]\n",
    "print(shortPalin(\"tostotor\"))"
   ]
  },
  {
   "cell_type": "markdown",
   "metadata": {},
   "source": [
    "## Sort Array in wave form\n",
    "Idea:Traverse all even positioned elements of input array  \n",
    "If current element is smaller than previous odd element, swap previous current  \n",
    "If current element is smaller than next odd element, swap current and next   "
   ]
  },
  {
   "cell_type": "code",
   "execution_count": 2,
   "metadata": {
    "collapsed": false
   },
   "outputs": [
    {
     "name": "stdout",
     "output_type": "stream",
     "text": [
      "1 3 6 3 7 4 9 \n"
     ]
    }
   ],
   "source": [
    "a= map(int, input().split())\n",
    "for i in range(len(a),2):"
   ]
  },
  {
   "cell_type": "code",
   "execution_count": 12,
   "metadata": {
    "collapsed": false
   },
   "outputs": [
    {
     "name": "stdout",
     "output_type": "stream",
     "text": [
      "[3, 1, 6, 3, 7, 4, 9]\n"
     ]
    }
   ],
   "source": [
    "a=[1,3,6,3,7,4,9]\n",
    "for i in range(0,len(a),2):\n",
    "    if i>0 and a[i-1] > a[i]:\n",
    "        a[i-1],a[i]=a[i],a[i-1]\n",
    "    if i< len(a)-1 and a[i] <a[i+1]:\n",
    "        a[i],a[i+1]=a[i+1],a[i]     \n",
    "print(a)        "
   ]
  },
  {
   "cell_type": "markdown",
   "metadata": {},
   "source": [
    "### Search in almost sorted array\n",
    "e.g: arr=[10,3,40,20,50,80,70] , key  =40  => 2   \n",
    "     arr=[10,3,40,20,50,80,70], key = 90 => -1       "
   ]
  },
  {
   "cell_type": "code",
   "execution_count": 16,
   "metadata": {
    "collapsed": false
   },
   "outputs": [
    {
     "name": "stdout",
     "output_type": "stream",
     "text": [
      "[1, 2]\n"
     ]
    }
   ],
   "source": [
    "a=[1,2,4,1,5,2]\n",
    "dup=[]\n",
    "for i in range(len(a)):\n",
    "    if (a[abs(a[i])]>=0):\n",
    "        a[abs(a[i])] = -a[abs(a[i])]\n",
    "    else:\n",
    "        dup.append(abs(a[i]))\n",
    "print(dup)        "
   ]
  },
  {
   "cell_type": "markdown",
   "metadata": {},
   "source": [
    "### Find missing element of duplicates arrays\n",
    "a1=[1,4,5,7,9]   \n",
    "a2=[4,5,7,9]"
   ]
  },
  {
   "cell_type": "code",
   "execution_count": 17,
   "metadata": {
    "collapsed": false
   },
   "outputs": [
    {
     "name": "stdout",
     "output_type": "stream",
     "text": [
      "1\n"
     ]
    }
   ],
   "source": [
    "a1=[1,4,5,7,9]\n",
    "a2=[4,5,7,9]\n",
    "res=0\n",
    "for i in range(len(a1)):\n",
    "    res=res^a1[i]\n",
    "for i in range(len(a2)):\n",
    "    res=res^a2[i]    \n",
    "print(res)    "
   ]
  },
  {
   "cell_type": "markdown",
   "metadata": {},
   "source": [
    "### Maximum difference between two elements"
   ]
  },
  {
   "cell_type": "code",
   "execution_count": 21,
   "metadata": {
    "collapsed": false
   },
   "outputs": [
    {
     "name": "stdout",
     "output_type": "stream",
     "text": [
      "ABC\n",
      "ACB\n",
      "BAC\n",
      "BCA\n",
      "CBA\n",
      "CAB\n"
     ]
    }
   ],
   "source": [
    "def toString(List):\n",
    "    return ''.join(List)\n",
    "def permute(a, l, r):\n",
    "    if l==r:\n",
    "        print(toString(a))\n",
    "    else:\n",
    "        for i in range(l,r+1):\n",
    "            a[l], a[i] = a[i], a[l]\n",
    "            permute(a, l+1, r)\n",
    "            a[l], a[i] = a[i], a[l] # backtrack\n",
    "string = \"ABC\"\n",
    "n = len(string)\n",
    "a = list(string)\n",
    "permute(a, 0, n-1)            "
   ]
  },
  {
   "cell_type": "code",
   "execution_count": null,
   "metadata": {
    "collapsed": true
   },
   "outputs": [],
   "source": []
  }
 ],
 "metadata": {
  "anaconda-cloud": {},
  "kernelspec": {
   "display_name": "Python [default]",
   "language": "python",
   "name": "python3"
  },
  "language_info": {
   "codemirror_mode": {
    "name": "ipython",
    "version": 3
   },
   "file_extension": ".py",
   "mimetype": "text/x-python",
   "name": "python",
   "nbconvert_exporter": "python",
   "pygments_lexer": "ipython3",
   "version": "3.5.2"
  }
 },
 "nbformat": 4,
 "nbformat_minor": 1
}
