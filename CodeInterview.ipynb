{
 "cells": [
  {
   "cell_type": "code",
   "execution_count": 1,
   "metadata": {
    "collapsed": false
   },
   "outputs": [
    {
     "data": {
      "text/plain": [
       "'Hce'"
      ]
     },
     "execution_count": 1,
     "metadata": {},
     "output_type": "execute_result"
    }
   ],
   "source": [
    "S=\"Hacker\"\n",
    "S[::2]"
   ]
  },
  {
   "cell_type": "code",
   "execution_count": 2,
   "metadata": {
    "collapsed": false
   },
   "outputs": [
    {
     "data": {
      "text/plain": [
       "'akr'"
      ]
     },
     "execution_count": 2,
     "metadata": {},
     "output_type": "execute_result"
    }
   ],
   "source": [
    "S[1::2]"
   ]
  },
  {
   "cell_type": "code",
   "execution_count": 5,
   "metadata": {
    "collapsed": true
   },
   "outputs": [],
   "source": [
    "import sys\n",
    "n = sys.stdin.readlines()"
   ]
  },
  {
   "cell_type": "code",
   "execution_count": 11,
   "metadata": {
    "collapsed": false
   },
   "outputs": [],
   "source": [
    "n=2\n",
    "lines={}\n",
    "for i in range(0,2):\n",
    "    lines[i] = sys.stdin.readlines()\n",
    "    "
   ]
  },
  {
   "cell_type": "code",
   "execution_count": 14,
   "metadata": {
    "collapsed": false
   },
   "outputs": [
    {
     "name": "stdout",
     "output_type": "stream",
     "text": [
      "adf fga \n"
     ]
    },
    {
     "data": {
      "text/plain": [
       "'adf fga '"
      ]
     },
     "execution_count": 14,
     "metadata": {},
     "output_type": "execute_result"
    }
   ],
   "source": [
    "def read():\n",
    "    import sys\n",
    "    s = input()\n",
    "    return s\n",
    "read()"
   ]
  },
  {
   "cell_type": "code",
   "execution_count": 16,
   "metadata": {
    "collapsed": false
   },
   "outputs": [
    {
     "name": "stdout",
     "output_type": "stream",
     "text": [
      "2\n",
      "Not Weird\n",
      "3\n",
      "Weird\n"
     ]
    }
   ],
   "source": [
    "n = int(input().strip())\n",
    "check = {True: \"Not Weird\", False: \"Weird\"}\n",
    "\n",
    "print(check[\n",
    "        n%2==0 and (\n",
    "            n in range(2,6) or \n",
    "            n > 20)\n",
    "    ])\n",
    "\n",
    "# or\n",
    "n = int(input().strip())\n",
    "if (n in range (6, 21) or n % 2 != 0):\n",
    "    print(\"Weird\")\n",
    "else:\n",
    "    print(\"Not Weird\") \n"
   ]
  },
  {
   "cell_type": "code",
   "execution_count": 17,
   "metadata": {
    "collapsed": true
   },
   "outputs": [],
   "source": [
    "def is_leap(year):\n",
    "    leap = False\n",
    "    \n",
    "    # Write your logic here\n",
    "    if (year % 4 == 0 and year % 100 != 0) or year % 400 == 0:\n",
    "        leap = True\n",
    "     \n",
    "    \n",
    "    return leap"
   ]
  },
  {
   "cell_type": "markdown",
   "metadata": {},
   "source": [
    "Input N, print 12..N.  \n",
    "For example: \n",
    "    3    \n",
    "print    123"
   ]
  },
  {
   "cell_type": "code",
   "execution_count": 19,
   "metadata": {
    "collapsed": false
   },
   "outputs": [
    {
     "name": "stdout",
     "output_type": "stream",
     "text": [
      "4\n",
      "1234\n"
     ]
    }
   ],
   "source": [
    "from __future__ import print_function\n",
    "if __name__ == '__main__':\n",
    "    n = int(input())\n",
    "    print(*range(1,n+1),sep='')"
   ]
  },
  {
   "cell_type": "markdown",
   "metadata": {},
   "source": [
    "You are given data in a tabular format. The data contains rows, and each row contains space separated elements.\n",
    "\n",
    "You can imagine the items to be different attributes, (like height, weight, energy, etc.) and each of the rows as an instance or a sample.\n",
    "\n",
    "Your task is to sort the table on the th attribute and print the final resulting table. "
   ]
  },
  {
   "cell_type": "code",
   "execution_count": 25,
   "metadata": {
    "collapsed": false
   },
   "outputs": [
    {
     "name": "stdout",
     "output_type": "stream",
     "text": [
      "5 3\n",
      "10 2 5\n",
      "7 1 0\n",
      "9 9 9\n",
      "1 23 12\n",
      "6 5 9\n",
      "1\n"
     ]
    },
    {
     "ename": "TypeError",
     "evalue": "'map' object is not subscriptable",
     "output_type": "error",
     "traceback": [
      "\u001b[0;31m---------------------------------------------------------------------------\u001b[0m",
      "\u001b[0;31mTypeError\u001b[0m                                 Traceback (most recent call last)",
      "\u001b[0;32m<ipython-input-25-311b93061283>\u001b[0m in \u001b[0;36m<module>\u001b[0;34m()\u001b[0m\n\u001b[1;32m      8\u001b[0m \u001b[0mdata\u001b[0m \u001b[1;33m=\u001b[0m \u001b[1;33m[\u001b[0m\u001b[0mmap\u001b[0m\u001b[1;33m(\u001b[0m\u001b[0mint\u001b[0m\u001b[1;33m,\u001b[0m \u001b[0mrow\u001b[0m\u001b[1;33m)\u001b[0m \u001b[1;32mfor\u001b[0m \u001b[0mrow\u001b[0m \u001b[1;32min\u001b[0m \u001b[0mdata\u001b[0m\u001b[1;33m]\u001b[0m\u001b[1;33m\u001b[0m\u001b[0m\n\u001b[1;32m      9\u001b[0m \u001b[1;33m\u001b[0m\u001b[0m\n\u001b[0;32m---> 10\u001b[0;31m \u001b[1;32mfor\u001b[0m \u001b[0mrow\u001b[0m \u001b[1;32min\u001b[0m \u001b[0msorted\u001b[0m\u001b[1;33m(\u001b[0m\u001b[0mdata\u001b[0m\u001b[1;33m,\u001b[0m \u001b[0mkey\u001b[0m\u001b[1;33m=\u001b[0m\u001b[1;32mlambda\u001b[0m \u001b[0mx\u001b[0m\u001b[1;33m:\u001b[0m \u001b[0mx\u001b[0m\u001b[1;33m[\u001b[0m\u001b[0mint\u001b[0m\u001b[1;33m(\u001b[0m\u001b[0mindexer\u001b[0m\u001b[1;33m)\u001b[0m\u001b[1;33m]\u001b[0m\u001b[1;33m)\u001b[0m\u001b[1;33m:\u001b[0m\u001b[1;33m\u001b[0m\u001b[0m\n\u001b[0m\u001b[1;32m     11\u001b[0m   \u001b[0mprint\u001b[0m\u001b[1;33m(\u001b[0m \u001b[1;34m' '\u001b[0m\u001b[1;33m.\u001b[0m\u001b[0mjoin\u001b[0m\u001b[1;33m(\u001b[0m\u001b[0mstr\u001b[0m\u001b[1;33m(\u001b[0m\u001b[0mn\u001b[0m\u001b[1;33m)\u001b[0m \u001b[1;32mfor\u001b[0m \u001b[0mn\u001b[0m \u001b[1;32min\u001b[0m \u001b[0mrow\u001b[0m\u001b[1;33m)\u001b[0m\u001b[1;33m)\u001b[0m\u001b[1;33m\u001b[0m\u001b[0m\n",
      "\u001b[0;32m<ipython-input-25-311b93061283>\u001b[0m in \u001b[0;36m<lambda>\u001b[0;34m(x)\u001b[0m\n\u001b[1;32m      8\u001b[0m \u001b[0mdata\u001b[0m \u001b[1;33m=\u001b[0m \u001b[1;33m[\u001b[0m\u001b[0mmap\u001b[0m\u001b[1;33m(\u001b[0m\u001b[0mint\u001b[0m\u001b[1;33m,\u001b[0m \u001b[0mrow\u001b[0m\u001b[1;33m)\u001b[0m \u001b[1;32mfor\u001b[0m \u001b[0mrow\u001b[0m \u001b[1;32min\u001b[0m \u001b[0mdata\u001b[0m\u001b[1;33m]\u001b[0m\u001b[1;33m\u001b[0m\u001b[0m\n\u001b[1;32m      9\u001b[0m \u001b[1;33m\u001b[0m\u001b[0m\n\u001b[0;32m---> 10\u001b[0;31m \u001b[1;32mfor\u001b[0m \u001b[0mrow\u001b[0m \u001b[1;32min\u001b[0m \u001b[0msorted\u001b[0m\u001b[1;33m(\u001b[0m\u001b[0mdata\u001b[0m\u001b[1;33m,\u001b[0m \u001b[0mkey\u001b[0m\u001b[1;33m=\u001b[0m\u001b[1;32mlambda\u001b[0m \u001b[0mx\u001b[0m\u001b[1;33m:\u001b[0m \u001b[0mx\u001b[0m\u001b[1;33m[\u001b[0m\u001b[0mint\u001b[0m\u001b[1;33m(\u001b[0m\u001b[0mindexer\u001b[0m\u001b[1;33m)\u001b[0m\u001b[1;33m]\u001b[0m\u001b[1;33m)\u001b[0m\u001b[1;33m:\u001b[0m\u001b[1;33m\u001b[0m\u001b[0m\n\u001b[0m\u001b[1;32m     11\u001b[0m   \u001b[0mprint\u001b[0m\u001b[1;33m(\u001b[0m \u001b[1;34m' '\u001b[0m\u001b[1;33m.\u001b[0m\u001b[0mjoin\u001b[0m\u001b[1;33m(\u001b[0m\u001b[0mstr\u001b[0m\u001b[1;33m(\u001b[0m\u001b[0mn\u001b[0m\u001b[1;33m)\u001b[0m \u001b[1;32mfor\u001b[0m \u001b[0mn\u001b[0m \u001b[1;32min\u001b[0m \u001b[0mrow\u001b[0m\u001b[1;33m)\u001b[0m\u001b[1;33m)\u001b[0m\u001b[1;33m\u001b[0m\u001b[0m\n",
      "\u001b[0;31mTypeError\u001b[0m: 'map' object is not subscriptable"
     ]
    }
   ],
   "source": [
    "n, m = input().strip().split()\n",
    "data = []\n",
    "\n",
    "for _ in range(int(n)):\n",
    "    data.append(input().strip().split())\n",
    "\n",
    "indexer = input().strip()\n",
    "data = [map(int, row) for row in data]\n",
    "\n",
    "for row in sorted(data, key=lambda x: x[int(indexer)]):\n",
    "  print(' '.join(str(n) for n in row))"
   ]
  },
  {
   "cell_type": "markdown",
   "metadata": {},
   "source": [
    "Palindrom"
   ]
  },
  {
   "cell_type": "code",
   "execution_count": 28,
   "metadata": {
    "collapsed": false
   },
   "outputs": [
    {
     "ename": "ImportError",
     "evalue": "cannot import name 'split'",
     "output_type": "error",
     "traceback": [
      "\u001b[0;31m---------------------------------------------------------------------------\u001b[0m",
      "\u001b[0;31mImportError\u001b[0m                               Traceback (most recent call last)",
      "\u001b[0;32m<ipython-input-28-0877e2b2a99d>\u001b[0m in \u001b[0;36m<module>\u001b[0;34m()\u001b[0m\n\u001b[0;32m----> 1\u001b[0;31m \u001b[1;32mfrom\u001b[0m \u001b[0mstring\u001b[0m \u001b[1;32mimport\u001b[0m \u001b[0msplit\u001b[0m\u001b[1;33m\u001b[0m\u001b[0m\n\u001b[0m\u001b[1;32m      2\u001b[0m \u001b[1;33m\u001b[0m\u001b[0m\n\u001b[1;32m      3\u001b[0m \u001b[1;31m# https://www.hackerrank.com/challenges/any-or-all\u001b[0m\u001b[1;33m\u001b[0m\u001b[1;33m\u001b[0m\u001b[0m\n\u001b[1;32m      4\u001b[0m \u001b[1;33m\u001b[0m\u001b[0m\n\u001b[1;32m      5\u001b[0m \u001b[1;32mdef\u001b[0m \u001b[0mis_palindrome\u001b[0m\u001b[1;33m(\u001b[0m\u001b[0mx\u001b[0m\u001b[1;33m)\u001b[0m\u001b[1;33m:\u001b[0m\u001b[1;33m\u001b[0m\u001b[0m\n",
      "\u001b[0;31mImportError\u001b[0m: cannot import name 'split'"
     ]
    }
   ],
   "source": [
    "from string import split\n",
    "\n",
    "# https://www.hackerrank.com/challenges/any-or-all\n",
    "\n",
    "def is_palindrome(x):\n",
    "    if int(str(x)[::-1]) is x:\n",
    "        return True\n",
    "    return False\n",
    "\n",
    "def is_positive(x):\n",
    "    if x > 0:\n",
    "        return True\n",
    "    return False\n",
    "\n",
    "n = int(raw_input())\n",
    "nums = map(lambda x: int(x), split(raw_input()))\n",
    "\n",
    "if all([is_positive(x) for x in nums]):\n",
    "    if any([is_palindrome(x) for x in nums]):\n",
    "        print(True)\n",
    "    else:\n",
    "        print(False)\n",
    "else:\n",
    "     print(False)"
   ]
  },
  {
   "cell_type": "code",
   "execution_count": 29,
   "metadata": {
    "collapsed": false
   },
   "outputs": [
    {
     "name": "stdout",
     "output_type": "stream",
     "text": [
      "2\n",
      "Hacker\n",
      "Hce akr\n",
      "Rank\n",
      "Rn ak\n"
     ]
    }
   ],
   "source": [
    "for N in range(int(input())):\n",
    "    S = input()\n",
    "    print(S[::2], S[1::2])"
   ]
  },
  {
   "cell_type": "code",
   "execution_count": 31,
   "metadata": {
    "collapsed": false
   },
   "outputs": [
    {
     "name": "stdout",
     "output_type": "stream",
     "text": [
      "4\n",
      "1 2 4 7\n",
      "7 4 2 1\n"
     ]
    }
   ],
   "source": [
    "# DAy 7 : in reverse\n",
    "\n",
    "n = input()\n",
    "\n",
    "arr = [int(arr_temp) for arr_temp in input().strip().split(' ')]\n",
    "\n",
    "# Reverse arr and convert integer to string\n",
    "rarr = map(str, arr[::-1])\n",
    "print(\" \".join(rarr))"
   ]
  },
  {
   "cell_type": "code",
   "execution_count": 33,
   "metadata": {
    "collapsed": false
   },
   "outputs": [
    {
     "data": {
      "text/plain": [
       "True"
      ]
     },
     "execution_count": 33,
     "metadata": {},
     "output_type": "execute_result"
    }
   ],
   "source": [
    "def is_palindrome(x):\n",
    "    if int(str(x)[::-1]) is x:\n",
    "        return True\n",
    "    return False\n",
    "is_palindrome(121)"
   ]
  },
  {
   "cell_type": "code",
   "execution_count": 36,
   "metadata": {
    "collapsed": false
   },
   "outputs": [
    {
     "data": {
      "text/plain": [
       "'321'"
      ]
     },
     "execution_count": 36,
     "metadata": {},
     "output_type": "execute_result"
    }
   ],
   "source": [
    "str(123)[::-1]"
   ]
  },
  {
   "cell_type": "markdown",
   "metadata": {
    "collapsed": true
   },
   "source": [
    "Day 10: Binary"
   ]
  },
  {
   "cell_type": "code",
   "execution_count": 2,
   "metadata": {
    "collapsed": false
   },
   "outputs": [
    {
     "name": "stdout",
     "output_type": "stream",
     "text": [
      "3\n",
      "2\n"
     ]
    }
   ],
   "source": [
    "#!/bin/python\n",
    "\n",
    "import sys\n",
    "\n",
    "\n",
    "n = int(input().strip())\n",
    "\n",
    "\n",
    "max_one_count = 0\n",
    "one_count = 0\n",
    "\n",
    "while n != 0:\n",
    "\tfactor = n // 2\n",
    "\tremainder = n - 2 * factor\n",
    "\tn = factor\n",
    "\tif remainder == 1:\n",
    "\t\tone_count += 1\n",
    "\t\tmax_one_count = max(max_one_count, one_count)\n",
    "\telse:\n",
    "\t\tone_count = 0\n",
    "\n",
    "print(max_one_count)"
   ]
  },
  {
   "cell_type": "markdown",
   "metadata": {
    "collapsed": true
   },
   "source": [
    "Day 11: 2D array:\n",
    "        Given a 2D Array, :\n",
    "\n",
    "1 1 1 0 0 0  \n",
    "0 1 0 0 0 0  \n",
    "1 1 1 0 0 0  \n",
    "0 0 0 0 0 0  \n",
    "0 0 0 0 0 0  \n",
    "0 0 0 0 0 0  \n",
    "\n",
    "We define an hourglass in to be a subset of values with indices falling in this pattern in 's graphical representation:\n",
    "\n",
    "a b c     \n",
    "  d       \n",
    "e f g      \n",
    "\n",
    "There are 16 hourglasses in A, and an hourglass sum is the sum of an hourglass' values. Task: Calculate the hourglass sum for every hourglass in , then print the maximum hourglass sum.\n",
    "\n",
    "Input Format\n",
    "\n",
    "There are lines of input, where each line contains space-separated integers describing 2D Array ; every value in will be in the inclusive range -9 of to 9. Output Format\n",
    "\n",
    "Print the largest (maximum) hourglass sum found in .\n",
    "\n",
    "Sample Input\n",
    "\n",
    "1 1 1 0 0 0  \n",
    "0 1 0 0 0 0  \n",
    "1 1 1 0 0 0  \n",
    "0 0 2 4 4 0  \n",
    "0 0 0 2 0 0  \n",
    "0 0 1 2 4 0  \n",
    "\n",
    "Sample Output 19\n",
    "Explain\n",
    "The hourglass with the maximum sum () is:\n",
    "\n",
    "2 4 4    \n",
    "   2    \n",
    "1 2 4   \n",
    "\n"
   ]
  },
  {
   "cell_type": "code",
   "execution_count": 2,
   "metadata": {
    "collapsed": false
   },
   "outputs": [
    {
     "name": "stdout",
     "output_type": "stream",
     "text": [
      "5\n",
      "4\n",
      "3\n",
      "5\n",
      "7\n",
      "8\n"
     ]
    }
   ],
   "source": [
    "\"\"\"\n",
    "https://www.hackerrank.com/challenges/encryption\n",
    "This one was a very simple array question. Given a pattern, find that pattern inside a bigger array.\n",
    "I initialise the pattern inside the hour_glass variable. Then I shift it from left to right and top to bottom, add all numbers together and in the end take the biggest one, which will be the biggest hourglass (or pattern) inside the array\n",
    "\"\"\"\n",
    "\n",
    "hour_glass = [\n",
    "    [0, 0],\n",
    "    [0, 1],\n",
    "    [0, 2],\n",
    "    [1, 1],\n",
    "    [2, 0],\n",
    "    [2, 1],\n",
    "    [2, 2]\n",
    "]\n",
    "\n",
    "\n",
    "def extract_hourglass_at_index(offset_top, offset_left, array):\n",
    "    # first we need to offset the hourglass to a certain index\n",
    "    try:\n",
    "        values = []\n",
    "        for h in hour_glass:\n",
    "            # 0 is left, 1 is top\n",
    "            new_top = h[0] + offset_top\n",
    "            new_left = h[1] + offset_left\n",
    "            values.append(int(array[new_top][new_left]))\n",
    "\n",
    "        return sum(values)\n",
    "    except Exception:\n",
    "        return None\n",
    "\n",
    "\n",
    "def get_input_arr():\n",
    "    arr = []\n",
    "    for i in range(0, 6):\n",
    "        arr.append(input().split(' '))\n",
    "\n",
    "    return arr\n",
    "\n",
    "\n",
    "\n",
    "# t = [['1', '1', '1', '0', '0', '0\\r'], ['0', '1', '0', '0', '0', '0\\r'], ['1', '1', '1', '0', '0', '0\\r'], ['0', '9', '2', '-4', '-4', '0\\r'], ['0', '0', '0', '-2', '0', '0\\r'], ['0', '0', '-1', '-2', '-4', '0\\r']]\n",
    "t = get_input_arr()\n",
    "\n",
    "m = None\n",
    "for top in range(0, 4):\n",
    "    for left in range(0, 4):\n",
    "        if m is None or extract_hourglass_at_index(top, left, t) > m:\n",
    "            m = extract_hourglass_at_index(top, left, t)\n",
    "\n",
    "if m is not None:\n",
    "    print(m)"
   ]
  },
  {
   "cell_type": "markdown",
   "metadata": {
    "collapsed": true
   },
   "source": [
    "Day 12: Inheritance\n",
    "You are given two classes, Person and Student, where Person is the base class and Student is the derived class. Completed code for Person and a declaration for Student are provided for you in the editor. Observe that Student inherits all the properties of Person.\n",
    "\n",
    "Complete the Student class by writing the following:\n",
    "\n",
    "    A Student class constructor, which has parameters:\n",
    "        A string, .\n",
    "        A string, .\n",
    "        An integer, .\n",
    "        An integer array (or vector) of test scores, .\n",
    "    A char calculate() method that calculates a Student object's average and returns the grade character representative of their calculated average:\n",
    "\n",
    "Sample Input\n",
    "\n",
    "Heraldo Memelli 8135627\n",
    "2\n",
    "100 80\n",
    "\n",
    "Sample Output\n",
    "\n",
    " Name: Memelli, Heraldo\n",
    " ID: 8135627\n",
    " Grade: O\n",
    "Explanation\n",
    "\n",
    "This student had scores to average: 100 and 80. The student's average grade is 90. An average grade of corresponds to the letter grade O, so our calculate() method should return the character'O'."
   ]
  },
  {
   "cell_type": "markdown",
   "metadata": {},
   "source": [
    "Objective\n",
    "Today, we're taking what we learned yesterday about Inheritance and extending it to Abstract Classes. Because this is a very specific Object-Oriented concept, submissions are limited to the few languages that use this construct. Check out the Tutorial tab for learning materials and an instructional video!\n",
    "\n",
    "Task\n",
    "Given a Book class and a Solution class, write a MyBook class that does the following:\n",
    "\n",
    "    Inherits from Book\n",
    "    Has a parameterized constructor taking these parameters:\n",
    "        string title\n",
    "        string author\n",
    "        int    price\n",
    "    Implements the Book class' abstract display() method so it prints these lines:\n",
    "        1. Title: , a space, and then the current instance's title.\n",
    "        2. Author:, a space, and then the current instance's author.\n",
    "        3. price:, a space, and then the current instance's price.\n",
    "\n",
    "Note: Because these classes are being written in the same file, you must not use an access modifier (e.g.: ) when declaring MyBook or your code will not execute.\n",
    "\n",
    "Input Format\n",
    "\n",
    "You are not responsible for reading any input from stdin. The Solution class creates a Book object and calls the MyBook class constructor (passing it the necessary arguments). It then calls the display method on the Book object.\n",
    "\n",
    "Output Format\n",
    "\n",
    "The method should print and label the respective , , and of the MyBook object's instance (with each value on its own line) like so:\n",
    "\n",
    "Title: $title  \n",
    "Author: $author  \n",
    "Price: $price  \n",
    "\n",
    "Note: The is prepended to variable names to indicate they are placeholders for variables.\n",
    "\n",
    "* Sample Input \n",
    "\n",
    "The following input from stdin is handled by the locked stub code in your editor:\n",
    "\n",
    "The Alchemist\n",
    "Paulo Coelho\n",
    "248\n",
    "\n",
    "* Sample Output\n",
    "\n",
    "The following output is printed by your display() method:\n",
    "\n",
    "Title: The Alchemist  \n",
    "Author: Paulo Coelho  \n",
    "Price: 248\n"
   ]
  },
  {
   "cell_type": "code",
   "execution_count": null,
   "metadata": {
    "collapsed": true
   },
   "outputs": [],
   "source": []
  },
  {
   "cell_type": "markdown",
   "metadata": {},
   "source": [
    "Day 14 Task\n",
    "Complete the Difference class by writing the following:\n",
    "\n",
    "    A class constructor that takes an array of integers as a parameter and saves it to the instance variable.\n",
    "    A computeDifference method that finds the maximum absolute difference between any numbers in and stores it in the instance variable.\n",
    "\n",
    "Input Format\n",
    "\n",
    "You are not responsible for reading any input from stdin. The locked Solution class in your editor reads in lines of input; the first line contains N, and the second line describes element the array.\n",
    "\n",
    "Sample Input\n",
    "\n",
    "3\n",
    "1 2 5\n",
    "\n",
    "Sample Output\n",
    "\n",
    "4\n",
    "\n",
    "Explanation\n",
    "\n",
    "The scope of the array and integer is the entire class instance. The class constructor saves the argument passed to the constructor as the instance variable (where the computeDifference method can access it).\n",
    "\n",
    "To find the maximum difference, computeDifference checks each element in the array and finds the maximum difference between any elements:\n",
    "\n",
    "The maximum of these differences is 4, so it saves 4 maximumDifference the value as the instance variable. The locked stub code in the editor then prints the value stored as maximumDifference, which is 4.\n"
   ]
  },
  {
   "cell_type": "code",
   "execution_count": 1,
   "metadata": {
    "collapsed": false
   },
   "outputs": [
    {
     "name": "stdout",
     "output_type": "stream",
     "text": [
      "4\n"
     ]
    }
   ],
   "source": [
    "class Difference:\n",
    "    def __init__(self, a):\n",
    "        self.__elements = a\n",
    "        self.maximumDifference = 0\n",
    "\n",
    "    # Add your code here\n",
    "    def computeDifference(self):\n",
    "        l = len(a)\n",
    "        for i in range(0, l):\n",
    "            for j in range(i + 1, l):\n",
    "                difference = abs(a[i] - a[j])\n",
    "                self.maximumDifference = max(difference, self.maximumDifference)\n",
    "# End of Difference class\n",
    "\n",
    "a = [int(e) for e in \"1 2 5\".split(' ')]\n",
    "\n",
    "d = Difference(a)\n",
    "d.computeDifference()\n",
    "\n",
    "print(d.maximumDifference)"
   ]
  },
  {
   "cell_type": "code",
   "execution_count": 5,
   "metadata": {
    "collapsed": false
   },
   "outputs": [
    {
     "name": "stdout",
     "output_type": "stream",
     "text": [
      "5\n",
      "6 3 6 8 2\n",
      "2 8 6 3 6\n"
     ]
    }
   ],
   "source": [
    "\"\"\"\n",
    "Objective\n",
    "Today, we're learning about the Array data structure.\n",
    "Task\n",
    "Given an array, A, of N integers, print A's elements in reverse order\n",
    "as a single line of space-separated numbers.\n",
    "\"\"\"\n",
    "\n",
    "\n",
    "n = int(input().strip())\n",
    "arr = [int(arr_temp) for arr_temp in input().strip().split(' ')]\n",
    "\n",
    "# Reverse arr and convert integer to string\n",
    "rarr = map(str, arr[::-1])\n",
    "print(\" \".join(rarr))"
   ]
  },
  {
   "cell_type": "markdown",
   "metadata": {},
   "source": [
    "\n",
    "* Recover the Arrays\n",
    "\n",
    "\n",
    "That the question means is that they will give you a set of numbers. Example: 11, and then 5 4 3 2 1 0 2 1 4 1 4. (11 is the number of numbers in the set). Since the first number is 5, the first line will contain the numbers: 5 4 3 2 1 0 (5, and 5 numbers after that.) Then we have: 2 1 4 (2 is the number after 0, and 2 numbers after that) 1 4 (1 is the number after the previous line, and one number after that.) So the answer is 3, because we have three lines."
   ]
  },
  {
   "cell_type": "code",
   "execution_count": 16,
   "metadata": {
    "collapsed": false
   },
   "outputs": [
    {
     "name": "stdout",
     "output_type": "stream",
     "text": [
      "6\n",
      "3 1 2 3 1 6\n",
      "[3, 1, 2, 3, 1, 6]\n"
     ]
    }
   ],
   "source": [
    "n = int(input().strip())\n",
    "file = list(map(int, input().strip().split(' ')))\n",
    "#  Print the number of arrays defined in 'file' to STDOUT.\n",
    "print(file)   "
   ]
  },
  {
   "cell_type": "code",
   "execution_count": 12,
   "metadata": {
    "collapsed": false
   },
   "outputs": [
    {
     "data": {
      "text/plain": [
       "4"
      ]
     },
     "execution_count": 12,
     "metadata": {},
     "output_type": "execute_result"
    }
   ],
   "source": [
    "file[0]+1"
   ]
  },
  {
   "cell_type": "code",
   "execution_count": 13,
   "metadata": {
    "collapsed": false
   },
   "outputs": [
    {
     "data": {
      "text/plain": [
       "1"
      ]
     },
     "execution_count": 13,
     "metadata": {},
     "output_type": "execute_result"
    }
   ],
   "source": [
    "file[4]"
   ]
  },
  {
   "cell_type": "code",
   "execution_count": 17,
   "metadata": {
    "collapsed": false
   },
   "outputs": [
    {
     "name": "stdout",
     "output_type": "stream",
     "text": [
      "3\n",
      "4\n",
      "1\n",
      "6\n"
     ]
    }
   ],
   "source": [
    "i=0 \n",
    "count =0\n",
    "while i < n:\n",
    "    count +=1\n",
    "    print(file[i])\n",
    "    i += file[i] +1\n",
    "print(count)"
   ]
  },
  {
   "cell_type": "code",
   "execution_count": 7,
   "metadata": {
    "collapsed": false
   },
   "outputs": [
    {
     "name": "stdout",
     "output_type": "stream",
     "text": [
      "3\n",
      "11 2 4\n",
      "<map object at 0x000001A174A47048>\n",
      "4 5 6\n",
      "<map object at 0x000001A174A44438>\n",
      "10 8 -12\n",
      "<map object at 0x000001A174A47208>\n"
     ]
    }
   ],
   "source": [
    "import sys\n",
    "\n",
    "sum_diag1 = 0\n",
    "sum_diag2 = 0\n",
    "n = int(input().strip())\n",
    "a = []\n",
    "for a_i in range(n):\n",
    "    a_temp = map(int,input().strip().split(' '))\n",
    "    print(a_temp) "
   ]
  },
  {
   "cell_type": "code",
   "execution_count": 12,
   "metadata": {
    "collapsed": false
   },
   "outputs": [
    {
     "data": {
      "text/plain": [
       "[]"
      ]
     },
     "execution_count": 12,
     "metadata": {},
     "output_type": "execute_result"
    }
   ],
   "source": [
    "list(a_temp)"
   ]
  },
  {
   "cell_type": "markdown",
   "metadata": {
    "collapsed": false
   },
   "source": [
    "# Hacker Rank: Duplication \n",
    "Consider a binary string,s , with an initial value of 0. We expand by performing the following steps:\n",
    "\n",
    "    Create a string, t , where each character t[i] is equal to 1-s[i] . For example, if , s=\"01\" then t=\"10\". Note that and always have the same length because t is the complement of s.\n",
    "    Append to the end of so that . In the example \"01\" above, becomes \"0110\".\n",
    "    We keep on expanding using steps and until the length of exceeds .\n"
   ]
  },
  {
   "cell_type": "code",
   "execution_count": 30,
   "metadata": {
    "collapsed": false
   },
   "outputs": [
    {
     "name": "stdout",
     "output_type": "stream",
     "text": [
      "01\n",
      "0110\n",
      "01101001\n",
      "0110100110010110\n",
      "01101001100101101001011001101001\n",
      "1\n"
     ]
    }
   ],
   "source": [
    "def toTwosComplement(binarySequence):\n",
    "    convertedSequence = [0] * len(binarySequence)\n",
    "    # INVERT THE BITS\n",
    "    for i in range(0, len(binarySequence)):\n",
    "        if binarySequence[i] == '0':\n",
    "            convertedSequence[i] = 1\n",
    "        else:\n",
    "            convertedSequence[i] = 0\n",
    "    return convertedSequence       \n",
    "n=5\n",
    "binary='0'\n",
    "for i in range(n):\n",
    "    binary +=  ''.join(map(str,toTwosComplement(binary)))\n",
    "    print(binary)\n",
    "print(binary[4])    "
   ]
  },
  {
   "cell_type": "code",
   "execution_count": 6,
   "metadata": {
    "collapsed": false
   },
   "outputs": [
    {
     "name": "stdout",
     "output_type": "stream",
     "text": [
      "2\n",
      "5\n",
      "01\n",
      "0110\n",
      "01101001\n",
      "0\n",
      "7\n",
      "01\n",
      "0110\n",
      "01101001\n",
      "0110100110010110\n",
      "1\n"
     ]
    }
   ],
   "source": [
    "#!/bin/python3\n",
    "\n",
    "import sys\n",
    "\n",
    "def duplication(x):\n",
    "    # Complete this function\n",
    "    invertS = '0'\n",
    "    for i in range(0, x//2+1):\n",
    "        for i in range(len(invertS)):\n",
    "            if (invertS[i]=='0'): \n",
    "                invertS += '1'\n",
    "            else:\n",
    "                invertS +='0'\n",
    "        print(invertS)   \n",
    "                \n",
    "    return invertS[x]\n",
    "q = int(input().strip())\n",
    "for a0 in range(q):\n",
    "    x = int(input().strip())\n",
    "    #result = duplication(x)\n",
    "    #print(result)\n",
    "    print(duplication(x))\n"
   ]
  },
  {
   "cell_type": "code",
   "execution_count": null,
   "metadata": {
    "collapsed": true
   },
   "outputs": [],
   "source": [
    "#!/bin/python\n",
    "\n",
    "import sys\n",
    "\n",
    "def duplication(x):\n",
    "    # Complete this function\n",
    "    binary ='0'\n",
    "    for n in range(10):\n",
    "        for i in range(len(binary)):\n",
    "            if (binary[i]=='0'): \n",
    "                binary += '1'\n",
    "            else:\n",
    "                binary +='0'\n",
    "    return binary[x]          \n",
    "\n",
    "q = int(raw_input().strip())\n",
    "for a0 in xrange(q):\n",
    "    x = int(raw_input().strip())\n",
    "    result = duplication(x)\n",
    "    print(result)"
   ]
  },
  {
   "cell_type": "markdown",
   "metadata": {},
   "source": [
    "# Fight the Monsters!\n"
   ]
  },
  {
   "cell_type": "code",
   "execution_count": 61,
   "metadata": {
    "collapsed": false
   },
   "outputs": [
    {
     "name": "stdout",
     "output_type": "stream",
     "text": [
      "4\n"
     ]
    }
   ],
   "source": [
    "import sys\n",
    "\n",
    "def getMaxMonsters(n, hit, t, h):\n",
    "    # Complete this function\n",
    "    l=sorted(range(len(h)), key=lambda k: h[k])\n",
    "    j=0\n",
    "    count=0\n",
    "    for i in range(t):\n",
    "        h[l[j]]-= hit\n",
    "        if (h[l[j]]<=0):\n",
    "            count +=1 \n",
    "            j +=1\n",
    "    return count        \n",
    "        \n",
    "\n",
    "n, hit, t = raw_input().strip().split(' ')\n",
    "n, hit, t = [int(n), int(hit), int(t)]\n",
    "h = map(int, raw_input().strip().split(' '))\n",
    "result = getMaxMonsters(n, hit, t, h)\n",
    "print(result)\n"
   ]
  },
  {
   "cell_type": "markdown",
   "metadata": {
    "collapsed": false
   },
   "source": [
    "# Fight the Monster -Week of code 32\n"
   ]
  },
  {
   "cell_type": "code",
   "execution_count": 132,
   "metadata": {
    "collapsed": false
   },
   "outputs": [
    {
     "data": {
      "text/plain": [
       "[1, 0, 4, 2, 3, 6, 1, 0, 4]"
      ]
     },
     "execution_count": 132,
     "metadata": {},
     "output_type": "execute_result"
    }
   ],
   "source": [
    "n= 9\n",
    "s= 0\n",
    "p= 7\n",
    "t= 2\n",
    "g=3\n",
    "init=1\n",
    "seed =4\n",
    "R={0:init}\n",
    "\n",
    "for i in range(1,n):\n",
    "    R[i]=(R[i-1]* g +seed) % p\n",
    "    #print(i,' ',R[i])\n",
    "steps =list(R.values())\n",
    "steps"
   ]
  },
  {
   "cell_type": "code",
   "execution_count": 133,
   "metadata": {
    "collapsed": false
   },
   "outputs": [
    {
     "data": {
      "text/plain": [
       "False"
      ]
     },
     "execution_count": 133,
     "metadata": {},
     "output_type": "execute_result"
    }
   ],
   "source": [
    "# one step if R[0] + s > t\n",
    "init+ s > t"
   ]
  },
  {
   "cell_type": "code",
   "execution_count": 134,
   "metadata": {
    "collapsed": false
   },
   "outputs": [
    {
     "data": {
      "text/plain": [
       "[-1, 0, 1]"
      ]
     },
     "execution_count": 134,
     "metadata": {},
     "output_type": "execute_result"
    }
   ],
   "source": [
    "# else find range index based on R[0]=init and s\n",
    "l=[i for i in range(-init+s,init+1+s)]\n",
    "l"
   ]
  },
  {
   "cell_type": "code",
   "execution_count": 142,
   "metadata": {
    "collapsed": false
   },
   "outputs": [
    {
     "data": {
      "text/plain": [
       "[1, -1, -1]"
      ]
     },
     "execution_count": 142,
     "metadata": {},
     "output_type": "execute_result"
    }
   ],
   "source": [
    "dis=[steps[i] - t+i for i in l]\n",
    "dis"
   ]
  },
  {
   "cell_type": "markdown",
   "metadata": {},
   "source": [
    "# Making anagram"
   ]
  },
  {
   "cell_type": "code",
   "execution_count": 2,
   "metadata": {
    "collapsed": false
   },
   "outputs": [
    {
     "name": "stdout",
     "output_type": "stream",
     "text": [
      "cde\n",
      "abc\n"
     ]
    }
   ],
   "source": [
    "from collections import *    \n",
    "a=Counter(input())\n",
    "b=Counter(input())\n",
    "c=a-b;d=b-a;e=c+d\n",
    "print len(list(e.elements()))"
   ]
  },
  {
   "cell_type": "markdown",
   "metadata": {},
   "source": [
    "# Hash Table Ransom note"
   ]
  },
  {
   "cell_type": "code",
   "execution_count": 13,
   "metadata": {
    "collapsed": false
   },
   "outputs": [
    {
     "name": "stdout",
     "output_type": "stream",
     "text": [
      "6 4\n",
      "give me one grand today night\n",
      "give one grand today\n",
      "Yes\n"
     ]
    }
   ],
   "source": [
    "from collections import Counter\n",
    "def ransom_note(magazine, ransom):\n",
    "    return (Counter(ransom) - Counter(magazine)) == {}\n",
    "\n",
    "m, n = map(int, input().strip().split(' '))\n",
    "magazine = input().strip().split(' ')\n",
    "ransom = input().strip().split(' ')\n",
    "answer = ransom_note(magazine, ransom)\n",
    "if(answer):\n",
    "    print(\"Yes\")\n",
    "else:\n",
    "    print(\"No\")"
   ]
  },
  {
   "cell_type": "code",
   "execution_count": 15,
   "metadata": {
    "collapsed": false
   },
   "outputs": [
    {
     "data": {
      "text/plain": [
       "Counter({'give': 1, 'grand': 1, 'me': 1, 'night': 1, 'one': 1, 'today': 1})"
      ]
     },
     "execution_count": 15,
     "metadata": {},
     "output_type": "execute_result"
    }
   ],
   "source": [
    "Counter(magazine)"
   ]
  },
  {
   "cell_type": "code",
   "execution_count": 10,
   "metadata": {
    "collapsed": true
   },
   "outputs": [],
   "source": [
    "s=10\n",
    "keyboards=[3,1]\n",
    "drives= [5,2,8]"
   ]
  },
  {
   "cell_type": "code",
   "execution_count": 27,
   "metadata": {
    "collapsed": false
   },
   "outputs": [
    {
     "data": {
      "text/plain": [
       "[8, 5, 11, 6, 3, 9]"
      ]
     },
     "execution_count": 27,
     "metadata": {},
     "output_type": "execute_result"
    }
   ],
   "source": [
    "total=[k+u for k in keyboards for u in drives ]\n",
    "total"
   ]
  },
  {
   "cell_type": "code",
   "execution_count": 25,
   "metadata": {
    "collapsed": false
   },
   "outputs": [
    {
     "ename": "SyntaxError",
     "evalue": "unexpected EOF while parsing (<ipython-input-25-8e5db13b0218>, line 2)",
     "output_type": "error",
     "traceback": [
      "\u001b[0;36m  File \u001b[0;32m\"<ipython-input-25-8e5db13b0218>\"\u001b[0;36m, line \u001b[0;32m2\u001b[0m\n\u001b[0;31m    map(lambda x,y: x+y, list (itertools.product(keyboards, drives))\u001b[0m\n\u001b[0m                                                                     ^\u001b[0m\n\u001b[0;31mSyntaxError\u001b[0m\u001b[0;31m:\u001b[0m unexpected EOF while parsing\n"
     ]
    }
   ],
   "source": [
    "import itertools \n",
    "map(lambda x,y: x+y, list (itertools.product(keyboards, drives)) "
   ]
  },
  {
   "cell_type": "code",
   "execution_count": 1,
   "metadata": {
    "collapsed": false
   },
   "outputs": [
    {
     "name": "stdout",
     "output_type": "stream",
     "text": [
      "4\n",
      "aba\n",
      "baba\n",
      "aba\n",
      "xzxb\n"
     ]
    }
   ],
   "source": [
    "import collections\n",
    "\n",
    "values = collections.defaultdict(int)\n",
    "for _ in range(int(input())):\n",
    "    values[input()] += 1\n"
   ]
  },
  {
   "cell_type": "code",
   "execution_count": 6,
   "metadata": {
    "collapsed": false
   },
   "outputs": [
    {
     "data": {
      "text/plain": [
       "2"
      ]
     },
     "execution_count": 6,
     "metadata": {},
     "output_type": "execute_result"
    }
   ],
   "source": [
    "\n"
   ]
  },
  {
   "cell_type": "code",
   "execution_count": 1,
   "metadata": {
    "collapsed": false
   },
   "outputs": [
    {
     "name": "stdout",
     "output_type": "stream",
     "text": [
      "6\n",
      "12\n",
      "[12]\n",
      "0\n",
      "12.0\n",
      "4\n",
      "[4, 12]\n",
      "1\n",
      "8.0\n",
      "5\n",
      "[4, 5, 12]\n",
      "2\n",
      "5.0\n",
      "3\n",
      "[3, 4, 5, 12]\n",
      "3\n",
      "4.5\n",
      "8\n",
      "[3, 4, 5, 8, 12]\n",
      "4\n",
      "5.0\n",
      "7\n",
      "[3, 4, 5, 7, 8, 12]\n",
      "5\n",
      "6.0\n"
     ]
    }
   ],
   "source": [
    "import sys\n",
    "n = int(input().strip())\n",
    "a = []\n",
    "a_i = 0\n",
    "for a_i in range(n):\n",
    "    a_t = int(input().strip())\n",
    "    a.append(a_t)\n",
    "    a.sort()\n",
    "    print(a)\n",
    "    print(a_i)\n",
    "    if a_i%2==0:\n",
    "        print(a[a_i//2]*1.0)\n",
    "    else:\n",
    "        print((a[a_i//2]+a[a_i//2+1])/2)"
   ]
  },
  {
   "cell_type": "markdown",
   "metadata": {
    "collapsed": true
   },
   "source": [
    "?sort"
   ]
  },
  {
   "cell_type": "code",
   "execution_count": 39,
   "metadata": {
    "collapsed": false
   },
   "outputs": [
    {
     "name": "stdout",
     "output_type": "stream",
     "text": [
      "4 8 6 2 9\n"
     ]
    }
   ],
   "source": [
    "ar1 = list(map(int, input().strip().split(' ')))"
   ]
  },
  {
   "cell_type": "code",
   "execution_count": 41,
   "metadata": {
    "collapsed": false
   },
   "outputs": [
    {
     "data": {
      "text/plain": [
       "5"
      ]
     },
     "execution_count": 41,
     "metadata": {},
     "output_type": "execute_result"
    }
   ],
   "source": [
    "len(ar1)"
   ]
  },
  {
   "cell_type": "code",
   "execution_count": 34,
   "metadata": {
    "collapsed": false
   },
   "outputs": [
    {
     "name": "stdout",
     "output_type": "stream",
     "text": [
      "9 4 7 8 3\n"
     ]
    },
    {
     "data": {
      "text/plain": [
       "[4, 1, 2, 3, 0]"
      ]
     },
     "execution_count": 34,
     "metadata": {},
     "output_type": "execute_result"
    }
   ],
   "source": [
    "#h = map(int, input().strip().split(' '))\n",
    "h=[int(x) for x in input().strip().split()]\n",
    "sorted(range(len(h)), key=lambda k: h[k])"
   ]
  },
  {
   "cell_type": "code",
   "execution_count": 12,
   "metadata": {
    "collapsed": false
   },
   "outputs": [
    {
     "data": {
      "text/plain": [
       "[4, 2, 0, 3, 1]"
      ]
     },
     "execution_count": 12,
     "metadata": {},
     "output_type": "execute_result"
    }
   ],
   "source": [
    "l=sorted(range(len(h)), key=lambda k: h[k])\n",
    "l"
   ]
  },
  {
   "cell_type": "code",
   "execution_count": 22,
   "metadata": {
    "collapsed": false
   },
   "outputs": [
    {
     "data": {
      "text/plain": [
       "[2, 3, 4, 1, 0]"
      ]
     },
     "execution_count": 22,
     "metadata": {},
     "output_type": "execute_result"
    }
   ],
   "source": [
    "ar1=[9, 8, 3, 4, 5]\n",
    "sorted(range(len(ar1)),key=lambda k: ar1[k])"
   ]
  },
  {
   "cell_type": "markdown",
   "metadata": {},
   "source": [
    "# Week of Code 33: Twin Arrays"
   ]
  },
  {
   "cell_type": "code",
   "execution_count": 42,
   "metadata": {
    "collapsed": false
   },
   "outputs": [
    {
     "name": "stdout",
     "output_type": "stream",
     "text": [
      "5\n",
      "5 4 3 2 1\n",
      "1 2 3 4 5\n",
      "2\n"
     ]
    }
   ],
   "source": [
    "import sys\n",
    "\n",
    "def twinArrays(ar1, ar2):\n",
    "    # Complete this function\n",
    "    ar1=list(ar1)\n",
    "    ar2=list(ar2)\n",
    "    l1= sorted(range(len(ar1)), key=lambda k: ar1[k])\n",
    "    l2= sorted(range(len(ar2)), key=lambda k: ar2[k])\n",
    "    if l1[0] == l2[0]:\n",
    "        result = min(ar1[l1[0]]+ar2[l2[1]],ar1[l1[1]]+ar2[l2[0]])\n",
    "    else:  \n",
    "        result = ar1[l1[0]]+ar2[l2[0]]\n",
    "    return result\n",
    "n = int(input().strip())\n",
    "ar1 = map(int, input().strip().split(' '))\n",
    "ar2 = map(int, input().strip().split(' '))\n",
    "result = twinArrays(ar1, ar2)\n",
    "print(result)"
   ]
  },
  {
   "cell_type": "markdown",
   "metadata": {},
   "source": [
    "# Week of code 33: Pattern count"
   ]
  },
  {
   "cell_type": "code",
   "execution_count": 41,
   "metadata": {
    "collapsed": false
   },
   "outputs": [
    {
     "name": "stdout",
     "output_type": "stream",
     "text": [
      "['000', '000']\n",
      "{0: 1, 1: 2, 2: 2, 3: 1, 4: 1, 5: 1, 6: 1, 7: 1, 8: 1, 9: 1}\n",
      "4\n"
     ]
    }
   ],
   "source": [
    "def FrequentWords(Text, k):\n",
    "    FrequentPatterns = [] # output variable\n",
    "    # your code here\n",
    "    Count=CountDict(Text,k)\n",
    "    m =max(Count.values())\n",
    "    for i in Count:\n",
    "        if Count[i]==m:\n",
    "            FrequentPatterns.append(Text[i:i+k])\n",
    "    return FrequentPatterns\n",
    "\n",
    "# Input:  A string Text and an integer k\n",
    "# Output: CountDict(Text, k)\n",
    "# HINT:   This code should be identical to when you last implemented CountDict\n",
    "def CountDict(Text, k):\n",
    "    Count = {} \n",
    "    for i in range(len(Text)-k+1):\n",
    "        Pattern = Text[i:i+k]\n",
    "        Count[i] = PatternCount(Pattern, Text)\n",
    "    # fill in the rest of the CountDict function here.\n",
    "    return Count\n",
    "\n",
    "# Input:  Strings Pattern and Text\n",
    "# Output: The number of times Pattern appears in Text\n",
    "# HINT:   This code should be identical to \n",
    "# when you last implemented PatternCount\n",
    "def PatternCount(Pattern, Text):\n",
    "    count = 0 # output variable\n",
    "    # your code here\n",
    "    for i in range(len(Text) - len(Pattern)+1):\n",
    "        if Text[i:i+len(Pattern)] == Pattern:\n",
    "                 count = count + 1\n",
    "    return count\n",
    "Text=\"100001abc101\"\n",
    "#Text=\"CGGAGGACTCTAGGTAACGCTTATCAGGTCCATAGGACATTCA\"\n",
    "k=3\n",
    "print(FrequentWords(Text, k))\n",
    "print(CountDict(Text, k))\n",
    "\n",
    "print(PatternCount(\"101\",\"101010101\"))"
   ]
  },
  {
   "cell_type": "code",
   "execution_count": 58,
   "metadata": {
    "collapsed": false
   },
   "outputs": [
    {
     "name": "stdout",
     "output_type": "stream",
     "text": [
      "101   3\n",
      "1001   4\n",
      "10001   5\n",
      "100001   6\n",
      "1000001   7\n",
      "10000001   8\n",
      "100000001   9\n",
      "1000000001   10\n",
      "10000000001   11\n",
      "5\n"
     ]
    }
   ],
   "source": [
    "s=\"1001ab010abc01001\"\n",
    "s=\"10101010101\"\n",
    "count =0\n",
    "for j in range(1,len(s)-1):\n",
    "    Pattern=\"1\"+\"0\"*j+\"1\"\n",
    "    print(Pattern,\" \",len(Pattern))\n",
    "    for i in range(len(s) - len(Pattern)+1):\n",
    "        if s[i:i+len(Pattern)] == Pattern:\n",
    "            count = count + 1\n",
    "print(count)            "
   ]
  },
  {
   "cell_type": "code",
   "execution_count": 2,
   "metadata": {
    "collapsed": false
   },
   "outputs": [
    {
     "data": {
      "text/plain": [
       "['AB', 'BV', 'AB', 'BV']"
      ]
     },
     "execution_count": 2,
     "metadata": {},
     "output_type": "execute_result"
    }
   ],
   "source": [
    "def PatternCount( s):\n",
    "    count = 0 # output variable\n",
    "    Pattern=\"\"\n",
    "    for j in range(1,len(s)-2):\n",
    "        Pattern=\"1\"+\"0\"*j+\"1\"\n",
    "    # your code here\n",
    "    for i in range(len(Text) - len(Pattern)+1):\n",
    "        if Text[i:i+len(Pattern)] == Pattern:\n",
    "                 count = count + 1\n",
    "    return count"
   ]
  },
  {
   "cell_type": "code",
   "execution_count": 44,
   "metadata": {
    "collapsed": false
   },
   "outputs": [
    {
     "data": {
      "text/plain": [
       "(['100001', '101'], ['1001', '1001'], ['1001', '10001'], ['00', '000'])"
      ]
     },
     "execution_count": 44,
     "metadata": {},
     "output_type": "execute_result"
    }
   ],
   "source": [
    "import re\n",
    "a=\"100001abc101\"\n",
    "b=\"1001ab010abc01001\"\n",
    "c=\"1001010001\"\n",
    "r1=re.findall(r'(10+1)',a)\n",
    "r2=re.findall(r'(10+1)',b)\n",
    "r3=re.findall(r'(10+1)',c)\n",
    "\n",
    "for re.findall(r'1(0+)1',c)\n",
    "r1,r2,r3,re.findall(r'1(0+)1',c)"
   ]
  },
  {
   "cell_type": "code",
   "execution_count": 15,
   "metadata": {
    "collapsed": false
   },
   "outputs": [
    {
     "name": "stdout",
     "output_type": "stream",
     "text": [
      "2\n",
      "100001abc101\n",
      "3\n",
      "re.findall(r'(1(0+)1)',s[1])\n",
      "0\n"
     ]
    }
   ],
   "source": [
    "import sys\n",
    "import re\n",
    "def patternCount(s):\n",
    "    # Complete this function\n",
    "    return len(re.findall(r'(10+1)',s))+len(re.findall(r'(10+1)',s[1:])) \n",
    "               \n",
    "q = int(input().strip())\n",
    "for a0 in range(q):\n",
    "    s = input().strip()\n",
    "    result = patternCount(s)\n",
    "    print(result)\n"
   ]
  },
  {
   "cell_type": "code",
   "execution_count": 35,
   "metadata": {
    "collapsed": false
   },
   "outputs": [
    {
     "data": {
      "text/plain": [
       "(['101', '101'], ['101', '101'])"
      ]
     },
     "execution_count": 35,
     "metadata": {},
     "output_type": "execute_result"
    }
   ],
   "source": [
    "s=\"101010101\"\n",
    "re.findall(r'(10+1)',s),re.findall(r'(10+1)',s[1:])"
   ]
  },
  {
   "cell_type": "code",
   "execution_count": 36,
   "metadata": {
    "collapsed": false
   },
   "outputs": [
    {
     "data": {
      "text/plain": [
       "(['100001', '101'], ['101'])"
      ]
     },
     "execution_count": 36,
     "metadata": {},
     "output_type": "execute_result"
    }
   ],
   "source": [
    "s=\"100001abc101\"\n",
    "re.findall(r'(10+1)',s),re.findall(r'(10+1)',s[1:])"
   ]
  },
  {
   "cell_type": "markdown",
   "metadata": {},
   "source": [
    "# Transform palindrome"
   ]
  },
  {
   "cell_type": "code",
   "execution_count": 7,
   "metadata": {
    "collapsed": false
   },
   "outputs": [
    {
     "name": "stdout",
     "output_type": "stream",
     "text": [
      "10 8 15\n",
      "1 2\n",
      "1 3\n",
      "2 7\n",
      "3 1\n",
      "4 5\n",
      "6 8\n",
      "9 6\n",
      "10 5\n",
      "1 4 5 7 9 8 1 3 10 4 5 10 2 7 8\n"
     ]
    },
    {
     "data": {
      "text/plain": [
       "[1, 4, 5, 7, 9, 8, 1, 3, 10, 4, 5, 10, 2, 7, 8]"
      ]
     },
     "execution_count": 7,
     "metadata": {},
     "output_type": "execute_result"
    }
   ],
   "source": [
    "import sys\n",
    "S={}\n",
    "n,k,m = input().strip().split(' ')\n",
    "n,k,m = [int(n),int(k),int(m)]\n",
    "for a0 in range(k):\n",
    "    x,y = input().strip().split(' ')\n",
    "    x,y = [int(x),int(y)]\n",
    "    if x not in S.keys():\n",
    "        if y not in S.keys():\n",
    "            S[x]=x\n",
    "            S[y]=x\n",
    "        else:\n",
    "            S[x] = S[y]\n",
    "    else:    \n",
    "        S[y]=S[x]\n",
    "\n",
    "a = map(int, input().strip().split(' '))\n",
    "a= list(a)\n",
    "a"
   ]
  },
  {
   "cell_type": "code",
   "execution_count": 14,
   "metadata": {
    "collapsed": false
   },
   "outputs": [
    {
     "data": {
      "text/plain": [
       "[1, 4, 4, 1, 6, 6, 1, 1, 4, 4, 4, 4, 1, 1, 6]"
      ]
     },
     "execution_count": 14,
     "metadata": {},
     "output_type": "execute_result"
    }
   ],
   "source": [
    "b=a.copy()\n",
    "b=list(map(lambda k: S[k], b))\n",
    "b"
   ]
  },
  {
   "cell_type": "code",
   "execution_count": 13,
   "metadata": {
    "collapsed": false
   },
   "outputs": [
    {
     "data": {
      "text/plain": [
       "[1, 4, 4, 1, 6, 6, 1, 1, 4, 4, 4, 4, 1, 1, 6]"
      ]
     },
     "execution_count": 13,
     "metadata": {},
     "output_type": "execute_result"
    }
   ],
   "source": [
    "list(map(lambda k: S[k], b))"
   ]
  },
  {
   "cell_type": "code",
   "execution_count": 52,
   "metadata": {
    "collapsed": false
   },
   "outputs": [],
   "source": [
    "def findLongestPalindromicString(text,N):\n",
    "    if N == 0:\n",
    "        return\n",
    "    N = 2*N+1    # Position count\n",
    "    L = [0] * N\n",
    "    L[0] = 0\n",
    "    L[1] = 1\n",
    "    C = 1     # centerPosition\n",
    "    R = 2     # centerRightPosition\n",
    "    i = 0    # currentRightPosition\n",
    "    iMirror = 0     # currentLeftPosition\n",
    "    maxLPSLength = 0\n",
    "    maxLPSCenterPosition = 0\n",
    "    start = -1\n",
    "    end = -1\n",
    "    diff = -1\n",
    "  \n",
    "    # Uncomment it to print LPS Length array\n",
    "    # printf(\"%d %d \", L[0], L[1]);\n",
    "    for i in range(2,N):\n",
    "      \n",
    "        # get currentLeftPosition iMirror for currentRightPosition i\n",
    "        iMirror = 2*C-i\n",
    "        L[i] = 0\n",
    "        diff = R - i\n",
    "        # If currentRightPosition i is within centerRightPosition R\n",
    "        if diff > 0:\n",
    "            L[i] = min(L[iMirror], diff)\n",
    "  \n",
    "        # Attempt to expand palindrome centered at currentRightPosition i\n",
    "        # Here for odd positions, we compare characters and\n",
    "        # if match then increment LPS Length by ONE\n",
    "        # If even position, we just increment LPS by ONE without\n",
    "        # any character comparison\n",
    "        try:\n",
    "            while ((i+L[i]) < N and (i-L[i]) > 0) and \\\n",
    "                    (((i+L[i]+1) % 2 == 0) or \\\n",
    "                    (text[(i+L[i]+1)/2] == text[(i-L[i]-1)/2])):\n",
    "                L[i]+=1\n",
    "        except Exception as e:\n",
    "            pass\n",
    "  \n",
    "        if L[i] > maxLPSLength:        # Track maxLPSLength\n",
    "            maxLPSLength = L[i]\n",
    "            maxLPSCenterPosition = i\n",
    "  \n",
    "        # If palindrome centered at currentRightPosition i\n",
    "        # expand beyond centerRightPosition R,\n",
    "        # adjust centerPosition C based on expanded palindrome.\n",
    "        if i + L[i] > R:\n",
    "            C = i\n",
    "            R = i + L[i]\n",
    "    print(\"%d \", L[i]);\n",
    "    # Uncomment it to print LPS Length array\n",
    "    start = (maxLPSCenterPosition - maxLPSLength) / 2\n",
    "    end = start + maxLPSLength - 1\n",
    "    \n",
    "    \n"
   ]
  },
  {
   "cell_type": "code",
   "execution_count": 53,
   "metadata": {
    "collapsed": false
   },
   "outputs": [
    {
     "name": "stdout",
     "output_type": "stream",
     "text": [
      "%d  0\n"
     ]
    }
   ],
   "source": [
    "st=''.join(str(e) for e in a)\n",
    "findLongestPalindromicString(st,m)"
   ]
  },
  {
   "cell_type": "code",
   "execution_count": 16,
   "metadata": {
    "collapsed": true
   },
   "outputs": [],
   "source": [
    "def longestpalindromseq(alist,m):\n",
    "    \n",
    "    L = [[0 for x in range(n)] for x in range(n)]\n",
    " \n",
    " \n",
    "    for i in range(n):\n",
    "        L[i][i] = 1\n",
    " \n",
    "   \n",
    "    for cl in range(2, n+1):\n",
    "        for i in range(n-cl+1):\n",
    "            j = i+cl-1\n",
    "            if alist[i] == alist[j] and cl == 2:\n",
    "                L[i][j] = 2\n",
    "            elif alist[i] == alist[j]:\n",
    "                L[i][j] = L[i+1][j-1] + 2\n",
    "            else:\n",
    "                L[i][j] = max(L[i][j-1], L[i+1][j]);\n",
    " \n",
    "    return L[0][n-1]"
   ]
  },
  {
   "cell_type": "code",
   "execution_count": 21,
   "metadata": {
    "collapsed": false
   },
   "outputs": [
    {
     "name": "stdout",
     "output_type": "stream",
     "text": [
      "The length of the LPS is 8\n"
     ]
    }
   ],
   "source": [
    "# Driver program to test above functions\n",
    "\n",
    "print(\"The length of the LPS is \" + str(longestpalindromseq(b,m)))"
   ]
  },
  {
   "cell_type": "markdown",
   "metadata": {},
   "source": [
    "# Panlindrome Table"
   ]
  },
  {
   "cell_type": "code",
   "execution_count": 2,
   "metadata": {
    "collapsed": false
   },
   "outputs": [
    {
     "name": "stdout",
     "output_type": "stream",
     "text": [
      "3 3\n",
      "1 1 1\n",
      "1 0 1\n",
      "1 1 1\n"
     ]
    }
   ],
   "source": [
    "import sys\n",
    "\n",
    "n, m = input().strip().split(' ')\n",
    "n, m = [int(n), int(m)]\n",
    "table = []\n",
    "for table_i in range(n):\n",
    "    table_temp = list(map(int,input().strip().split(' ')))\n",
    "    table.append(table_temp)"
   ]
  },
  {
   "cell_type": "markdown",
   "metadata": {},
   "source": [
    "# print table\n",
    "import pandas as pd  \n",
    "print(pd.DataFrame(table))  \n",
    "Alternative, \n",
    "for row in table:  \n",
    "        print(' '.join([str(e) for e in row]))  \n",
    "             "
   ]
  },
  {
   "cell_type": "code",
   "execution_count": 4,
   "metadata": {
    "collapsed": false
   },
   "outputs": [],
   "source": [
    "import pandas as pd\n",
    "df= pd.DataFrame(table)"
   ]
  },
  {
   "cell_type": "code",
   "execution_count": 32,
   "metadata": {
    "collapsed": false
   },
   "outputs": [
    {
     "data": {
      "text/html": [
       "<div>\n",
       "<table border=\"1\" class=\"dataframe\">\n",
       "  <thead>\n",
       "    <tr style=\"text-align: right;\">\n",
       "      <th></th>\n",
       "      <th>1</th>\n",
       "      <th>2</th>\n",
       "    </tr>\n",
       "  </thead>\n",
       "  <tbody>\n",
       "    <tr>\n",
       "      <th>1</th>\n",
       "      <td>0</td>\n",
       "      <td>1</td>\n",
       "    </tr>\n",
       "    <tr>\n",
       "      <th>2</th>\n",
       "      <td>1</td>\n",
       "      <td>1</td>\n",
       "    </tr>\n",
       "  </tbody>\n",
       "</table>\n",
       "</div>"
      ],
      "text/plain": [
       "   1  2\n",
       "1  0  1\n",
       "2  1  1"
      ]
     },
     "execution_count": 32,
     "metadata": {},
     "output_type": "execute_result"
    }
   ],
   "source": [
    "df.iloc[1:3,1:3]"
   ]
  },
  {
   "cell_type": "code",
   "execution_count": 74,
   "metadata": {
    "collapsed": false,
    "scrolled": true
   },
   "outputs": [
    {
     "name": "stdout",
     "output_type": "stream",
     "text": [
      "1 1 1\n",
      "1 0 1\n",
      "1 1 1\n"
     ]
    }
   ],
   "source": [
    "for row in table:\n",
    "    print(' '.join([str(e) for e in row])) "
   ]
  },
  {
   "cell_type": "code",
   "execution_count": 94,
   "metadata": {
    "collapsed": false
   },
   "outputs": [],
   "source": [
    "L=[]\n",
    "for i in range(n):\n",
    "    for j in range(m):\n",
    "        L.append(T[0:i,0:j])"
   ]
  },
  {
   "cell_type": "code",
   "execution_count": 127,
   "metadata": {
    "collapsed": false
   },
   "outputs": [],
   "source": [
    "import pandas as pd\n",
    "def ContinSubSeq(lst):\n",
    "    size=len(lst)\n",
    "    for start in range(size):\n",
    "        for end in range(start+1,size+1):\n",
    "            yield (start,end)\n",
    "\n",
    "def getsubmat(mat,start_row,end_row,start_col,end_col):\n",
    "    return [i[start_col:end_col] for i in mat[start_row:end_row] ]\n",
    "\n",
    "def get_all_sub_mat(mat):\n",
    "    rows = len(mat)\n",
    "    cols = len(mat[0])\n",
    "    for start_row,end_row in ContinSubSeq(list(range(rows))):\n",
    "        for start_col,end_col in ContinSubSeq(list(range(cols))):\n",
    "            yield getsubmat(mat,start_row,end_row,start_col,end_col)\n",
    "\n",
    "#for i in get_all_sub_mat(Matrix):\n",
    "#    print(pd.DataFrame(i).to_string(index=False, header=False))\n",
    "#    print()"
   ]
  },
  {
   "cell_type": "markdown",
   "metadata": {},
   "source": [
    "Referrence https://stackoverflow.com/questions/35171721/find-all-submatrices-of-a-given-matrix"
   ]
  },
  {
   "cell_type": "code",
   "execution_count": 137,
   "metadata": {
    "collapsed": false
   },
   "outputs": [],
   "source": [
    "def get_all_sub_mat(mat):\n",
    "    rows = len(mat)\n",
    "    cols = len(mat[0])\n",
    "    def ContinSubSeq(lst):\n",
    "        size=len(lst)\n",
    "        for start in range(size):\n",
    "            for end in range(start+1,size+1):\n",
    "                yield (start,end)\n",
    "    for start_row,end_row in ContinSubSeq(list(range(rows))):\n",
    "        for start_col,end_col in ContinSubSeq(list(range(cols))):\n",
    "            yield [i[start_col:end_col] for i in mat[start_row:end_row] ]\n",
    "#for i in get_all_sub_mat(Matrix) :\n",
    "    #print(pd.DataFrame(i).to_string(index=False, header=False))\n",
    "result=list(get_all_sub_mat(Matrix))    "
   ]
  },
  {
   "cell_type": "code",
   "execution_count": 168,
   "metadata": {
    "collapsed": false
   },
   "outputs": [
    {
     "data": {
      "text/plain": [
       "array([[2, 3],\n",
       "       [4, 5]])"
      ]
     },
     "execution_count": 168,
     "metadata": {},
     "output_type": "execute_result"
    }
   ],
   "source": [
    "# Using idx from numpy\n",
    "a = np.arange(10).reshape(2, 5)\n",
    "#array([[0, 1, 2, 3, 4], [5, 6, 7, 8, 9]])\n",
    "ixgrid = np.ix_([0,1], [2,4])\n",
    "a[ixgrid]\n",
    "#array([[2, 4], [7, 9]])\n",
    "\n",
    "a = np.array([[1, 2,3],[3, 4,5],[5,6,7] ])\n",
    "ixgrid = np.ix_([0,1], [1,2])\n",
    "a[ixgrid] \n",
    "#array([[2, 3], [4,5]])\n"
   ]
  },
  {
   "cell_type": "code",
   "execution_count": 173,
   "metadata": {
    "collapsed": false
   },
   "outputs": [
    {
     "name": "stdout",
     "output_type": "stream",
     "text": [
      "[[3 3]\n",
      " [3 3]]\n"
     ]
    }
   ],
   "source": [
    "count=0\n",
    "print(a[np.ix_([0,0],[2,2])])"
   ]
  },
  {
   "cell_type": "code",
   "execution_count": 178,
   "metadata": {
    "collapsed": false
   },
   "outputs": [
    {
     "data": {
      "text/plain": [
       "array([[2, 2],\n",
       "       [4, 4]])"
      ]
     },
     "execution_count": 178,
     "metadata": {},
     "output_type": "execute_result"
    }
   ],
   "source": [
    "a = np.array([[1, 2,3],[3, 4,5],[5,6,7] ])\n",
    "ixgrid = np.ix_([0,1], [1,1])\n",
    "a[ixgrid]"
   ]
  },
  {
   "cell_type": "code",
   "execution_count": null,
   "metadata": {
    "collapsed": true
   },
   "outputs": [],
   "source": [
    "import collections, numpy\n",
    "\n",
    "a = numpy.array([0, 3, 0, 1, 0, 1, 2, 1, 0, 0, 0, 0, 1, 3, 4])\n",
    ">>> collections.Counter(a)"
   ]
  },
  {
   "cell_type": "code",
   "execution_count": 2,
   "metadata": {
    "collapsed": false
   },
   "outputs": [
    {
     "data": {
      "text/plain": [
       "4"
      ]
     },
     "execution_count": 2,
     "metadata": {},
     "output_type": "execute_result"
    }
   ],
   "source": [
    "def merge_sort(lst):\n",
    "    \"\"\"Sorts the input list using the merge sort algorithm.\n",
    "\n",
    "    >>> lst = [4, 5, 1, 6, 3]\n",
    "    >>> merge_sort(lst)\n",
    "    [1, 3, 4, 5, 6]\n",
    "    \"\"\"\n",
    "    if len(lst) <= 1:\n",
    "        return lst,len(lst)\n",
    "    \n",
    "    mid = len(lst) // 2\n",
    "    left,count1 = merge_sort(lst[:mid])\n",
    "    right,count2  = merge_sort(lst[mid:])\n",
    "    count3= merge(left, right)\n",
    "    count =  count1+ count2 + count3\n",
    "    return count\n",
    "\n",
    "def merge(left, right):\n",
    "    \"\"\"Takes two sorted lists and returns a single sorted list by comparing the\n",
    "    elements one at a time.\n",
    "\n",
    "    >>> left = [1, 5, 6]\n",
    "    >>> right = [2, 3, 4]\n",
    "    >>> merge(left, right)\n",
    "    [1, 2, 3, 4, 5, 6]\n",
    "    \"\"\"\n",
    "    if not left:\n",
    "        return right\n",
    "    if not right:\n",
    "        return left\n",
    "    if left[0] < right[0]:\n",
    "        return [left[0]] + merge(left[1:], right),count\n",
    "    return [right[0]] + merge(left, right[1:])\n",
    "\n"
   ]
  },
  {
   "cell_type": "code",
   "execution_count": null,
   "metadata": {
    "collapsed": true
   },
   "outputs": [],
   "source": [
    "# Count Inversion\n",
    "\n",
    "def count_inversions(a):\n",
    "    aux=[0 for x in range(len(a))]\n",
    "    return _count_inversions(a,aux,0,len(a))\n",
    "\n",
    "def  _count_inversions(a,aux,left,right):\n",
    "    count=0\n",
    "    if (right-left)>1:\n",
    "        mid = left+(right-left)//2\n",
    "        count+=_count_inversions(a,aux,left,mid)\n",
    "        count+=_count_inversions(a,aux,mid,right)\n",
    "        count+=merge(a,aux,left,mid,right)\n",
    "    return count\n",
    "\n",
    "def merge(a,aux,left,mid,right):\n",
    "    i=left\n",
    "    j=mid\n",
    "    size=right-left\n",
    "    count=0\n",
    "    for k in range(size):\n",
    "        if j==right:\n",
    "            aux[k]=a[i]\n",
    "            i+=1\n",
    "        elif i==mid:\n",
    "            aux[k]=a[j]\n",
    "            j+=1\n",
    "        elif a[i]<=a[j]:\n",
    "            aux[k]=a[i]\n",
    "            i+=1\n",
    "        else:\n",
    "            aux[k]=a[j]\n",
    "            j+=1\n",
    "            count+=mid-i\n",
    "    a[left:right] = aux[:size]\n",
    "    return count\n",
    "\n",
    "\n",
    "\n",
    "t = int(input().strip())\n",
    "for a0 in range(t):\n",
    "    n = int(input().strip())\n",
    "    arr = list(map(int, input().strip().split(' ')))\n",
    "    print(count_inversions(arr))\n"
   ]
  },
  {
   "cell_type": "markdown",
   "metadata": {},
   "source": [
    "# DP Coin "
   ]
  },
  {
   "cell_type": "code",
   "execution_count": 7,
   "metadata": {
    "collapsed": false
   },
   "outputs": [
    {
     "name": "stdout",
     "output_type": "stream",
     "text": [
      "4 3\n",
      "1 2 3\n",
      "1 1 1\n",
      "1 2 1\n",
      "1 3 1\n",
      "1 4 1\n",
      "2 2 2\n",
      "2 3 2\n",
      "2 4 3\n",
      "3 3 3\n",
      "3 4 4\n",
      "4\n"
     ]
    }
   ],
   "source": [
    "# Find total number of coin change\n",
    "import sys\n",
    "\n",
    "def make_change(coins, n):\n",
    "    results = [0 for _ in range(n + 1)]\n",
    "    results[0] = 1\n",
    "    for coin in coins:\n",
    "        for i in range(coin, n + 1):\n",
    "            results[i] += results[i - coin]\n",
    "            print(coin,i,results[i])\n",
    "    return results[n]\n",
    "\n",
    " \n",
    "\n",
    "n,m = input().strip().split(' ')\n",
    "n,m = [int(n),int(m)]\n",
    "coins = [int(coins_temp) for coins_temp in input().strip().split(' ')]\n",
    "print(make_change(coins, n))"
   ]
  },
  {
   "cell_type": "code",
   "execution_count": 1,
   "metadata": {
    "collapsed": true
   },
   "outputs": [],
   "source": [
    "# Find a minimum coin change"
   ]
  },
  {
   "cell_type": "code",
   "execution_count": 22,
   "metadata": {
    "collapsed": false
   },
   "outputs": [
    {
     "name": "stdout",
     "output_type": "stream",
     "text": [
      "2\n"
     ]
    }
   ],
   "source": [
    "\"\"\"\n",
    "Problem Statement\n",
    "=================\n",
    "Given coins of certain denominations with infinite supply find minimum number of coins it takes to form given total\n",
    "Video\n",
    "-----\n",
    "* Topdown DP - https://youtu.be/Kf_M7RdHr1M\n",
    "* Bottom Up DP - https://youtu.be/Y0ZqKpToTic (Approach 1. 2D array.)\n",
    "* Bottom up DP - https://youtu.be/NJuKJ8sasGk (Same as Approach 1. Uses 1D array since 2D array is not required.)\n",
    "Analysis\n",
    "--------\n",
    "* Time complexity - O(len(coins) * total)\n",
    "* Space complexity - O(len(coins) * total)\n",
    " T[i]= min(T[i] without picking coin j, 1+ T[i-coin[j]] picking coin j)\n",
    "\"\"\"\n",
    "\n",
    "\n",
    "def min_coins(coins, total):\n",
    "    cols = total + 1\n",
    "    rows = len(coins)\n",
    "    T = [[0 if col == 0 else float(\"inf\") for col in range(cols)] for _ in range(rows)]\n",
    "\n",
    "    for i in range(rows):\n",
    "        for j in range(1, cols):\n",
    "            if j < coins[i]:\n",
    "                T[i][j] = T[i - 1][j]\n",
    "            else:\n",
    "                T[i][j] = min(T[i - 1][j], 1 + T[i][j - coins[i]])\n",
    "\n",
    "    return T[rows - 1][cols - 1]\n",
    "\n",
    "\n",
    "def print_coins(R, coins):\n",
    "    start = len(R) - 1\n",
    "\n",
    "    if R[start] == -1:\n",
    "        print(\"No Solution Possible.\")\n",
    "        return\n",
    "\n",
    "    print(\"Coins:\")\n",
    "    while start != 0:\n",
    "        coin = coins[R[start]]\n",
    "        print(\"%d \" % coin)\n",
    "        start = start - coin\n",
    "\n",
    "\n",
    "def min_coins2(coins, total):\n",
    "    cols = total + 1\n",
    "    T =[0 if idx == 0 else float(\"inf\") for idx in range(cols)]\n",
    "    R = [-1 for _ in range(total + 1)]\n",
    "\n",
    "    for j in range(len(coins)):\n",
    "        for i in range(1, cols):\n",
    "            coin = coins[j]\n",
    "            if i >= coins[j]:\n",
    "                if T[i] > 1 + T[i - coin]:\n",
    "                    T[i] = 1 + T[i - coin]\n",
    "                    R[i] = j\n",
    "\n",
    "    print_coins(R, coins)\n",
    "    return T[cols - 1]\n",
    "\n",
    "\n",
    "def min_coins_top_down(coins, total, memo):\n",
    "    if total == 0:\n",
    "        return 0\n",
    "\n",
    "    if total in memo:\n",
    "        return memo[total]\n",
    "\n",
    "    min_value = float(\"inf\")\n",
    "    for i in range(len(coins)):\n",
    "        coin = coins[i]\n",
    "        if coin > total:\n",
    "            continue\n",
    "        val = min_coins_top_down(coins, total - coin, memo)\n",
    "        min_value = min(min_value, val)\n",
    "\n",
    "    min_value += 1\n",
    "\n",
    "    memo[total] = min_value\n",
    "    return min_value\n",
    "\n",
    "\n",
    "if __name__ == '__main__':\n",
    "    coins = [1, 5, 6, 8]\n",
    "    total = 11\n",
    "    expected = 3\n",
    "    #assert expected == min_coins(coins, total)\n",
    "    #assert expected == min_coins2(coins, total)\n",
    "    #assert expected == min_coins_top_down(coins, total, dict())\n",
    "    print(min_coins(coins, total))\n",
    "    "
   ]
  },
  {
   "cell_type": "markdown",
   "metadata": {},
   "source": [
    "# Forecasting passenger traffic"
   ]
  },
  {
   "cell_type": "code",
   "execution_count": 1,
   "metadata": {
    "collapsed": false
   },
   "outputs": [
    {
     "name": "stdout",
     "output_type": "stream",
     "text": [
      "0.0\n",
      "0.0\n"
     ]
    },
    {
     "ename": "ZeroDivisionError",
     "evalue": "float division by zero",
     "output_type": "error",
     "traceback": [
      "\u001b[0;31m---------------------------------------------------------------------------\u001b[0m",
      "\u001b[0;31mZeroDivisionError\u001b[0m                         Traceback (most recent call last)",
      "\u001b[0;32m<ipython-input-1-ff12af4efe21>\u001b[0m in \u001b[0;36m<module>\u001b[0;34m()\u001b[0m\n\u001b[1;32m     13\u001b[0m         \u001b[0mb\u001b[0m\u001b[1;33m=\u001b[0m\u001b[0mb\u001b[0m\u001b[1;33m+\u001b[0m\u001b[1;33m(\u001b[0m\u001b[0mX\u001b[0m\u001b[1;33m[\u001b[0m\u001b[0mi\u001b[0m\u001b[1;33m]\u001b[0m \u001b[1;33m-\u001b[0m \u001b[0mavg_X\u001b[0m\u001b[1;33m)\u001b[0m\u001b[1;33m**\u001b[0m\u001b[1;36m2\u001b[0m\u001b[1;33m\u001b[0m\u001b[0m\n\u001b[1;32m     14\u001b[0m         \u001b[0mc\u001b[0m\u001b[1;33m=\u001b[0m\u001b[0mc\u001b[0m\u001b[1;33m+\u001b[0m\u001b[1;33m(\u001b[0m\u001b[0mY\u001b[0m\u001b[1;33m[\u001b[0m\u001b[0mi\u001b[0m\u001b[1;33m]\u001b[0m \u001b[1;33m-\u001b[0m \u001b[0mavg_Y\u001b[0m\u001b[1;33m)\u001b[0m\u001b[1;33m**\u001b[0m\u001b[1;36m2\u001b[0m\u001b[1;33m\u001b[0m\u001b[0m\n\u001b[0;32m---> 15\u001b[0;31m \u001b[0mr\u001b[0m\u001b[1;33m=\u001b[0m\u001b[0ma\u001b[0m\u001b[1;33m/\u001b[0m\u001b[1;33m(\u001b[0m\u001b[1;33m(\u001b[0m\u001b[0mb\u001b[0m\u001b[1;33m**\u001b[0m\u001b[1;33m(\u001b[0m\u001b[1;36m0.5\u001b[0m\u001b[1;33m)\u001b[0m\u001b[1;33m)\u001b[0m\u001b[1;33m*\u001b[0m\u001b[1;33m(\u001b[0m\u001b[0mc\u001b[0m\u001b[1;33m**\u001b[0m\u001b[1;33m(\u001b[0m\u001b[1;36m0.5\u001b[0m\u001b[1;33m)\u001b[0m\u001b[1;33m)\u001b[0m\u001b[1;33m)\u001b[0m\u001b[1;33m\u001b[0m\u001b[0m\n\u001b[0m\u001b[1;32m     16\u001b[0m \u001b[0msys\u001b[0m\u001b[1;33m.\u001b[0m\u001b[0mstdout\u001b[0m\u001b[1;33m.\u001b[0m\u001b[0mwrite\u001b[0m\u001b[1;33m(\u001b[0m\u001b[0mstr\u001b[0m\u001b[1;33m(\u001b[0m\u001b[0mround\u001b[0m\u001b[1;33m(\u001b[0m\u001b[0mr\u001b[0m\u001b[1;33m,\u001b[0m \u001b[1;36m3\u001b[0m\u001b[1;33m)\u001b[0m\u001b[1;33m)\u001b[0m\u001b[1;33m)\u001b[0m\u001b[1;33m\u001b[0m\u001b[0m\n",
      "\u001b[0;31mZeroDivisionError\u001b[0m: float division by zero"
     ]
    }
   ],
   "source": [
    "\n",
    "import numpy as np\n",
    "from scipy.interpolate import Rbf, InterpolatedUnivariateSpline\n",
    "import sys\n",
    "\n",
    "N = int(input())\n",
    "Data = np.zeros(2*N)\n",
    "\n",
    "\n",
    "x1 = np.linspace(1, N, N)\n",
    "x2 = np.linspace(N + 13, 2 * N + 12, N)\n",
    "x = np.hstack([x1, x2])\n",
    "\n",
    "x_p = np.linspace(N + 1, N + 12, 12)\n",
    "\n",
    "\n",
    "for i in range(N):\n",
    "    userinput = sys.stdin.readline()\n",
    "    words = userinput.split() \n",
    "    Data[i] = int(words[1])\n",
    "    Data[N + i] = Data[i]\n",
    "\n",
    "ius = InterpolatedUnivariateSpline(x, Data)\n",
    "# print x\n",
    "# print x_p\n",
    "rbf = Rbf(x, Data)\n",
    "y_p = rbf(x_p)\n",
    "for i in range(12):\n",
    "    print(int(y_p[i]))\n",
    "\n"
   ]
  },
  {
   "cell_type": "code",
   "execution_count": 7,
   "metadata": {
    "collapsed": false
   },
   "outputs": [
    {
     "name": "stdout",
     "output_type": "stream",
     "text": [
      "10\n",
      "1\n",
      "2\n",
      "3\n",
      "4\n",
      "5\n",
      "6\n",
      "7\n",
      "8\n",
      "9\n",
      "0\n"
     ]
    }
   ],
   "source": [
    "N= int(input())\n",
    "\n",
    "X = [int(input()) for i in range(N)]"
   ]
  },
  {
   "cell_type": "code",
   "execution_count": 8,
   "metadata": {
    "collapsed": false
   },
   "outputs": [
    {
     "data": {
      "text/plain": [
       "[1, 2, 3, 4, 5, 6, 7, 8, 9, 0]"
      ]
     },
     "execution_count": 8,
     "metadata": {},
     "output_type": "execute_result"
    }
   ],
   "source": [
    "X\n"
   ]
  },
  {
   "cell_type": "code",
   "execution_count": 2,
   "metadata": {
    "collapsed": false
   },
   "outputs": [
    {
     "data": {
      "image/png": "[encoded data removed]",
      "text/plain": [
       "<matplotlib.figure.Figure at 0x2b4383fd6d8>"
      ]
     },
     "metadata": {},
     "output_type": "display_data"
    }
   ],
   "source": [
    "## import numpy as np\n",
    "import pylab as pl\n",
    "from numpy import fft\n",
    "import numpy as np    \n",
    "def fourierExtrapolation(x, n_predict):\n",
    "    n = x.size\n",
    "    n_harm = 10                     # number of harmonics in model\n",
    "    t = np.arange(0, n)\n",
    "    p = np.polyfit(t, x, 1)         # find linear trend in x\n",
    "    x_notrend = x - p[0] * t        # detrended x\n",
    "    x_freqdom = fft.fft(x_notrend)  # detrended x in frequency domain\n",
    "    f = fft.fftfreq(n)              # frequencies\n",
    "    # sort indexes by frequency, lower -> higher\n",
    "    indexes = indexes = list(range(n))\n",
    "       \n",
    "    \n",
    " \n",
    "    t = np.arange(0, n + n_predict)\n",
    "    restored_sig = np.zeros(t.size)\n",
    "    for i in indexes[:1 + n_harm * 2]:\n",
    "        ampli = np.absolute(x_freqdom[i]) / n   # amplitude\n",
    "        phase = np.angle(x_freqdom[i])          # phase\n",
    "        restored_sig += ampli * np.cos(2 * np.pi * f[i] * t + phase)\n",
    "    return restored_sig + p[0] * t\n",
    "    \n",
    "x = np.array([669, 592, 664, 1005, 699, 401, 646, 472, 598, 681, 1126, 1260, 562, 491, 714, 530, 521,\n",
    "              687, 776, 802, 499, 536, 871, 801, 965, 768, 381, 497, 458, 699, 549, 427, 358, 219, 635,\n",
    "              756, 775, 969, 598, 630, 649, 722, 835, 812, 724, 966, 778, 584, 697, 737, 777, 1059, 1218,\n",
    "              848, 713, 884, 879, 1056, 1273, 1848, 780, 1206, 1404, 1444, 1412, 1493, 1576, 1178, 836, \n",
    "              1087, 1101, 1082, 775, 698, 620, 651, 731, 906, 958, 1039, 1105, 620, 576, 707, 888, 1052, \n",
    "              1072, 1357, 768, 986, 816, 889, 973, 983, 1351, 1266, 1053, 1879, 2085, 2419, 1880, 2045,\n",
    "              2212, 1491, 1378, 1524, 1231, 1577, 2459, 1848, 1506, 1589, 1386, 1111, 1180, 1075, 1595, \n",
    "              1309, 2092, 1846, 2321, 2036, 3587, 1637, 1416, 1432, 1110, 1135, 1233, 1439, 894, 628, 967,\n",
    "              1176, 1069, 1193, 1771, 1199, 888, 1155, 1254, 1403, 1502, 1692, 1187, 1110, 1382, 1808, 2039, \n",
    "              1810, 1819, 1408, 803, 1568, 1227, 1270, 1268, 1535, 873, 1006, 1328, 1733, 1352, 1906, 2029,\n",
    "              1734, 1314, 1810, 1540, 1958, 1420, 1530, 1126, 721, 771, 874, 997, 1186, 1415, 973, 1146, \n",
    "              1147, 1079, 3854, 3407, 2257, 1200, 734, 1051, 1030, 1370, 2422, 1531, 1062, 530, 1030, 1061,\n",
    "              1249, 2080, 2251, 1190, 756, 1161, 1053, 1063, 932, 1604, 1130, 744, 930, 948, 1107, 1161, 1194,\n",
    "              1366, 1155, 785, 602, 903, 1142, 1410, 1256, 742, 985, 1037, 1067, 1196, 1412, 1127, 779, 911,\n",
    "              989, 946, 888, 1349, 1124, 761, 994, 1068, 971, 1157, 1558, 1223, 782, 2790, 1835, 1444, 1098, \n",
    "              1399, 1255, 950, 1110, 1345, 1224, 1092, 1446, 1210, 1122, 1259, 1181, 1035, 1325, 1481, 1278, 769, 911, 876, 877, 950, 1383, 980, 705, 888, 877, 638, 1065, 1142, 1090, 1316, 1270, 1048, 1256, 1009, 1175, 1176, 870, 856, 860])\n",
    "\n",
    "#X = [int(input()) for i in range(N)]\n",
    "n_predict = 100\n",
    "\n",
    "extrapolation = fourierExtrapolation(x, n_predict)\n",
    "pl.plot(np.arange(0, extrapolation.size), extrapolation, 'r', label = 'extrapolation')\n",
    "pl.plot(np.arange(0, x.size), x, 'b', label = 'x', linewidth = 3)\n",
    "pl.legend()\n",
    "pl.show()\n"
   ]
  },
  {
   "cell_type": "code",
   "execution_count": null,
   "metadata": {
    "collapsed": true
   },
   "outputs": [],
   "source": [
    "# Language detection\n",
    "import numpy as np\n",
    "import sys\n",
    "import re\n",
    "\n",
    "userinput = sys.stdin.readline()\n",
    "#words = userinput.split()\n",
    "words = re.findall(r\"[\\w']+|[.,!?;]\", userinput)\n",
    "\n",
    "eng_string = ['the', 'be', 'to', 'of', 'and']\n",
    "french_string = ['etre', 'avoir', 'je', 'ne','pas']\n",
    "german_string = ['das', 'ist', 'du', 'ich', 'nicht']\n",
    "spanish_string = ['el', 'que', 'y', 'en', 'un']\n",
    "\n",
    "detection = np.zeros(4)\n",
    "\n",
    "for word in words:\n",
    "    word = word.lower()\n",
    "    for i in range(5):\n",
    "        weight = 2 ** (5 - i)\n",
    "        if word == eng_string[i]:\n",
    "            detection[0] += weight\n",
    "        elif word == french_string[i]:\n",
    "            detection[1] += weight\n",
    "        elif word == german_string[i]:\n",
    "            detection[2] += weight\n",
    "        elif word == spanish_string[i]:\n",
    "            detection[3] += weight\n",
    "        else:\n",
    "            continue\n",
    "\n",
    "if 0 == np.argmax(detection):\n",
    "    print 'English'\n",
    "elif 1 == np.argmax(detection):\n",
    "    print 'French'\n",
    "elif 2 == np.argmax(detection):\n",
    "    print 'German'\n",
    "elif 3 == np.argmax(detection):\n",
    "print 'Spanish'"
   ]
  },
  {
   "cell_type": "code",
   "execution_count": 13,
   "metadata": {
    "collapsed": false
   },
   "outputs": [
    {
     "name": "stdout",
     "output_type": "stream",
     "text": [
      "9800\n",
      "49\n",
      "205\n",
      "15\n",
      "0.0098\n"
     ]
    }
   ],
   "source": [
    "# Central Limit theorem 1\n",
    "import math\n",
    "n=int(input())\n",
    "box=int(input())\n",
    "mean=float(input())\n",
    "var=float(input())\n",
    "\n",
    "def cdf(mu,sig,x):\n",
    "    return 1/2.0*(1+math.erf((x-mu)/(sig*math.sqrt(2))));\n",
    "new_mean=box*mean\n",
    "new_var=math.sqrt(box)*var\n",
    "print(round(cdf(new_mean,new_var,n),4))"
   ]
  },
  {
   "cell_type": "code",
   "execution_count": 11,
   "metadata": {
    "collapsed": false
   },
   "outputs": [
    {
     "name": "stdout",
     "output_type": "stream",
     "text": [
      "9800\n",
      "49\n",
      "205\n",
      "15\n",
      "0.0098\n"
     ]
    }
   ],
   "source": [
    "In Python 2\n",
    "from __future__ import division\n",
    "\n",
    "import math\n",
    "\n",
    "# Enter your code here. Read input from STDIN. Print output to STDOUT\n",
    "\n",
    "mean = 500\n",
    "\n",
    "std_dev = 80\n",
    "\n",
    "sample = 100\n",
    "\n",
    "# After getting my responses to the below equations\n",
    "z1 = ((490-mean)*math.sqrt(sample))/std_dev\n",
    "\n",
    "z2 = ((510-mean)*math.sqrt(sample))/std_dev\n",
    "\n",
    "# I went to this website http://www.stat.purdue.edu/~mccabe/ips4tab/bmtables.pdf to get the values below\n",
    "Fz1 = 0.1056\n",
    "\n",
    "Fz2 = 0.8944\n",
    "\n",
    "print (Fz2 - Fz1) # 0.7888"
   ]
  },
  {
   "cell_type": "markdown",
   "metadata": {},
   "source": [
    "A random variable X follows Poisson distribution with mean 2.5, find the probability with which the random variable X is equal to 5; i.e. P(X = 5)."
   ]
  },
  {
   "cell_type": "code",
   "execution_count": 14,
   "metadata": {
    "collapsed": false
   },
   "outputs": [
    {
     "name": "stdout",
     "output_type": "stream",
     "text": [
      "2.5\n",
      "5\n",
      "0.067\n"
     ]
    }
   ],
   "source": [
    "# Poisson distribution 1\n",
    "import math\n",
    "\n",
    "def poissonDist(avg,act):\n",
    "    result=math.pow(avg,act)*math.exp(-avg)/math.factorial(act)\n",
    "    return result;\n",
    "\n",
    "if __name__ == \"__main__\":\n",
    "    avg=float(input())\n",
    "    act=int(input())\n",
    "\n",
    "print(round(poissonDist(avg,act),3))"
   ]
  },
  {
   "cell_type": "code",
   "execution_count": 16,
   "metadata": {
    "collapsed": false
   },
   "outputs": [
    {
     "name": "stdout",
     "output_type": "stream",
     "text": [
      "0.88 1.55\n",
      "226.176\n",
      "286.1\n"
     ]
    }
   ],
   "source": [
    "import math\n",
    "\n",
    "if __name__ == \"__main__\":\n",
    "    ab=list(map(float,input().split(' ')))\n",
    "    a=160+40*(ab[0]+math.pow(ab[0],2))\n",
    "    b=128+40*(ab[1]+math.pow(ab[1],2))\n",
    "    \n",
    "    \n",
    "    print(round(a,3))\n",
    "print(round(b,3))"
   ]
  },
  {
   "cell_type": "code",
   "execution_count": 7,
   "metadata": {
    "collapsed": true
   },
   "outputs": [],
   "source": [
    "# To compute cumulative normal distribution using math.erf()\n",
    "from math import *\n",
    "def erfcc(x):\n",
    "    \"\"\"Complementary error function.\"\"\"\n",
    "    z = abs(x)\n",
    "    t = 1. / (1. + 0.5*z)\n",
    "    r = t * exp(-z*z-1.26551223+t*(1.00002368+t*(.37409196+\n",
    "        t*(.09678418+t*(-.18628806+t*(.27886807+\n",
    "        t*(-1.13520398+t*(1.48851587+t*(-.82215223+\n",
    "        t*.17087277)))))))))\n",
    "    if (x >= 0.):\n",
    "        return r\n",
    "    else:\n",
    "        return 2. - r\n",
    "def phi(x):\n",
    "    #'Cumulative distribution function for the standard normal distribution'\n",
    "    return (1.0 + erf(x / sqrt(2.0))) / 2.0\n",
    "def normcdf(x, mu, sigma):\n",
    "    t = x-mu;\n",
    "    y = 0.5*erfcc(-t/(sigma*sqrt(2.0)));\n",
    "    if y>1.0:\n",
    "        y = 1.0;\n",
    "    return y\n",
    "\n",
    "def normpdf(x, mu, sigma):\n",
    "    u = (x-mu)/abs(sigma)\n",
    "    y = (1/(sqrt(2*pi)*abs(sigma)))*exp(-u*u/2)\n",
    "    return y\n",
    "\n",
    "def normdist(x, mu, sigma, f):\n",
    "    if f:\n",
    "        y = normcdf(x,mu,sigma)\n",
    "    else:\n",
    "        y = normpdf(x,mu,sigma)\n",
    "    return y"
   ]
  },
  {
   "cell_type": "markdown",
   "metadata": {},
   "source": [
    "# Interview coursera"
   ]
  },
  {
   "cell_type": "code",
   "execution_count": 6,
   "metadata": {
    "collapsed": false
   },
   "outputs": [
    {
     "name": "stdout",
     "output_type": "stream",
     "text": [
      "1\n",
      "1\n",
      "1\n",
      "1\n",
      "3\n",
      "5\n",
      "9\n",
      "17\n",
      "31\n",
      "57\n"
     ]
    }
   ],
   "source": [
    "def get_mod_fib(n):\n",
    "    f1, f2, f3 = 1, 1, 1\n",
    "    for i in range(n-1):\n",
    "        f1, f2, f3 = f2, f3, f1 + f2 + f3\n",
    "    return f1\n",
    "for i in range(10):\n",
    "    print(get_mod_fib(i))\n"
   ]
  },
  {
   "cell_type": "markdown",
   "metadata": {},
   "source": [
    "# Binary Search: Ice Cream Parlor"
   ]
  },
  {
   "cell_type": "code",
   "execution_count": 10,
   "metadata": {
    "collapsed": false
   },
   "outputs": [
    {
     "name": "stdout",
     "output_type": "stream",
     "text": [
      "1\n",
      "4\n",
      "5\n",
      "1 4 5 3 2\n",
      "1 4\n"
     ]
    }
   ],
   "source": [
    "t = int(input().strip())\n",
    "for a0 in range(t):\n",
    "    m = int(input().strip())\n",
    "    n = int(input().strip())\n",
    "    a = map(int, input().strip().split(' '))\n",
    "\n",
    "    # find matched number\n",
    "    cost_map = {}\n",
    "    for i, cost in enumerate(a):\n",
    "        sunny = cost\n",
    "        johnny = m - cost\n",
    "        if johnny in cost_map.keys():\n",
    "            print(cost_map[johnny]+1, i+1)\n",
    "        else:\n",
    "            cost_map[cost] = i\n"
   ]
  },
  {
   "cell_type": "markdown",
   "metadata": {
    "collapsed": true
   },
   "source": [
    "# Find out number of differences between two ordered lists"
   ]
  },
  {
   "cell_type": "code",
   "execution_count": 2,
   "metadata": {
    "collapsed": false
   },
   "outputs": [
    {
     "data": {
      "text/plain": [
       "2"
      ]
     },
     "execution_count": 2,
     "metadata": {},
     "output_type": "execute_result"
    }
   ],
   "source": [
    "a = [1, 3, 5, 7, 9]\n",
    "b = [1, 2, 5, 7, 3]\n",
    "def differences(a, b):\n",
    "    if len(a) != len(b):\n",
    "        raise ValueError(\"Lists of different length.\")\n",
    "    return sum(i != j for i, j in zip(a, b))\n",
    "differences(a,b)\n",
    "# Simple solution with lambda\n",
    " sum(map(lambda x,y: bool(x-y),a,b))"
   ]
  },
  {
   "cell_type": "code",
   "execution_count": null,
   "metadata": {
    "collapsed": true
   },
   "outputs": [],
   "source": []
  }
 ],
 "metadata": {
  "anaconda-cloud": {},
  "kernelspec": {
   "display_name": "Python [default]",
   "language": "python",
   "name": "python3"
  },
  "language_info": {
   "codemirror_mode": {
    "name": "ipython",
    "version": 3
   },
   "file_extension": ".py",
   "mimetype": "text/x-python",
   "name": "python",
   "nbconvert_exporter": "python",
   "pygments_lexer": "ipython3",
   "version": "3.5.2"
  }
 },
 "nbformat": 4,
 "nbformat_minor": 1
}
