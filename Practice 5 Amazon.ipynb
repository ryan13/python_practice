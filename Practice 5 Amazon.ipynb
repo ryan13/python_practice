{
 "cells": [
  {
   "cell_type": "markdown",
   "metadata": {},
   "source": [
    "### Find maximum number that can be formed using digits of a given number"
   ]
  },
  {
   "cell_type": "code",
   "execution_count": null,
   "metadata": {
    "collapsed": true
   },
   "outputs": [],
   "source": [
    "def printMaximum(inum):\n",
    " \n",
    "    # Hashed array to store count of digits\n",
    "    count = [0 for x in range(10)]\n",
    " \n",
    "    # Connverting given number to string\n",
    "    string = str(num)\n",
    " \n",
    "    # Updating the count array\n",
    "    for i in range(len(string)):\n",
    "        count[int(string[i])] = count[int(string[i])] +  1\n",
    " \n",
    "    # Result stores final number\n",
    "    result = 0\n",
    "    multiplier = 1\n",
    " \n",
    "    # traversing the count array\n",
    "    # to calculate the maximum number\n",
    " \n",
    "    for i in range(10):\n",
    "        while count[i] > 0:\n",
    "            result = result + ( i * multiplier )\n",
    "            count[i] = count[i] - 1\n",
    "            multiplier = multiplier * 10\n",
    " \n",
    "    # return the result\n",
    "    return result\n",
    " \n",
    "# Driver code\n",
    "num = 38293367\n",
    "print printMaximum(num)"
   ]
  },
  {
   "cell_type": "markdown",
   "metadata": {},
   "source": [
    "### Write a function to check if a string is a permutation of a palindrome"
   ]
  },
  {
   "cell_type": "code",
   "execution_count": 6,
   "metadata": {
    "collapsed": false
   },
   "outputs": [
    {
     "name": "stdout",
     "output_type": "stream",
     "text": [
      "{'p': False, 'y': False, 'q': False, 'i': False, 'r': False, 'z': False, 'o': False, 'x': False, 'a': False, 'd': False, 'l': False, 'n': False, 'v': False, 'e': False, 'c': True, 'f': False, 'h': False, 'm': False, 'w': False, 's': False, 'u': False, 'g': False, 't': False, 'b': False, 'j': False, 'k': False} 26\n",
      "True\n"
     ]
    }
   ],
   "source": [
    "import string\n",
    "\n",
    "def isPermutationOfPalindrome(str):\n",
    "    d = dict.fromkeys(string.ascii_lowercase, False)\n",
    "    count = 0\n",
    "    for char in str:\n",
    "        if(ord(char) > 97 and ord(char) < 123):\n",
    "            d[char] = not d[char]\n",
    "    print(d,len(d))\n",
    "    for key in d:\n",
    "        if d[key] is True:\n",
    "            count += 1\n",
    "            if count > 1:\n",
    "                return False\n",
    "    return True\n",
    "\n",
    "print(isPermutationOfPalindrome(\"abcab\"))\n"
   ]
  },
  {
   "cell_type": "code",
   "execution_count": 8,
   "metadata": {
    "collapsed": false
   },
   "outputs": [
    {
     "name": "stdout",
     "output_type": "stream",
     "text": [
      "True\n"
     ]
    }
   ],
   "source": [
    "#Given 2 strings, write a function to check if they are only one edit or zero edits away from each other\n",
    "\n",
    "# pale, ple -> True\n",
    "# pale, pales -> True\n",
    "# pale, bale -> True\n",
    "# pale, bae -> False\n",
    "# pale, pale -> True\n",
    "\n",
    "#Time Complexity = O(n)\n",
    "#Replace, Add, Delete\n",
    "\n",
    "def isOneEditAway(str1, str2):\n",
    "    str1 = list(str1)\n",
    "    str2 = list(str2)\n",
    "    if str1 == str2:\n",
    "        return True\n",
    "    elif len(str1) == len(str2):\n",
    "        return isReplace(str1, str2)\n",
    "    elif len(str2) == len(str1) + 1:\n",
    "        return isDelete(str1, str2)\n",
    "    elif len(str2) == len(str1) - 1:\n",
    "        return isAdd(str1, str2)\n",
    "    else: return False\n",
    "\n",
    "def isReplace(str1, str2):\n",
    "    i = 0\n",
    "    for a, b in zip(str1, str2):\n",
    "        if b != a:\n",
    "            str2[i] = a\n",
    "            if ''.join(str2) == ''.join(str1):\n",
    "                return True\n",
    "            else: return False\n",
    "        i += 1\n",
    "\n",
    "def isAdd(str1, str2):\n",
    "    i = 0 #str1 index\n",
    "    j = 0 #str2 index\n",
    "    while i < len(str2):\n",
    "        if str1[i] != str2[j]:\n",
    "            if i != j:\n",
    "                return False\n",
    "            else: i += 1\n",
    "        else:\n",
    "            i += 1\n",
    "            j += 1\n",
    "    return True\n",
    "\n",
    "def isDelete(str1, str2):\n",
    "    i = 0\n",
    "    for char in str2:\n",
    "        if i == len(str1):\n",
    "            str2.remove(char)\n",
    "            return True\n",
    "        elif char != str1[i]:\n",
    "                str2.remove(char)\n",
    "                if str2 == str1:\n",
    "                    return True\n",
    "                else: return False\n",
    "        i += 1\n",
    "\n",
    "print(isOneEditAway(\"pale\", \"pale\"))\n"
   ]
  },
  {
   "cell_type": "code",
   "execution_count": 10,
   "metadata": {
    "collapsed": false
   },
   "outputs": [
    {
     "name": "stdout",
     "output_type": "stream",
     "text": [
      "cat a dog\n"
     ]
    }
   ],
   "source": [
    "# Implement a method to perform basic string compression using the counts of repeated characters method.\n",
    "# \"aabccccaaa\" -> \"a2b1c4a3\"\n",
    "# \"cat\" -> \"c1a1t1\"\n",
    "# Return original string if result is not smaller than the original\n",
    "# String can contain only upper and lower case letters (a-z) (A-Z)\n",
    "\n",
    "def compress(str1):\n",
    "    res = []\n",
    "    cnt = 0\n",
    "    prev = str1[0]\n",
    "\n",
    "    for char in str1:\n",
    "        if char == prev:\n",
    "            cnt += 1\n",
    "        else:\n",
    "            res += prev + str(cnt)\n",
    "            prev = char\n",
    "            cnt = 1\n",
    "    res += prev + str(cnt)\n",
    "    res = ''.join(res)\n",
    "    if len(res) < len(str1): return res\n",
    "    else: return str1\n",
    "\n",
    "print(compress (\"cat a dog\"))\n"
   ]
  },
  {
   "cell_type": "markdown",
   "metadata": {},
   "source": [
    "#### Rotate a matrix 90 degrees"
   ]
  },
  {
   "cell_type": "code",
   "execution_count": 11,
   "metadata": {
    "collapsed": false
   },
   "outputs": [
    {
     "name": "stdout",
     "output_type": "stream",
     "text": [
      "Original Matrix: [[0, 1, 2, 3], [4, 5, 6, 7], [8, 9, 'A', 'B'], ['C', 'D', 'E', 'F']]\n",
      "Rotated Matrix:  [['C', 8, 4, 0], ['D', 9, 5, 1], ['E', 'A', 6, 2], ['F', 'B', 7, 3]]\n"
     ]
    }
   ],
   "source": [
    "# Given an image represented by an NxN matrix, write a method to rotate the image by 90 degrees.\n",
    "# Time Complexity - O(n^2) (2 for loops looping through the entire input matrix for each element)\n",
    "\n",
    "from copy import deepcopy\n",
    "\n",
    "def rotateMatrix(matrix, n):\n",
    "    res = deepcopy(matrix) # res will be our original matrix rotated 90 degrees\n",
    "    for x in range (0, n):\n",
    "        for y in range(n-1, -1, -1):\n",
    "            res[x][n-y-1] = matrix[y][x]\n",
    "    return res\n",
    "\n",
    "n = 4\n",
    "matrix = [[0,1,2,3], [4,5,6,7], [8,9,'A','B'], ['C','D','E','F']]\n",
    "print(\"Original Matrix: \" + str(matrix))\n",
    "print(\"Rotated Matrix:  \" + str(rotateMatrix(matrix, n)))\n"
   ]
  },
  {
   "cell_type": "code",
   "execution_count": 13,
   "metadata": {
    "collapsed": false
   },
   "outputs": [
    {
     "name": "stdout",
     "output_type": "stream",
     "text": [
      "Original Matrix: [[0, 1, 2, 3], [4, 5, 6, 7], [8, 9, 'A', 'B'], ['C', 'D', 'E', 'F']]\n",
      "Rotated Matrix:  [['C', 8, 4, 0], ['D', 9, 5, 1], ['E', 'A', 6, 2], ['F', 'B', 7, 3]]\n"
     ]
    }
   ],
   "source": [
    "# Write an algorithm such that if an element in an MxN matrix is 0, its entire row and column are set to 0.\n",
    "\n",
    "from copy import deepcopy\n",
    "\n",
    "# Zeros entire row of array\n",
    "def zerofyRowsColumns(mat, x, y):\n",
    "    for i in range(0, len(mat[x])): # Moving across the row\n",
    "        copyMat[x][i] = 0\n",
    "    for j in range(0, len(mat)): # Moving down the column\n",
    "        copyMat[j][y] = 0\n",
    "\n",
    "def zeroMatrix(mat):\n",
    "    for x in range(0, len(mat)):\n",
    "        for y in range(0, len(mat[0])):\n",
    "            if mat[x][y] == 0:\n",
    "                zerofyRowsColumns(mat, x, y)\n",
    "    return copyMat\n",
    "\n",
    "matrix = [[1, 1, 1],\n",
    "          [0, 1, 1],\n",
    "          [1, 1, 1],\n",
    "          ]\n",
    "copyMat = deepcopy(matrix)\n",
    "print zeroMatrix(matrix)\n",
    "\n",
    "#Second solution more space efficient than initial solution (essentially 'zerofying' the matrix in-place)\n",
    "\n",
    "def zerofy(mat):\n",
    "    firstRowHasZeros = False\n",
    "    firstColHasZeros = False\n",
    "\n",
    "    # Check if first column has any zeros\n",
    "    for i in range(0, len(mat)):\n",
    "        if mat[i][0] == 0:\n",
    "            firstColHasZeros = True\n",
    "\n",
    "    # Check if first row has any zeros\n",
    "    for i in range(0, len(mat[0])):\n",
    "        if mat[0][i] == 0:\n",
    "            firstRowHasZeros = True\n",
    "\n",
    "    # Check rest of matrix for zeros, mark the row and column using first row and column\n",
    "    for i in range(1, len(mat)):\n",
    "        for j in range(1, len(mat[0])):\n",
    "            if mat[i][j] == 0:\n",
    "                mat[0][j] = 0\n",
    "                mat[i][0] = 0\n",
    "\n",
    "    # Zerofy the marked columns and rows\n",
    "    for i in range(0, len(mat)):\n",
    "        if mat[i][0] == 0:\n",
    "            for j in range(1, len(mat[0])):\n",
    "                mat[i][j] = 0\n",
    "\n",
    "    for i in range(0, len(mat[0])):\n",
    "        if mat[0][i] == 0:\n",
    "            for j in range(1, len(mat)):\n",
    "                mat[j][i] = 0\n",
    "\n",
    "    # Zero first column and row if necessary\n",
    "    if firstRowHasZeros:\n",
    "        for i in range(0, len(mat[0])):\n",
    "            mat[0][i] = 0\n",
    "\n",
    "    if firstColHasZeros:\n",
    "        for i in range(0, len(mat)):\n",
    "            mat[i][0] = 0\n",
    "\n",
    "    return mat\n",
    "\n",
    "print(zerofy(matrix))\n"
   ]
  },
  {
   "cell_type": "markdown",
   "metadata": {},
   "source": [
    "### count all possigle path\n",
    "http://www.geeksforgeeks.org/count-possible-paths-top-left-bottom-right-nxm-matrix/"
   ]
  },
  {
   "cell_type": "code",
   "execution_count": 16,
   "metadata": {
    "collapsed": false
   },
   "outputs": [
    {
     "name": "stdout",
     "output_type": "stream",
     "text": [
      "[[1, 1, 1], [1, 0, 0], [1, 0, 0]]\n",
      "6\n"
     ]
    }
   ],
   "source": [
    "# Returns count of possible paths to reach cell \n",
    "# at row number m and column number n from the \n",
    "# topmost leftmost cell (cell at 1, 1)\n",
    "def numberOfPaths(m, n):\n",
    "    # Create a 2D table to store results of subproblems\n",
    "    count = [[0 for x in range(m)] for y in range(n)]\n",
    "   \n",
    "    # Count of paths to reach any cell in first column is 1\n",
    "    for i in range(m):\n",
    "        count[i][0] = 1;\n",
    "   \n",
    "    # Count of paths to reach any cell in first column is 1\n",
    "    for j in range(n):\n",
    "        count[0][j] = 1;\n",
    " \n",
    "    # Calculate count of paths for other cells in bottom-up manner using the recursive solution\n",
    "    for i in range(1, m):\n",
    "        for j in range(n):             \n",
    "            count[i][j] = count[i-1][j] + count[i][j-1]\n",
    "    return count[m-1][n-1]\n",
    " \n",
    "# Driver program to test above function \n",
    "m = 3\n",
    "n = 3\n",
    "print( numberOfPaths(m, n))"
   ]
  },
  {
   "cell_type": "markdown",
   "metadata": {},
   "source": [
    "#### Zigzag (or diagonal) traversal of Matrix\n",
    "Given a 2D matrix, print all elements of the given matrix in diagonal order. For example, consider the following 5 X 4 input matrix.\n",
    "\n",
    "    1     2     3     4   \n",
    "    5     6     7     8   \n",
    "    9    10    11    12   \n",
    "    13    14    15    16  \n",
    "    17    18    19    20  \n",
    "\n",
    "Diagonal printing of the above matrix is\n",
    "\n",
    "    1\n",
    "    5     2\n",
    "    9     6     3   \n",
    "    13    10     7     4   \n",
    "    17    14    11     8   \n",
    "    18    15    12   \n",
    "    19    16      \n",
    "    20  \n",
    "    \n",
    "      Matrix =>  1     2     3     4   \n",
    "                5     6     7     8   \n",
    "                9     10    11   12   \n",
    "                13    14    15   16   \n",
    "                17    18    19   20    \n",
    "   \n",
    "Observe the sequence    \n",
    "          1 /  2 /  3 /  4           \n",
    "           / 5  /  6 /  7 /  8           \n",
    "               /  9 / 10 / 11 / 12      \n",
    "                   / 13 / 14 / 15 / 16      \n",
    "                       / 17 / 18 / 19 / 20        "
   ]
  },
  {
   "cell_type": "code",
   "execution_count": 41,
   "metadata": {
    "collapsed": false
   },
   "outputs": [
    {
     "name": "stdout",
     "output_type": "stream",
     "text": [
      "-2\n",
      "9 5\n",
      "3 -6 3\n",
      "-1 2 5 2\n",
      "8 7 1\n",
      "-4 3\n",
      "8\n",
      "2\n",
      "3 1\n",
      "5 5 3\n",
      "-2 -6 7 8\n",
      "9 2 -4\n",
      "3 8\n",
      "-1\n"
     ]
    }
   ],
   "source": [
    "import numpy as np\n",
    "\n",
    "matrix = np.array(\n",
    "         [[-2,  5,  3,  2],\n",
    "          [ 9, -6,  5,  1],\n",
    "          [ 3,  2,  7,  3],\n",
    "          [-1,  8, -4,  8]])\n",
    "\n",
    "diags = [matrix[::-1,:].diagonal(i) for i in range(-3,4)]\n",
    "diags.extend(matrix.diagonal(i) for i in range(3,-4,-1))\n",
    "\n",
    "for e in diags:\n",
    "    print(' '.join(map(str, e)))\n",
    "\n",
    "    "
   ]
  },
  {
   "cell_type": "code",
   "execution_count": 42,
   "metadata": {
    "collapsed": false
   },
   "outputs": [],
   "source": [
    "#Alternative solution\n",
    "def get_rows(grid):\n",
    "    return [[c for c in r] for r in grid]\n",
    "\n",
    "def get_cols(grid):\n",
    "    return zip(*grid)"
   ]
  },
  {
   "cell_type": "markdown",
   "metadata": {},
   "source": [
    "With these two functions I then get the diagonals by adding an increasing/decreasing buffer to the start/end of each row. I then get the columns of this buffered grid, then remove the buffer on each column afterwards. ie)   \n",
    "\n",
    "1 2 3    |X|X|1|2|3|    | | |1|2|3|   \n",
    "4 5 6 => |X|4|5|6|X| => | |4|5|6| | => [[7],[4,8],[1,5,9],[2,6],[3]]   \n",
    "7 8 9    |7|8|9|X|X|    |7|8|9| | |  \n",
    "https://stackoverflow.com/questions/6313308/get-all-the-diagonals-in-a-matrix-list-of-lists-in-python"
   ]
  },
  {
   "cell_type": "code",
   "execution_count": 45,
   "metadata": {
    "collapsed": false
   },
   "outputs": [
    {
     "data": {
      "text/plain": [
       "[[-2], [5, 9], [3, -6, 3], [2, 5, 2, -1], [1, 7, 8], [3, -4], [8]]"
      ]
     },
     "execution_count": 45,
     "metadata": {},
     "output_type": "execute_result"
    }
   ],
   "source": [
    "\n",
    "def get_backward_diagonals(grid):\n",
    "    b = [None] * (len(grid) - 1)\n",
    "    grid = [b[i:] + r + b[:i] for i, r in enumerate(get_rows(grid))]\n",
    "    return [[c for c in r if not c is None] for r in get_cols(grid)]\n",
    "\n",
    "def get_forward_diagonals(grid):\n",
    "    b = [None] * (len(grid) - 1)\n",
    "    grid = [b[:i] + r + b[i:] for i, r in enumerate(get_rows(grid))]\n",
    "    return [[c for c in r if not c is None] for r in get_cols(grid)]\n",
    "matrix = [[-2,  5,  3,  2],\n",
    "          [ 9, -6,  5,  1],\n",
    "          [ 3,  2,  7,  3],\n",
    "          [-1,  8, -4,  8]]\n",
    "get_backward_diagonals(matrix)\n",
    "get_forward_diagonals(matrix)"
   ]
  },
  {
   "cell_type": "code",
   "execution_count": null,
   "metadata": {
    "collapsed": true
   },
   "outputs": [],
   "source": [
    "\n",
    "\n",
    "    00 01 02 03\n",
    "\n",
    "    10 11 12 13\n",
    "\n",
    "    20 21 22 23\n",
    "\n",
    "    30 31 32 33\n",
    "\n",
    "then setting bltr = True (the default), returns the diagonals from bottom-left to top-right, i.e.\n",
    "\n",
    "00           # row + col == 0\n",
    "10 01        # row + col == 1\n",
    "20 11 02     # row + col == 2\n",
    "30 21 12 03  # row + col == 3\n",
    "31 22 13     # row + col == 4\n",
    "32 23        # row + col == 5\n",
    "33           # row + col == 6\n",
    "\n",
    "setting bltr = False, returns the diagonals from bottom-left to top-right, i.e.\n",
    "\n",
    "30            # (col - row) == -3\n",
    "20 31         # (col - row) == -2\n",
    "10 21 32      # (col - row) == -1\n",
    "00 11 22 33   # (col - row) == 0\n",
    "01 12 23      # (col - row) == +1\n",
    "02 13         # (col - row) == +2\n",
    "03            # (col - row) == +3\n",
    "\n",
    "Here's a runnable version using OP's input matrix.\n",
    "shareimprove this answer"
   ]
  },
  {
   "cell_type": "code",
   "execution_count": 47,
   "metadata": {
    "collapsed": false
   },
   "outputs": [
    {
     "data": {
      "text/plain": [
       "[[-2], [9, 5], [3, -6, 3], [-1, 2, 5, 2], [8, 7, 1], [-4, 3], [8]]"
      ]
     },
     "execution_count": 47,
     "metadata": {},
     "output_type": "execute_result"
    }
   ],
   "source": [
    "def get_diagonals(grid, bltr = True):\n",
    "    dim = len(grid)\n",
    "    assert dim == len(grid[0])\n",
    "    return_grid = [[] for total in range(2 * len(grid) - 1)]\n",
    "    for row in range(len(grid)):\n",
    "        for col in range(len(grid[row])):\n",
    "            if bltr: return_grid[row + col].append(grid[col][row])\n",
    "            else:    return_grid[col - row + (dim - 1)].append(grid[row][col])\n",
    "    return return_grid\n",
    "get_diagonals(matrix,True)"
   ]
  },
  {
   "cell_type": "code",
   "execution_count": null,
   "metadata": {
    "collapsed": true
   },
   "outputs": [],
   "source": [
    "# If matrix n by n \n",
    "matrix = [[11, 2, 4],[4, 5, 6],[10, 8, -12]]\n",
    "\n",
    "# only works for diagnoals of equal width and height\n",
    "def forward_diagonal(matrix):\n",
    "    if not isinstance(matrix, list):\n",
    "        raise TypeError(\"Must be of type list\")\n",
    "\n",
    "    results = []\n",
    "    x = 0\n",
    "    for k, row in enumerate(matrix):\n",
    "        # next diag is (x + 1, y + 1)\n",
    "        for i, elm in enumerate(row):\n",
    "\n",
    "            if i == 0 and k == 0:\n",
    "                results.append(elm)\n",
    "                break\n",
    "            if (x + 1 == i):\n",
    "                results.append(elm)\n",
    "                x = i\n",
    "                break\n",
    "    return results\n",
    "\n",
    "print 'forward diagnoals', forward_diagonal(matrix)"
   ]
  },
  {
   "cell_type": "markdown",
   "metadata": {},
   "source": [
    "### Maximum size square submatrix with all 1\n",
    "http://www.ideserve.co.in/learn/maximum-size-square-sub-matrix-with-all-1s\n",
    "Time Complexity: O(m*n)"
   ]
  },
  {
   "cell_type": "code",
   "execution_count": 34,
   "metadata": {
    "collapsed": false
   },
   "outputs": [
    {
     "data": {
      "text/plain": [
       "3"
      ]
     },
     "execution_count": 34,
     "metadata": {},
     "output_type": "execute_result"
    }
   ],
   "source": [
    "def maxSizeSquareSubmatrixAllOnes(matrix):\n",
    "    maxSize = 0;\n",
    "    r = len(matrix)\n",
    "    c = len(matrix[0])\n",
    "    # Step 1\n",
    "    table = [[0 for _ in range(c)] for _ in range(r)]\n",
    "\n",
    "    for i in range(r):\n",
    "        for j in range(c):\n",
    "            # Step 2 a\n",
    "            if (i == 0 or j == 0):\n",
    "                table[i][j] = matrix[i][j]\n",
    "                maxSize = table[i][j] if table[i][j] > maxSize else maxSize\n",
    "            elif (matrix[i][j] == 0):\n",
    "                table[i][j] = 0;\n",
    "            else:\n",
    "                table[i][j] = min3(table[i - 1][j - 1], table[i - 1][j], table[i][j - 1]) + 1\n",
    "                maxSize = table[i][j] if table[i][j] > maxSize else maxSize\n",
    "  \n",
    "                \n",
    "    return maxSize\n",
    "\n",
    "def min3(i,j,k): \n",
    "        return i if i <= j and i <= k else j if (j <= i and j <= k) else k\n",
    "matrix=[[0, 1, 1, 0, 1], \n",
    "        [1, 1, 0, 1, 0], \n",
    "        [0, 1, 1, 1, 0],\n",
    "        [1, 1, 1, 1, 0],\n",
    "        [1, 1, 1, 1, 1],\n",
    "        [0, 0, 0, 0, 0]]   \n",
    "maxSizeSquareSubmatrixAllOnes(matrix)"
   ]
  },
  {
   "cell_type": "code",
   "execution_count": 2,
   "metadata": {
    "collapsed": false
   },
   "outputs": [
    {
     "data": {
      "text/plain": [
       "2"
      ]
     },
     "execution_count": 2,
     "metadata": {},
     "output_type": "execute_result"
    }
   ],
   "source": [
    "def min3(i,j,k): \n",
    "    return i if i <= j and i <= k else j if (j <= i and j <= k) else k\n",
    "min(3,2,5)"
   ]
  },
  {
   "cell_type": "code",
   "execution_count": 22,
   "metadata": {
    "collapsed": false
   },
   "outputs": [
    {
     "name": "stdout",
     "output_type": "stream",
     "text": [
      "[[0, 0, 0, 0, 0], [0, 0, 0, 0, 0], [0, 0, 0, 0, 0], [0, 0, 0, 0, 0], [0, 0, 0, 0, 0], [0, 0, 0, 0, 0]]\n",
      "0\n",
      "0\n",
      "0\n",
      "0\n",
      "0\n",
      "0\n"
     ]
    }
   ],
   "source": [
    "matrix=[[0, 1, 1, 0, 1], \n",
    "        [1, 1, 0, 1, 0], \n",
    "                   [0, 1, 1, 1, 0],\n",
    "                   [1, 1, 1, 1, 0],\n",
    "                   [1, 1, 1, 1, 1],\n",
    "                   [0, 0, 0, 0, 0]]  \n",
    "\n",
    "maxSize = 0;\n",
    "r = len(matrix)\n",
    "c = len(matrix[0])\n",
    "table = [[0 for _ in range(c)] for _ in range(r)]\n",
    "print(table)\n",
    "    # Set first column of S[][]\n",
    "for i in range(r):\n",
    "    #table[i][0] = matrix[i][0]\n",
    "   # print(matrix[i][0])\n",
    "    print(table[i][0])"
   ]
  },
  {
   "cell_type": "code",
   "execution_count": null,
   "metadata": {
    "collapsed": true
   },
   "outputs": [],
   "source": []
  }
 ],
 "metadata": {
  "anaconda-cloud": {},
  "kernelspec": {
   "display_name": "Python [default]",
   "language": "python",
   "name": "python3"
  },
  "language_info": {
   "codemirror_mode": {
    "name": "ipython",
    "version": 3
   },
   "file_extension": ".py",
   "mimetype": "text/x-python",
   "name": "python",
   "nbconvert_exporter": "python",
   "pygments_lexer": "ipython3",
   "version": "3.5.2"
  }
 },
 "nbformat": 4,
 "nbformat_minor": 1
}
