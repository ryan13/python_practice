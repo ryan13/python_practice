{
 "cells": [
  {
   "cell_type": "markdown",
   "metadata": {},
   "source": [
    "### Count Inversions of size three in a given array"
   ]
  },
  {
   "cell_type": "markdown",
   "metadata": {},
   "source": [
    "Given an array arr[] of size n. Three elements arr[i], arr[j] and arr[k] form an inversion of size 3 if a[i] > a[j] >a[k] and i < j < k. Find total number of inversions of size 3. Example:\n",
    "\n",
    "Input:  {8, 4, 2, 1}\n",
    "Output: 4\n",
    "The four inversions are (8,4,2), (8,4,1), (4,2,1) and (8,2,1).\n",
    "Simple solution checks every element and count which are on right side and smaller (nested loop) Time complexity O(n^2)\n",
    "Using modified merge sort: T= 2 T(n/2) + D(n) + C(n)  where D(n): time to divide subproblem O(n), C(n) time to Merge O(n). \n",
    "Merge Sort time complexity is O(nlogn)"
   ]
  },
  {
   "cell_type": "code",
   "execution_count": 2,
   "metadata": {
    "collapsed": false
   },
   "outputs": [
    {
     "name": "stdout",
     "output_type": "stream",
     "text": [
      "Number of Inversion = 3\n"
     ]
    }
   ],
   "source": [
    "# Merge Sort Approach Time complexity O(nlogn)\n",
    "def SortCount(A):\n",
    "    n = len(A)\n",
    "    if n > 1:\n",
    "        mid = n//2\n",
    "        C, c = SortCount(A[:mid])\n",
    "        D, d = SortCount(A[mid:])\n",
    "        B, b = MergeCount(C,D)\n",
    "        return B, b+c+d\n",
    "    else:\n",
    "        return A, 0\n",
    "\n",
    "\n",
    "def MergeCount(A,B):\n",
    "    count = 0\n",
    "    M = []\n",
    "    while A and B:\n",
    "        if A[0] <= B[0]: \n",
    "            M.append(A.pop(0)) \n",
    "        else: \n",
    "            count += len(A)\n",
    "            M.append(B.pop(0)) \n",
    "        M  += A + B     \n",
    "    return M, count \n",
    "arr=[2, 4, 1, 3, 5]\n",
    "#arr = [8 , 4, 2 , 1]\n",
    "_,countInversion= SortCount(arr)\n",
    "print('Number of Inversion =',countInversion)"
   ]
  },
  {
   "cell_type": "code",
   "execution_count": 8,
   "metadata": {
    "collapsed": false
   },
   "outputs": [
    {
     "data": {
      "text/plain": [
       "9"
      ]
     },
     "execution_count": 8,
     "metadata": {},
     "output_type": "execute_result"
    }
   ],
   "source": [
    "    def find_max(arr, val):\n",
    "        if (len(arr) == 0):\n",
    "            raise ValueError(\"arr is an empty sequence\")\n",
    "        maximum = arr[0] ^ val\n",
    "        for elem in arr:\n",
    "            maximum = max(maximum, elem ^ val)\n",
    "        return maximum\n",
    "    find_max([1,9,5,6],0)"
   ]
  },
  {
   "cell_type": "markdown",
   "metadata": {},
   "source": [
    "### Find maximum value of sum (i* arr[i]) by roration \n",
    "http://www.geeksforgeeks.org/find-maximum-value-of-sum-iarri-with-only-rotations-on-given-array-allowed/  we observe the pattern Rj - Rj-1 = arrSum - n * arr[n-j] Where arrSum is sum of all array elements, i.e., \n",
    "arrSum = ∑ arr[i]         i<=0<=n-1    \n",
    "1) Compute sum of all array elements. Let this sum be 'arrSum'.   \n",
    "2) Compute R0 by doing i*arr[i] for given array.    \n",
    "   Let this value be currVal.  \n",
    "3) Initialize result: maxVal = currVal // maxVal is result.   \n",
    "// This loop computes Rj from  Rj-1    \n",
    "4) Do following for j = 1 to n-1  \n",
    "......a) currVal = currVal + arrSum-n*arr[n-j]   \n",
    "......b) If (currVal > maxVal)  \n",
    "            maxVal = currVal      \n",
    "5) Return maxVal"
   ]
  },
  {
   "cell_type": "code",
   "execution_count": 5,
   "metadata": {
    "collapsed": false
   },
   "outputs": [
    {
     "name": "stdout",
     "output_type": "stream",
     "text": [
      "Max sum is:  330\n"
     ]
    }
   ],
   "source": [
    "# returns max possible value of Sum(i*arr[i])\n",
    "def maxSum(arr):\n",
    "    arrSum = 0 # stores sum of arr[i]\n",
    "    currVal = 0 # stores sum of i*arr[i]\n",
    "    n = len(arr)\n",
    "    for i in range(0, n):\n",
    "        arrSum = arrSum + arr[i]\n",
    "        currVal = currVal + (i*arr[i])\n",
    "    maxVal = currVal  # initialize result\n",
    "    for j in range(1, n):\n",
    "        currVal = currVal + arrSum-n*arr[n-j]\n",
    "        if currVal > maxVal:\n",
    "            maxVal = currVal\n",
    "    return maxVal\n",
    " \n",
    "# test maxsum(arr) function\n",
    "arr = [10, 1, 2, 3, 4, 5, 6, 7, 8, 9]\n",
    "print(\"Max sum is: \", maxSum(arr))"
   ]
  },
  {
   "cell_type": "markdown",
   "metadata": {},
   "source": [
    "### Find the smallest positive integer value that cannot be represented as sum of any subset of a given sorted array\n",
    "Input:  arr[] = {1, 3, 6, 10, 11, 15};\n",
    "Output: 2   \n",
    "Note: the value of ‘res’ is incremented by arr[i] (why? If elements from 0 to (i-1) can represent 1 to ‘res-1’, then elements from 0 to i can represent from 1 to ‘res + arr[i] – 1’ by adding ‘arr[i]’ to all subsets that represent 1 to ‘res’).   \n"
   ]
  },
  {
   "cell_type": "code",
   "execution_count": 9,
   "metadata": {
    "collapsed": false
   },
   "outputs": [
    {
     "name": "stdout",
     "output_type": "stream",
     "text": [
      "7\n"
     ]
    }
   ],
   "source": [
    "def find_smallest_integer(arr):\n",
    "    result = 1\n",
    "    # sort array arr.sort()\n",
    "    for i in range(len(arr)):\n",
    "        if arr[i] <= result:\n",
    "            result += arr[i]\n",
    "        else:\n",
    "            break\n",
    "    return result\n",
    "\n",
    "if __name__ == '__main__':\n",
    "    arr = [1, 2, 3, 8]\n",
    "    print(find_smallest_integer(arr))"
   ]
  },
  {
   "cell_type": "markdown",
   "metadata": {},
   "source": [
    "### Convert array into Zig-Zag fashion\n",
    "\n",
    "Given an array of distinct elements, rearrange the elements of array in zig-zag fashion in O(n) time. The converted array \n",
    "should be in form a < b > c < d > e < f. Example:       \n",
    "Input:  arr[] = {4, 3, 7, 8, 6, 2, 1}   \n",
    "Output: arr[] = {3, 7, 4, 8, 2, 6, 1}   \n"
   ]
  },
  {
   "cell_type": "code",
   "execution_count": 10,
   "metadata": {
    "collapsed": false
   },
   "outputs": [
    {
     "name": "stdout",
     "output_type": "stream",
     "text": [
      "[3, 7, 4, 8, 2, 6, 1]\n"
     ]
    }
   ],
   "source": [
    "def zigZag(arr):\n",
    "    n= len(arr)\n",
    "    # Flag true indicates relation \"<\" is expected, else \">\" is expected.  The first expected relation is \"<\"\n",
    "    flag = True\n",
    "    for i in range(n-1):\n",
    "        # \"<\" relation expected\n",
    "        if flag is True:\n",
    "            # If we have a situation like A > B > C,  we get A > B < C  by swapping B and C\n",
    "            if arr[i] > arr[i+1]:\n",
    "                arr[i],arr[i+1] = arr[i+1],arr[i]\n",
    "        else: # # \">\" relation expected\n",
    "            # If we have a situation like A < B < C,   we get A < C > B  by swapping B and C    \n",
    "            if arr[i] < arr[i+1]:\n",
    "                arr[i],arr[i+1] = arr[i+1],arr[i]\n",
    "        flag = bool(1 - flag)\n",
    "    print(arr)\n",
    "# Driver program\n",
    "arr = [4, 3, 7, 8, 6, 2, 1]\n",
    "zigZag(arr)"
   ]
  },
  {
   "cell_type": "markdown",
   "metadata": {},
   "source": [
    "### Find longest increasing subsequence\n",
    "arr=[3, 10, 2, 1, 20]    \n",
    "The longest increasing subsequence is 3, 10, 20 with len 3   "
   ]
  },
  {
   "cell_type": "code",
   "execution_count": 39,
   "metadata": {
    "collapsed": false
   },
   "outputs": [
    {
     "name": "stdout",
     "output_type": "stream",
     "text": [
      "60\n",
      "50\n",
      "33\n",
      "22\n",
      "10\n",
      "Length of lis is 5\n"
     ]
    }
   ],
   "source": [
    "def longest_incr_subsequence(sequence):\n",
    "    n=len(sequence)\n",
    "    dp = [1]* n\n",
    "    solution_indices = [i for i in range(n)]\n",
    "    for i in range(1, n):\n",
    "        for j in range(i):\n",
    "            if (sequence[i] > sequence[j]) and (dp[i] < dp[j] + 1):\n",
    "                dp[i] = dp[j] + 1\n",
    "                solution_indices[i] = j\n",
    "    # find the index of the max number in T\n",
    "    max_value = max(dp)\n",
    "    max_index = dp.index(max_value)\n",
    "    # Print solution using linked values in solution_indices\n",
    "    next_index = max_index\n",
    "    while True:\n",
    "        print(sequence[next_index]),\n",
    "        old_index = next_index\n",
    "        next_index = solution_indices[next_index]\n",
    "        if next_index == old_index:\n",
    "            break\n",
    "\n",
    "    return dp[max_index]\n",
    "arr = [10, 22, 9, 33, 21, 50, 41, 60]\n",
    "print(\"Length of lis is\", longest_incr_subsequence(arr))"
   ]
  },
  {
   "cell_type": "markdown",
   "metadata": {},
   "source": [
    "### Longest Bitonic subsequence: \n",
    "Given an array arr[0 … n-1] containing n positive integers, a subsequence of arr[] is called Bitonic if it is first increasing, then decreasing"
   ]
  },
  {
   "cell_type": "code",
   "execution_count": 6,
   "metadata": {
    "collapsed": false
   },
   "outputs": [
    {
     "name": "stdout",
     "output_type": "stream",
     "text": [
      "7\n"
     ]
    }
   ],
   "source": [
    "def longest_bitonic(sequence):\n",
    "    n = len(sequence)\n",
    "    inc_seq = [1] * n\n",
    "    dec_seq = [1] * n\n",
    "\n",
    "    for i in range(1, n):\n",
    "        for j in range( i):\n",
    "            if sequence[i] > sequence[j]:\n",
    "                inc_seq[i] = max(inc_seq[i], inc_seq[j] + 1)\n",
    "\n",
    "    for i in range(n - 2, -1, -1):\n",
    "        for j in range(n - 1, i, -1):\n",
    "            if sequence[i] > sequence[j]:\n",
    "                dec_seq[i] = max(dec_seq[i], dec_seq[j] + 1)\n",
    "\n",
    "    max_value = 0\n",
    "\n",
    "    for i in range(len(sequence)):\n",
    "        bitonic_seq_length = inc_seq[i] + dec_seq[i] - 1\n",
    "        max_value = max(max_value, bitonic_seq_length)\n",
    "\n",
    "    return max_value\n",
    "\n",
    "\n",
    "if __name__ == '__main__':\n",
    "    max_value = longest_bitonic([1, 4, 3, 7, 2, 1, 8, 11, 13, 0])\n",
    "    assert 7 == max_value  # 1, 4, 7, 8, 11, 13,\n",
    "    print(max_value)"
   ]
  },
  {
   "cell_type": "markdown",
   "metadata": {},
   "source": [
    "### Box stacking problem\n",
    "http://www.geeksforgeeks.org/dynamic-programming-set-21-box-stacking-problem/\n",
    "You are given a set of n types of rectangular 3-D boxes, where the i^th box has height h(i), width w(i) and depth d(i) (all real numbers). You want to create a stack of boxes which is as tall as possible, but you can only stack a box on top of another box if the dimensions of the 2-D base of the lower box are each strictly larger than those of the 2-D base of the higher box. Of course, you can rotate a box so that any side functions as its base. It is also allowable to use multiple instances of the same type of box.   http://people.csail.mit.edu/bdean/6.046/dp/  "
   ]
  },
  {
   "cell_type": "code",
   "execution_count": 8,
   "metadata": {
    "collapsed": false
   },
   "outputs": [
    {
     "name": "stdout",
     "output_type": "stream",
     "text": [
      "Dimension(height=4, length=2, width=1)\n",
      "Dimension(height=5, length=3, width=2)\n",
      "Dimension(height=2, length=5, width=3)\n"
     ]
    }
   ],
   "source": [
    "from collections import namedtuple\n",
    "from itertools import permutations\n",
    "\n",
    "dimension = namedtuple(\"Dimension\", \"height length width\")\n",
    "\n",
    "def create_rotation(given_dimensions):\n",
    "    \"\"\"\n",
    "    A rotation is an order wherein length is greater than or equal to width. Having this constraint avoids the repetition \n",
    "    of same order, but with width and length switched. For e.g (height=3, width=2, length=1) is same the same box for \n",
    "    stacking as (height=3, width=1, length=2).\n",
    "    :param given_dimensions: Original box dimensions\n",
    "    :return: All the possible rotations of the boxes with the condition that length >= height.\n",
    "    \"\"\"\n",
    "    for current_dim in given_dimensions:\n",
    "        for (height, length, width) in permutations((current_dim.height, current_dim.length, current_dim.width)):\n",
    "            if length >= width:\n",
    "                yield dimension(height, length, width)\n",
    "\n",
    "\n",
    "def sort_by_dec_area(rotations):\n",
    "    return sorted(rotations, key=lambda dim: dim.length * dim.width, reverse=True)\n",
    "\n",
    "\n",
    "def can_stack(box1, box2):\n",
    "    return box1.length < box2.length and box1.width < box2.width\n",
    "\n",
    "\n",
    "def box_stack_max_height(dim):\n",
    "    boxes = sort_by_dec_area([rotation for rotation in create_rotation(dim)])\n",
    "    num_boxes = len(boxes)\n",
    "    T = [rotation.height for rotation in boxes]\n",
    "    R = [idx for idx in range(num_boxes)]\n",
    "\n",
    "    for i in range(1, num_boxes):\n",
    "        for j in range(0, i):\n",
    "            if can_stack(boxes[i], boxes[j]):\n",
    "                stacked_height = T[j] + boxes[i].height\n",
    "                if stacked_height > T[i]:\n",
    "                    T[i] = stacked_height\n",
    "                    R[i] = j\n",
    "\n",
    "    max_height = max(T)\n",
    "    start_index = T.index(max_height)\n",
    "\n",
    "    # Prints the dimensions which were stored in R list.\n",
    "    while True:\n",
    "        print(boxes[start_index])\n",
    "        next_index = R[start_index]\n",
    "        if next_index == start_index:\n",
    "            break\n",
    "        start_index = next_index\n",
    "\n",
    "    return max_height\n",
    "\n",
    "\n",
    "if __name__ == '__main__':\n",
    "\n",
    "    d1 = dimension(3, 2, 5)\n",
    "    d2 = dimension(1, 2, 4)\n",
    "\n",
    "    assert 11 == box_stack_max_height([d1, d2])\n"
   ]
  },
  {
   "cell_type": "markdown",
   "metadata": {
    "collapsed": true
   },
   "source": [
    "### Largest Sum Contiguous Subarray - kadane algorithm\n",
    "Initialize:     \n",
    "    max_so_far = 0   \n",
    "    max_ending_here = 0\n",
    "\n",
    "Loop for each element of the array   \n",
    "  (a) max_ending_here = max_ending_here + a[i]   \n",
    "  (b) if(max_ending_here < 0)  \n",
    "            max_ending_here = 0   \n",
    "  (c) if(max_so_far < max_ending_here)    \n",
    "            max_so_far = max_ending_here    \n",
    "return max_so_far   "
   ]
  },
  {
   "cell_type": "markdown",
   "metadata": {},
   "source": [
    "### Maximum subset of array equals a given number"
   ]
  },
  {
   "cell_type": "code",
   "execution_count": 9,
   "metadata": {
    "collapsed": false
   },
   "outputs": [
    {
     "name": "stdout",
     "output_type": "stream",
     "text": [
      "True\n"
     ]
    }
   ],
   "source": [
    "def subset_sum(sequence, sum_value):\n",
    "    cols = sum_value + 1         # Plus 1 for 0 valued col.\n",
    "    rows = len(sequence) + 1     # Plus 1 for 0 valued row.\n",
    "    T = [[False for _ in range(cols)] for _ in range(rows)]\n",
    "    for row in range(rows):\n",
    "        T[row][0] = True\n",
    "    for index_i in range(1, rows):\n",
    "        for index_j in range(1, cols):\n",
    "            if index_j >= sequence[index_i - 1]:\n",
    "                T[index_i][index_j] = T[index_i - 1][index_j] or T[index_i - 1][index_j - sequence[index_i - 1]]\n",
    "            else:\n",
    "                T[index_i][index_j] = T[index_i - 1][index_j]\n",
    "    return T[rows - 1][cols - 1]\n",
    "sequence = [2, 3, 7, 8]\n",
    "print(subset_sum(sequence, 11))"
   ]
  },
  {
   "cell_type": "markdown",
   "metadata": {},
   "source": [
    "###  Given an array is it possible to split it up into 2 equal sum partitions. Partition need not\n",
    "be equal sized. Just equal sum"
   ]
  },
  {
   "cell_type": "code",
   "execution_count": 3,
   "metadata": {
    "collapsed": false
   },
   "outputs": [],
   "source": [
    "def partition(sequence):\n",
    "    sequence_sum = sum(sequence)\n",
    "    if sequence_sum % 2 != 0:\n",
    "        return False\n",
    "    expected = sequence_sum // 2\n",
    "    return subset_sum(sequence, expected)\n",
    "\n",
    "sequence = [1, 3, 5, 5, 2, 1, 1, 6]\n",
    "assert True == partition(sequence)"
   ]
  },
  {
   "cell_type": "code",
   "execution_count": 12,
   "metadata": {
    "collapsed": false
   },
   "outputs": [
    {
     "name": "stdout",
     "output_type": "stream",
     "text": [
      "Maximum contiguous sum is 7\n"
     ]
    }
   ],
   "source": [
    "# Python program to find maximum contiguous subarray\n",
    "def maxSubArraySum(a):\n",
    "    size= len(a) \n",
    "    max_so_far =a[0]\n",
    "    curr_max = a[0]\n",
    "     \n",
    "    for i in range(1,size):\n",
    "        curr_max = max(a[i], curr_max + a[i])\n",
    "        max_so_far = max(max_so_far,curr_max)\n",
    "         \n",
    "    return max_so_far\n",
    " \n",
    "# Driver function to check the above function \n",
    "a = [-2, -3, 4, -1, -2, 1, 5, -3]\n",
    "print(\"Maximum contiguous sum is\" , maxSubArraySum(a))\n",
    " "
   ]
  },
  {
   "cell_type": "markdown",
   "metadata": {},
   "source": [
    "### Find largest sum of non continuous subarray (no two element adjacent)\n",
    "Loop for all elements in arr[] and maintain two sums incl and excl where incl = Max sum including the previous element and excl = Max sum excluding the previous element.\n",
    "\n",
    "Max sum excluding the current element will be max(incl, excl) and max sum including the current element will be excl + current element (Note that only excl is considered because elements cannot be adjacent).\n"
   ]
  },
  {
   "cell_type": "code",
   "execution_count": 14,
   "metadata": {
    "collapsed": false
   },
   "outputs": [
    {
     "name": "stdout",
     "output_type": "stream",
     "text": [
      "110\n"
     ]
    }
   ],
   "source": [
    "# Function to return max sum such that no two elements are adjacent\n",
    "def find_max_sum(arr):\n",
    "    incl = 0\n",
    "    excl = 0\n",
    "    for element in arr:\n",
    "        # Current max excluding i (No ternary in  Python)\n",
    "        new_excl = excl if excl>incl else incl\n",
    "        # Current max including i\n",
    "        incl = excl + element\n",
    "        excl = new_excl\n",
    "    # return max of incl and excl\n",
    "    return (excl if excl>incl else incl)\n",
    " \n",
    "# Driver program to test above function\n",
    "arr = [5, 5, 10, 100, 10, 5]\n",
    "print( find_max_sum(arr))"
   ]
  }
 ],
 "metadata": {
  "anaconda-cloud": {},
  "kernelspec": {
   "display_name": "Python [default]",
   "language": "python",
   "name": "python3"
  },
  "language_info": {
   "codemirror_mode": {
    "name": "ipython",
    "version": 3
   },
   "file_extension": ".py",
   "mimetype": "text/x-python",
   "name": "python",
   "nbconvert_exporter": "python",
   "pygments_lexer": "ipython3",
   "version": "3.5.2"
  }
 },
 "nbformat": 4,
 "nbformat_minor": 1
}
