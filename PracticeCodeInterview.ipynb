{
 "cells": [
  {
   "cell_type": "markdown",
   "metadata": {},
   "source": [
    "# correlation and regression"
   ]
  },
  {
   "cell_type": "code",
   "execution_count": 8,
   "metadata": {
    "collapsed": false
   },
   "outputs": [
    {
     "name": "stdout",
     "output_type": "stream",
     "text": [
      "0.144998154581\n",
      "0.208333333333\n"
     ]
    }
   ],
   "source": [
    "import random  \n",
    "from scipy.stats import pearsonr\n",
    "physics= [15,12,8,8,7,7,7,6,5,3]\n",
    "history =[10,25,17,11,13,17,20,13,9,15]\n",
    "\n",
    "\n",
    "r_row, p_value = pearsonr(history,physics)\n",
    "print(r_row)\n",
    "#Compute the slope of the line of regression obtained while treating Physics as the independent variable. \n",
    "#Compute the answer correct to three decimal places.\n",
    "slope, intercept, r_value, p_value, std_err = scipy.stats.linregress(physics,history)\n",
    "print(slope)\n"
   ]
  },
  {
   "cell_type": "code",
   "execution_count": 11,
   "metadata": {
    "collapsed": false
   },
   "outputs": [
    {
     "name": "stdout",
     "output_type": "stream",
     "text": [
      "15.4583333333\n"
     ]
    }
   ],
   "source": [
    "# student scores 10 in physics, predict his score in history\n",
    "physics_score =10\n",
    "history_score= intercept + slope* physics_score\n",
    "print(history_score)"
   ]
  },
  {
   "cell_type": "markdown",
   "metadata": {},
   "source": [
    "# Correlation and Regression Lines - A Quick Recap 5\n",
    "The two regression lines of a bivariate distribution are: 4x – 5y + 33 = 0 and 20x – 9y – 107 = 0. Find the variance of y when = 3. Compute the correct answer to one decimal place."
   ]
  },
  {
   "cell_type": "markdown",
   "metadata": {},
   "source": [
    "4x -5y +33=0 ->  y=(4/5)x +33/5  -> byx = 4/5  -> byx==r(deltay/deltax)   \n",
    "\n",
    "20x -9y -107=0 -> x = (9/20)y+107/20  -> bxy = 9/20  \n",
    "and r=sqrt(byx * bxy)=sqrt(4/5)(9/20)  \n",
    "-> 4/5= 0.6 *(delta/3)\n",
    "so delta y = (4/5)*(3/0.6) =4"
   ]
  },
  {
   "cell_type": "code",
   "execution_count": 12,
   "metadata": {
    "collapsed": false
   },
   "outputs": [],
   "source": [
    "def staircase(n):\n",
    "    for stairs in range(1, n + 1):\n",
    "        print(' ' * (n - stairs) + '#' * stairs)"
   ]
  },
  {
   "cell_type": "code",
   "execution_count": 10,
   "metadata": {
    "collapsed": true
   },
   "outputs": [],
   "source": [
    "def shift(seq, n):\n",
    "    n = n % len(seq)\n",
    "    return seq[n:] + seq[:n]"
   ]
  },
  {
   "cell_type": "code",
   "execution_count": 14,
   "metadata": {
    "collapsed": false
   },
   "outputs": [
    {
     "data": {
      "text/plain": [
       "[4, 5, 1, 2, 3]"
      ]
     },
     "execution_count": 14,
     "metadata": {},
     "output_type": "execute_result"
    }
   ],
   "source": [
    "shift([1,2,3,4,5],3)"
   ]
  },
  {
   "cell_type": "code",
   "execution_count": 15,
   "metadata": {
    "collapsed": true
   },
   "outputs": [],
   "source": [
    "def isAnagram(str1, str2):\n",
    "    str1_list = list(str1)\n",
    "    str1_list.sort()\n",
    "    str2_list = list(str2)\n",
    "    str2_list.sort()\n",
    "\n",
    "    return (str1_list == str2_list)"
   ]
  },
  {
   "cell_type": "code",
   "execution_count": 16,
   "metadata": {
    "collapsed": false
   },
   "outputs": [
    {
     "data": {
      "text/plain": [
       "False"
      ]
     },
     "execution_count": 16,
     "metadata": {},
     "output_type": "execute_result"
    }
   ],
   "source": [
    "isAnagram('cde', 'abc')\n"
   ]
  },
  {
   "cell_type": "code",
   "execution_count": 18,
   "metadata": {
    "collapsed": false
   },
   "outputs": [
    {
     "data": {
      "text/plain": [
       "6"
      ]
     },
     "execution_count": 18,
     "metadata": {},
     "output_type": "execute_result"
    }
   ],
   "source": [
    "l=[1,2,3]\n",
    "sum(l)"
   ]
  },
  {
   "cell_type": "markdown",
   "metadata": {},
   "source": [
    "You are given a square matrix of size N×N. Calculate the absolute difference of the sums across the two main diagonals.\n",
    "\n",
    "Input Format\n",
    "\n",
    "    The first line contains a single integer N. The next N lines contain N integers (each) describing the matrix.\n"
   ]
  },
  {
   "cell_type": "code",
   "execution_count": 6,
   "metadata": {
    "collapsed": false
   },
   "outputs": [
    {
     "name": "stdout",
     "output_type": "stream",
     "text": [
      "4\n"
     ]
    },
    {
     "ename": "TypeError",
     "evalue": "'str' object cannot be interpreted as an integer",
     "output_type": "error",
     "traceback": [
      "\u001b[0;31m---------------------------------------------------------------------------\u001b[0m",
      "\u001b[0;31mTypeError\u001b[0m                                 Traceback (most recent call last)",
      "\u001b[0;32m<ipython-input-6-a3dd9ddea58a>\u001b[0m in \u001b[0;36m<module>\u001b[0;34m()\u001b[0m\n\u001b[1;32m      6\u001b[0m \u001b[0mmatrix\u001b[0m \u001b[1;33m=\u001b[0m \u001b[1;33m[\u001b[0m\u001b[1;33m]\u001b[0m\u001b[1;33m\u001b[0m\u001b[0m\n\u001b[1;32m      7\u001b[0m \u001b[0mN\u001b[0m \u001b[1;33m=\u001b[0m \u001b[0minput\u001b[0m\u001b[1;33m(\u001b[0m\u001b[1;33m)\u001b[0m\u001b[1;33m\u001b[0m\u001b[0m\n\u001b[0;32m----> 8\u001b[0;31m \u001b[1;32mfor\u001b[0m \u001b[0m_\u001b[0m \u001b[1;32min\u001b[0m \u001b[0mrange\u001b[0m\u001b[1;33m(\u001b[0m\u001b[0mN\u001b[0m\u001b[1;33m)\u001b[0m\u001b[1;33m:\u001b[0m\u001b[1;33m\u001b[0m\u001b[0m\n\u001b[0m\u001b[1;32m      9\u001b[0m     \u001b[0mmatrix\u001b[0m\u001b[1;33m.\u001b[0m\u001b[0mappend\u001b[0m\u001b[1;33m(\u001b[0m\u001b[0mmap\u001b[0m\u001b[1;33m(\u001b[0m\u001b[0mint\u001b[0m\u001b[1;33m,\u001b[0m \u001b[0minput\u001b[0m\u001b[1;33m(\u001b[0m\u001b[1;33m)\u001b[0m\u001b[1;33m.\u001b[0m\u001b[0msplit\u001b[0m\u001b[1;33m(\u001b[0m\u001b[1;33m)\u001b[0m\u001b[1;33m)\u001b[0m\u001b[1;33m)\u001b[0m\u001b[1;33m\u001b[0m\u001b[0m\n\u001b[1;32m     10\u001b[0m \u001b[1;33m\u001b[0m\u001b[0m\n",
      "\u001b[0;31mTypeError\u001b[0m: 'str' object cannot be interpreted as an integer"
     ]
    }
   ],
   "source": [
    "def diagonal_difference(matrix):\n",
    "    l = sum(matrix[i][i] for i in range(N))\n",
    "    r = sum(matrix[i][N-i-1] for i in range(N))\n",
    "    return abs(l - r)\n",
    "\n",
    "matrix = []\n",
    "N = input()\n",
    "for _ in range(N):\n",
    "    matrix.append(map(int, input().split()))\n",
    "\n",
    "print(diagonal_difference(matrix))\n",
    "# https://codereview.stackexchange.com/questions/105242/diagonal-difference"
   ]
  },
  {
   "cell_type": "markdown",
   "metadata": {
    "collapsed": true
   },
   "source": [
    ">Day 8: Least Square Regression Line\n",
    "\n",
    "* Task\n",
    "A group of five students enrolls in Statistics immediately after taking a Math aptitude test. Each student's Math aptitude test score x,and Statistics course grade y, can be expressed as the following list of points (x,y)\n",
    "1. (95.85)\n",
    "2. (85,95)\n",
    "3. (80,70)\n",
    "4. (70,65)\n",
    "5. (60,70)\n",
    "\n",
    "If a student scored an 80 on the Math aptitude test, what grade would we expect them to achieve in Statistics? Determine the equation of the best-fit line using the least squares method, then compute and print the value of y when x =80.\n",
    "\n",
    "* Input:\n",
    "95 85\n",
    "85 95\n",
    "80 70\n",
    "70 65\n",
    "60 70\n",
    "\n"
   ]
  },
  {
   "cell_type": "code",
   "execution_count": 19,
   "metadata": {
    "collapsed": false
   },
   "outputs": [
    {
     "name": "stdout",
     "output_type": "stream",
     "text": [
      "2 5\n",
      "3 6\n",
      "4 7\n",
      "4 7\n",
      "6 3\n",
      "-32.5\n"
     ]
    }
   ],
   "source": [
    "x,y=[],[]\n",
    "for i in range(5):\n",
    "    student = [int(i) for i in input().split()]\n",
    "    x+=[student[0]]\n",
    "    y+=[student[1]]\n",
    "mean_x = sum(x)/5\n",
    "mean_y=sum(y)/5\n",
    "\n",
    "x_squared,xy = sum([x[i]*x[i] for i in range(5)]),sum([x[i]*y[i] for i in range(5)])\n",
    "b= (5*xy - sum(x)*sum(y))/(5*x_squared - sum(x)**2)\n",
    "a = mean_y - b*mean_x\n",
    "print(round(a+b*80,3))"
   ]
  },
  {
   "cell_type": "markdown",
   "metadata": {},
   "source": [
    "### https://www.hackerrank.com/challenges/temperature-predictions\n",
    "# Temporature prediction\n",
    "Thia naive solution ignores missing value"
   ]
  },
  {
   "cell_type": "code",
   "execution_count": 7,
   "metadata": {
    "collapsed": false
   },
   "outputs": [
    {
     "name": "stdout",
     "output_type": "stream",
     "text": [
      "20\n",
      "er fg\n",
      "1908    January 5.0 -1.4\n",
      "1908    February    7.3 1.9\n",
      "1908    March   6.2 0.3\n",
      "1908    April   Missing_1   2.1\n",
      "1908    May Missing_2   7.7\n",
      "1908    June    17.7    8.7\n",
      "1908    July    Missing_3   11.0\n",
      "1908    August  17.5    9.7\n",
      "1908    September   16.3    8.4\n",
      "1908    October 14.6    8.0\n",
      "1908    November    9.6 3.4\n",
      "1908    December    5.8 Missing_4\n",
      "1909    January 5.0 0.1\n",
      "1909    February    5.5 -0.3\n",
      "1909    March   5.6 -0.3\n",
      "1909    April   12.2    3.3\n",
      "1909    May 14.7    4.8\n",
      "1909    June    15.0    7.5\n",
      "1909    July    17.3    10.8\n",
      "1909    August  18.8    10.7 \n",
      "15.7607481176\n",
      "14.2197881021\n",
      "17.725813795\n",
      "7.19438059331\n"
     ]
    }
   ],
   "source": [
    "\n",
    "\n",
    "import numpy as np\n",
    "from sklearn import ensemble\n",
    "\n",
    "def isfloat(value):\n",
    "  try:\n",
    "    float(value)\n",
    "    return True\n",
    "  except ValueError:\n",
    "    return False\n",
    "\n",
    "def func(x, p1,p2,p3):\n",
    "  return p1 * np.sin(p2*x + p3) + 10\n",
    "\n",
    "m={\"January\":0,\"February\":1,\"March\":2,\"April\":3,\"May\":4,\"June\":5,\"July\":6,\"August\":7,\"September\":8,\"October\":9,\n",
    "         \"November\":10,\"December\":11}\n",
    "\n",
    "n = int(input()) # Read a number of training\n",
    "input()  # read colume name\n",
    "mins = []\n",
    "maxs = []\n",
    "x = []\n",
    "testx = []\n",
    "for i in range(n):\n",
    "    line = input().split()\n",
    "    maxs.append(float(line[2]) if isfloat(line[2]) else None)\n",
    "    mins.append(float(line[3]) if isfloat(line[3]) else None)\n",
    "    if isfloat(line[2]) and isfloat(line[3]):\n",
    "        x.append([int(line[0]), m[line[1]]])\n",
    "    else:\n",
    "        testx.append([int(line[0]), m[line[1]]])\n",
    "y = ([(x + y)/2 for x, y in zip(maxs, mins) if x is not None and y is not None])\n",
    "# x = [[int(line[0]), m[line[1]]] for i in range(n) if maxs[i] is not None and mins[i] is not None]\n",
    "model = ensemble.GradientBoostingRegressor()\n",
    "model.fit(x, y)\n",
    "a = list(model.predict(testx))\n",
    "\n",
    "for i in range(n):\n",
    "    if mins[i] == None:\n",
    "        print(2 * a.pop(0) - maxs[i])\n",
    "    if maxs[i] == None:\n",
    "        print(2 * a.pop(0) - mins[i])    "
   ]
  },
  {
   "cell_type": "markdown",
   "metadata": {},
   "source": [
    "## Alternative version\n",
    "This solution uses intepolate method from pandas"
   ]
  },
  {
   "cell_type": "code",
   "execution_count": 9,
   "metadata": {
    "collapsed": false
   },
   "outputs": [
    {
     "name": "stdout",
     "output_type": "stream",
     "text": [
      "20\n",
      " fdgdf\n",
      "1908    January 5.0 -1.4\n",
      "1908    February    7.3 1.9\n",
      "1908    March   6.2 0.3\n",
      "1908    April   Missing_1   2.1\n",
      "1908    May Missing_2   7.7\n",
      "1908    June    17.7    8.7\n",
      "1908    July    Missing_3   11.0\n",
      "1908    August  17.5    9.7\n",
      "1908    September   16.3    8.4\n",
      "1908    October 14.6    8.0\n",
      "1908    November    9.6 3.4\n",
      "1908    December    5.8 Missing_4\n",
      "1909    January 5.0 0.1\n",
      "1909    February    5.5 -0.3\n",
      "1909    March   5.6 -0.3\n",
      "1909    April   12.2    3.3\n",
      "1909    May 14.7    4.8\n",
      "1909    June    15.0    7.5\n",
      "1909    July    17.3    10.8\n",
      "1909    August  18.8    10.7 \n"
     ]
    }
   ],
   "source": [
    "import pandas as pd\n",
    "import numpy as np\n",
    "\n",
    "#####Extract the minimum and maximum temperature data\n",
    "#####   Append NA (empty value) to missing value\n",
    "#####   Store the location of missing value in missing_dict\n",
    "\n",
    "temperature=[]\n",
    "min_temp =[]\n",
    "max_temp = []\n",
    "missing_dict={}\n",
    "no_test = int(input()) # a number of  data\n",
    "input() # skip columns name \n",
    "for i in range(no_test):\n",
    "     temperature_list = input().split()\n",
    "     if \"Missing\" not in temperature_list[2]:\n",
    "        min_temp.append(float(temperature_list[2]))\n",
    "     else:\n",
    "        missing_dict[int(temperature_list[2].replace(\"Missing_\",\"\").replace(\"\\n\",\"\"))]=['min',i]\n",
    "        min_temp.append(np.nan)\n",
    "     if \"Missing\" not in temperature_list[3]:\n",
    "        max_temp.append(float(temperature_list[3].replace(\"\\n\",\"\")))\n",
    "     else:\n",
    "        max_temp.append(np.nan)\n",
    "        missing_dict[int(temperature_list[3].replace(\"Missing_\",\"\").replace(\"\\n\",\"\"))]=['max',i]\n",
    "\n",
    "        "
   ]
  },
  {
   "cell_type": "code",
   "execution_count": 10,
   "metadata": {
    "collapsed": false
   },
   "outputs": [
    {
     "name": "stdout",
     "output_type": "stream",
     "text": [
      "[5.0, 7.3, 6.2, nan, nan, 17.7, nan, 17.5, 16.3, 14.6, 9.6, 5.8, 5.0, 5.5, 5.6, 12.2, 14.7, 15.0, 17.3, 18.8]\n",
      "[-1.4, 1.9, 0.3, 2.1, 7.7, 8.7, 11.0, 9.7, 8.4, 8.0, 3.4, nan, 0.1, -0.3, -0.3, 3.3, 4.8, 7.5, 10.8, 10.7]\n"
     ]
    }
   ],
   "source": [
    "print(min_temp) \n",
    "print(max_temp) "
   ]
  },
  {
   "cell_type": "code",
   "execution_count": 11,
   "metadata": {
    "collapsed": false
   },
   "outputs": [
    {
     "name": "stdout",
     "output_type": "stream",
     "text": [
      "10.0333333333\n",
      "13.8666666667\n",
      "17.6\n",
      "1.75\n"
     ]
    }
   ],
   "source": [
    "              \n",
    "##### Interpolate the data i.e fill the missing value     \n",
    "d = {'min' : pd.Series(min_temp),'max' : pd.Series(max_temp)}\n",
    "df = pd.DataFrame(d)\n",
    "df_processed = df.interpolate()\n",
    "\n",
    "##### Print the filling missing value\n",
    "for x in sorted(missing_dict.keys()):\n",
    "    print(df_processed[missing_dict[x][0]][missing_dict[x][1]])"
   ]
  },
  {
   "cell_type": "code",
   "execution_count": 4,
   "metadata": {
    "collapsed": false
   },
   "outputs": [
    {
     "data": {
      "text/plain": [
       "25"
      ]
     },
     "execution_count": 4,
     "metadata": {},
     "output_type": "execute_result"
    }
   ],
   "source": [
    "#n=int(input())\n",
    "#a=map(int,input().split())\n",
    "n=5\n",
    "a= [3,6,2,2,3,4,4,1]\n",
    "sum(a)"
   ]
  },
  {
   "cell_type": "code",
   "execution_count": 8,
   "metadata": {
    "collapsed": false
   },
   "outputs": [
    {
     "data": {
      "text/plain": [
       "2"
      ]
     },
     "execution_count": 8,
     "metadata": {},
     "output_type": "execute_result"
    }
   ],
   "source": [
    "def mode(a):\n",
    "    return max(set(a), key=a.count)\n",
    "mode(a)"
   ]
  },
  {
   "cell_type": "code",
   "execution_count": 10,
   "metadata": {
    "collapsed": false
   },
   "outputs": [
    {
     "data": {
      "text/plain": [
       "[(2, 2)]"
      ]
     },
     "execution_count": 10,
     "metadata": {},
     "output_type": "execute_result"
    }
   ],
   "source": [
    "# Alternative\n",
    "from collections import Counter\n",
    "data = Counter(a)\n",
    "data.most_common()   # Returns all unique items and their counts\n",
    "data.most_common(1)  #"
   ]
  },
  {
   "cell_type": "markdown",
   "metadata": {},
   "source": [
    "# Compute confident interval"
   ]
  },
  {
   "cell_type": "code",
   "execution_count": 15,
   "metadata": {
    "collapsed": false
   },
   "outputs": [
    {
     "name": "stdout",
     "output_type": "stream",
     "text": [
      "      11.5        9.4       13.6\n"
     ]
    }
   ],
   "source": [
    "import numpy as np\n",
    "import scipy as sp\n",
    "import scipy.stats\n",
    "\n",
    "def mean_confidence_interval(data, confidence=0.95):\n",
    "    a = 1.0*np.array(data)\n",
    "    n = len(a)\n",
    "    m, se = np.mean(a), scipy.stats.sem(a)\n",
    "    h = se * sp.stats.t._ppf((1+confidence)/2., n-1)\n",
    "    return m, m-h, m+h\n",
    "a = range(10,14)\n",
    "m,u,l = mean_confidence_interval(a)\n",
    "m,u,l\n",
    "print(\"{:10.1f} {:10.1f} {:10.1f}\".format(m,u,l))\n"
   ]
  },
  {
   "cell_type": "code",
   "execution_count": null,
   "metadata": {
    "collapsed": true
   },
   "outputs": [],
   "source": []
  }
 ],
 "metadata": {
  "anaconda-cloud": {},
  "kernelspec": {
   "display_name": "Python [default]",
   "language": "python",
   "name": "python3"
  },
  "language_info": {
   "codemirror_mode": {
    "name": "ipython",
    "version": 3
   },
   "file_extension": ".py",
   "mimetype": "text/x-python",
   "name": "python",
   "nbconvert_exporter": "python",
   "pygments_lexer": "ipython3",
   "version": "3.5.2"
  }
 },
 "nbformat": 4,
 "nbformat_minor": 1
}
