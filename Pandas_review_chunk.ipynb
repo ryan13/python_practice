{
 "cells": [
  {
   "cell_type": "markdown",
   "metadata": {},
   "source": [
    "## Efficient Pandas: Using Chunksize for Large Data Sets   \n",
    "We use the Movielens data set a large data set, used for building Recommender Systems, which contains over 20 million movie ratings by over 138,000 users, covering over 27,000 different movies. So let’s extract it using wget."
   ]
  },
  {
   "cell_type": "code",
   "execution_count": 2,
   "metadata": {},
   "outputs": [
    {
     "name": "stdout",
     "output_type": "stream",
     "text": [
      "--2020-07-23 14:01:18--  https://s3-api.us-geo.objectstorage.softlayer.net/cf-courses-data/CognitiveClass/ML0101ENv3/labs/moviedataset.zip\n",
      "Resolving s3-api.us-geo.objectstorage.softlayer.net... 67.228.254.196\n",
      "Connecting to s3-api.us-geo.objectstorage.softlayer.net|67.228.254.196|:443... connected.\n",
      "HTTP request sent, awaiting response... 200 OK\n",
      "Length: 160301210 (153M) [application/zip]\n",
      "Saving to: 'moviedataset.zip'\n",
      "\n",
      "moviedataset.zip    100%[===================>] 152.88M   620KB/s    in 31s     \n",
      "\n",
      "2020-07-23 14:01:49 (4.98 MB/s) - 'moviedataset.zip' saved [160301210/160301210]\n",
      "\n"
     ]
    }
   ],
   "source": [
    "!wget -O moviedataset.zip https://s3-api.us-geo.objectstorage.softlayer.net/cf-courses-data/CognitiveClass/ML0101ENv3/labs/moviedataset.zip"
   ]
  },
  {
   "cell_type": "code",
   "execution_count": 3,
   "metadata": {},
   "outputs": [
    {
     "name": "stdout",
     "output_type": "stream",
     "text": [
      "unziping ...\n",
      "Archive:  moviedataset.zip\n",
      "  inflating: links.csv               \n",
      "  inflating: movies.csv              \n",
      "  inflating: ratings.csv             \n",
      "  inflating: README.txt              \n",
      "  inflating: tags.csv                \n"
     ]
    }
   ],
   "source": [
    "print('unziping ...')\n",
    "!unzip -o -j moviedataset.zip"
   ]
  },
  {
   "cell_type": "code",
   "execution_count": 4,
   "metadata": {},
   "outputs": [],
   "source": [
    "import pandas as pd\n",
    "import matplotlib.pyplot as plt"
   ]
  },
  {
   "cell_type": "code",
   "execution_count": 5,
   "metadata": {},
   "outputs": [
    {
     "name": "stdout",
     "output_type": "stream",
     "text": [
      "(22884377, 4)\n"
     ]
    }
   ],
   "source": [
    "ratings_df = pd.read_csv('ratings.csv')\n",
    "print(ratings_df.shape)"
   ]
  },
  {
   "cell_type": "markdown",
   "metadata": {},
   "source": [
    "This is a lot of data for our computer’s memory to handle. We can using method head() to view first 5 lines"
   ]
  },
  {
   "cell_type": "code",
   "execution_count": 7,
   "metadata": {},
   "outputs": [
    {
     "data": {
      "text/html": [
       "<div>\n",
       "<style scoped>\n",
       "    .dataframe tbody tr th:only-of-type {\n",
       "        vertical-align: middle;\n",
       "    }\n",
       "\n",
       "    .dataframe tbody tr th {\n",
       "        vertical-align: top;\n",
       "    }\n",
       "\n",
       "    .dataframe thead th {\n",
       "        text-align: right;\n",
       "    }\n",
       "</style>\n",
       "<table border=\"1\" class=\"dataframe\">\n",
       "  <thead>\n",
       "    <tr style=\"text-align: right;\">\n",
       "      <th></th>\n",
       "      <th>userId</th>\n",
       "      <th>movieId</th>\n",
       "      <th>rating</th>\n",
       "      <th>timestamp</th>\n",
       "    </tr>\n",
       "  </thead>\n",
       "  <tbody>\n",
       "    <tr>\n",
       "      <th>0</th>\n",
       "      <td>1</td>\n",
       "      <td>169</td>\n",
       "      <td>2.5</td>\n",
       "      <td>1204927694</td>\n",
       "    </tr>\n",
       "    <tr>\n",
       "      <th>1</th>\n",
       "      <td>1</td>\n",
       "      <td>2471</td>\n",
       "      <td>3.0</td>\n",
       "      <td>1204927438</td>\n",
       "    </tr>\n",
       "    <tr>\n",
       "      <th>2</th>\n",
       "      <td>1</td>\n",
       "      <td>48516</td>\n",
       "      <td>5.0</td>\n",
       "      <td>1204927435</td>\n",
       "    </tr>\n",
       "    <tr>\n",
       "      <th>3</th>\n",
       "      <td>2</td>\n",
       "      <td>2571</td>\n",
       "      <td>3.5</td>\n",
       "      <td>1436165433</td>\n",
       "    </tr>\n",
       "    <tr>\n",
       "      <th>4</th>\n",
       "      <td>2</td>\n",
       "      <td>109487</td>\n",
       "      <td>4.0</td>\n",
       "      <td>1436165496</td>\n",
       "    </tr>\n",
       "  </tbody>\n",
       "</table>\n",
       "</div>"
      ],
      "text/plain": [
       "   userId  movieId  rating   timestamp\n",
       "0       1      169     2.5  1204927694\n",
       "1       1     2471     3.0  1204927438\n",
       "2       1    48516     5.0  1204927435\n",
       "3       2     2571     3.5  1436165433\n",
       "4       2   109487     4.0  1436165496"
      ]
     },
     "execution_count": 7,
     "metadata": {},
     "output_type": "execute_result"
    }
   ],
   "source": [
    "pd.read_csv('ratings.csv').head()"
   ]
  },
  {
   "cell_type": "markdown",
   "metadata": {},
   "source": [
    "1. What’s the most common movie rating from 0.5 to 5.0\n",
    "2. What’s the average movie rating for most movies.   \n",
    "\n",
    "Let’s check the memory consumption of the ratings_df data frame\n"
   ]
  },
  {
   "cell_type": "code",
   "execution_count": 9,
   "metadata": {},
   "outputs": [
    {
     "name": "stdout",
     "output_type": "stream",
     "text": [
      "Total Current memory is- 732300192 Bytes.\n"
     ]
    },
    {
     "data": {
      "text/plain": [
       "Index              128\n",
       "userId       183075016\n",
       "movieId      183075016\n",
       "rating       183075016\n",
       "timestamp    183075016\n",
       "dtype: int64"
      ]
     },
     "execution_count": 9,
     "metadata": {},
     "output_type": "execute_result"
    }
   ],
   "source": [
    "ratings_memory = ratings_df.memory_usage().sum()\n",
    "# Let's print out the memory consumption\n",
    "print('Total Current memory is-', ratings_memory,'Bytes.')\n",
    "# Finally, let's see the memory usage of each dimension.\n",
    "ratings_df.memory_usage()"
   ]
  },
  {
   "cell_type": "markdown",
   "metadata": {},
   "source": [
    "Let’s get the different rating keys on the scale, from 0.5 to 5.0"
   ]
  },
  {
   "cell_type": "code",
   "execution_count": 10,
   "metadata": {},
   "outputs": [
    {
     "name": "stdout",
     "output_type": "stream",
     "text": [
      "[5.0, 4.5, 4.0, 3.5, 3.0, 2.5, 2.0, 1.5, 1.0, 0.5]\n"
     ]
    }
   ],
   "source": [
    "# Let's get a list of the rating scale or keys\n",
    "rate_keys = list(ratings_df['rating'].unique())\n",
    "# let's sort the ratings keys from highest to lowest.\n",
    "rate_keys = sorted(rate_keys, reverse=True)  \n",
    "print(rate_keys)"
   ]
  },
  {
   "cell_type": "markdown",
   "metadata": {},
   "source": [
    "1. What’s the most common movie rating from 0.5 to 5.0\n"
   ]
  },
  {
   "cell_type": "code",
   "execution_count": 17,
   "metadata": {},
   "outputs": [
    {
     "name": "stdout",
     "output_type": "stream",
     "text": [
      "Total number of chunks: 23\n",
      "Average bytes per loop: 31839265.04347826\n",
      "{5.0: 3358218, 4.5: 1813922, 4.0: 6265623, 3.5: 2592375, 3.0: 4783899, 2.5: 1044176, 2.0: 1603254, 1.5: 337605, 1.0: 769654, 0.5: 315651}\n"
     ]
    }
   ],
   "source": [
    "ratings_dict = {}\n",
    "for i in rate_keys: ratings_dict[i] = 0\n",
    "\n",
    "\n",
    "# Initialise a variable to compute average bytes per chunk\n",
    "ave_bytes = 0\n",
    "# then we initialise our loop counter\n",
    "count = 0\n",
    "# This enumerate function selects repeated chunks of 1,000,000 rows of data\n",
    "for index, chunk in enumerate(pd.read_csv('ratings.csv', chunksize= 1000000),start=1):\n",
    "# We add total memory per chunk to ave_bytes\n",
    "    ave_bytes += chunk.memory_usage().sum()\n",
    "    for i in rate_keys:\n",
    "        count = len(chunk[chunk['rating'] == i])\n",
    "        ratings_dict[i] += count\n",
    "    \n",
    "print(\"Total number of chunks:\",index)\n",
    "ave_bytes = ave_bytes / index\n",
    "print(\"Average bytes per loop:\",ave_bytes)\n",
    "print(ratings_dict)"
   ]
  },
  {
   "cell_type": "markdown",
   "metadata": {},
   "source": [
    "Let look at the last chunk"
   ]
  },
  {
   "cell_type": "code",
   "execution_count": 18,
   "metadata": {},
   "outputs": [
    {
     "data": {
      "text/html": [
       "<div>\n",
       "<style scoped>\n",
       "    .dataframe tbody tr th:only-of-type {\n",
       "        vertical-align: middle;\n",
       "    }\n",
       "\n",
       "    .dataframe tbody tr th {\n",
       "        vertical-align: top;\n",
       "    }\n",
       "\n",
       "    .dataframe thead th {\n",
       "        text-align: right;\n",
       "    }\n",
       "</style>\n",
       "<table border=\"1\" class=\"dataframe\">\n",
       "  <thead>\n",
       "    <tr style=\"text-align: right;\">\n",
       "      <th></th>\n",
       "      <th>userId</th>\n",
       "      <th>movieId</th>\n",
       "      <th>rating</th>\n",
       "      <th>timestamp</th>\n",
       "    </tr>\n",
       "  </thead>\n",
       "  <tbody>\n",
       "    <tr>\n",
       "      <th>22000000</th>\n",
       "      <td>237997</td>\n",
       "      <td>1610</td>\n",
       "      <td>4.0</td>\n",
       "      <td>945894162</td>\n",
       "    </tr>\n",
       "    <tr>\n",
       "      <th>22000001</th>\n",
       "      <td>237997</td>\n",
       "      <td>1617</td>\n",
       "      <td>5.0</td>\n",
       "      <td>945891177</td>\n",
       "    </tr>\n",
       "    <tr>\n",
       "      <th>22000002</th>\n",
       "      <td>237997</td>\n",
       "      <td>1672</td>\n",
       "      <td>4.0</td>\n",
       "      <td>945894070</td>\n",
       "    </tr>\n",
       "    <tr>\n",
       "      <th>22000003</th>\n",
       "      <td>237997</td>\n",
       "      <td>1673</td>\n",
       "      <td>5.0</td>\n",
       "      <td>945893844</td>\n",
       "    </tr>\n",
       "    <tr>\n",
       "      <th>22000004</th>\n",
       "      <td>237997</td>\n",
       "      <td>1682</td>\n",
       "      <td>4.0</td>\n",
       "      <td>945894098</td>\n",
       "    </tr>\n",
       "    <tr>\n",
       "      <th>...</th>\n",
       "      <td>...</td>\n",
       "      <td>...</td>\n",
       "      <td>...</td>\n",
       "      <td>...</td>\n",
       "    </tr>\n",
       "    <tr>\n",
       "      <th>22884372</th>\n",
       "      <td>247753</td>\n",
       "      <td>49530</td>\n",
       "      <td>5.0</td>\n",
       "      <td>1430437962</td>\n",
       "    </tr>\n",
       "    <tr>\n",
       "      <th>22884373</th>\n",
       "      <td>247753</td>\n",
       "      <td>69481</td>\n",
       "      <td>3.0</td>\n",
       "      <td>1430437984</td>\n",
       "    </tr>\n",
       "    <tr>\n",
       "      <th>22884374</th>\n",
       "      <td>247753</td>\n",
       "      <td>74458</td>\n",
       "      <td>4.0</td>\n",
       "      <td>1430437968</td>\n",
       "    </tr>\n",
       "    <tr>\n",
       "      <th>22884375</th>\n",
       "      <td>247753</td>\n",
       "      <td>76093</td>\n",
       "      <td>5.0</td>\n",
       "      <td>1430437811</td>\n",
       "    </tr>\n",
       "    <tr>\n",
       "      <th>22884376</th>\n",
       "      <td>247753</td>\n",
       "      <td>130636</td>\n",
       "      <td>0.5</td>\n",
       "      <td>1430437721</td>\n",
       "    </tr>\n",
       "  </tbody>\n",
       "</table>\n",
       "<p>884377 rows × 4 columns</p>\n",
       "</div>"
      ],
      "text/plain": [
       "          userId  movieId  rating   timestamp\n",
       "22000000  237997     1610     4.0   945894162\n",
       "22000001  237997     1617     5.0   945891177\n",
       "22000002  237997     1672     4.0   945894070\n",
       "22000003  237997     1673     5.0   945893844\n",
       "22000004  237997     1682     4.0   945894098\n",
       "...          ...      ...     ...         ...\n",
       "22884372  247753    49530     5.0  1430437962\n",
       "22884373  247753    69481     3.0  1430437984\n",
       "22884374  247753    74458     4.0  1430437968\n",
       "22884375  247753    76093     5.0  1430437811\n",
       "22884376  247753   130636     0.5  1430437721\n",
       "\n",
       "[884377 rows x 4 columns]"
      ]
     },
     "execution_count": 18,
     "metadata": {},
     "output_type": "execute_result"
    }
   ],
   "source": [
    "chunk"
   ]
  },
  {
   "cell_type": "code",
   "execution_count": 14,
   "metadata": {},
   "outputs": [
    {
     "name": "stdout",
     "output_type": "stream",
     "text": [
      "Total number of chunks: 23\n",
      "Average bytes per loop: 31839265.04347826\n",
      "{5.0: 131091, 4.5: 70995, 4.0: 243091, 3.5: 99331, 3.0: 186158, 2.5: 39769, 2.0: 60563, 1.5: 12306, 1.0: 28753, 0.5: 12320}\n"
     ]
    }
   ],
   "source": [
    "for i in rate_keys:\n",
    "    count = len(chunk[chunk['rating'] == i])\n",
    "    ratings_dict[i] += count\n",
    "    \n",
    "print(\"Total number of chunks:\",index)\n",
    "ave_bytes = ave_bytes / index\n",
    "print(\"Average bytes per loop:\",ave_bytes)\n",
    "print(ratings_dict)"
   ]
  },
  {
   "cell_type": "markdown",
   "metadata": {},
   "source": [
    "Note that By specifying chunksize in read_csv, the return value will be an iterable object of type TextFileReader .Specifying iterator=True will also return the TextFileReader object:   \n",
    "\n",
    "### Example of passing chunksize to read_csv\n",
    "reader = pd.read_csv(’some_data.csv’, chunksize=100)\n",
    "**Above code reads first 100 rows, if you run it in a loop, it reads the next 100** and so on\n",
    "### Example of iterator=True. Note iterator=False by default.   \n",
    "reader = pd.read_csv('some_data.csv', iterator=True)   \n",
    "reader.get_chunk(100)  \n",
    "**This gets the first 100 rows, running through a loop gets the next 100 rows** and so on.  \n",
    "\n",
    " Both chunksize=100 and reader.get_chunk(100) return same TextFileReader object.   \n",
    " \n",
    "Let’s confirm we got the complete ratings from the exercise we did above. Total ratings should be equal to the number of rows in the ratings_df."
   ]
  },
  {
   "cell_type": "code",
   "execution_count": 19,
   "metadata": {},
   "outputs": [
    {
     "data": {
      "text/plain": [
       "True"
      ]
     },
     "execution_count": 19,
     "metadata": {},
     "output_type": "execute_result"
    }
   ],
   "source": [
    "sum(list(ratings_dict.values())) == len(ratings_df)"
   ]
  },
  {
   "cell_type": "code",
   "execution_count": 20,
   "metadata": {},
   "outputs": [
    {
     "data": {
      "text/plain": [
       "{5.0: 3358218,\n",
       " 4.5: 1813922,\n",
       " 4.0: 6265623,\n",
       " 3.5: 2592375,\n",
       " 3.0: 4783899,\n",
       " 2.5: 1044176,\n",
       " 2.0: 1603254,\n",
       " 1.5: 337605,\n",
       " 1.0: 769654,\n",
       " 0.5: 315651}"
      ]
     },
     "execution_count": 20,
     "metadata": {},
     "output_type": "execute_result"
    }
   ],
   "source": [
    "ratings_dict"
   ]
  },
  {
   "cell_type": "code",
   "execution_count": 21,
   "metadata": {},
   "outputs": [
    {
     "data": {
      "text/plain": [
       "(4.0, 6265623)"
      ]
     },
     "execution_count": 21,
     "metadata": {},
     "output_type": "execute_result"
    }
   ],
   "source": [
    "# We use the operator module to easily get the max and min values\n",
    "import operator\n",
    "max(ratings_dict.items(), key=operator.itemgetter(1))\n"
   ]
  },
  {
   "cell_type": "markdown",
   "metadata": {},
   "source": [
    "Alternative"
   ]
  },
  {
   "cell_type": "code",
   "execution_count": 25,
   "metadata": {},
   "outputs": [
    {
     "data": {
      "text/plain": [
       "(4.0, 6265623)"
      ]
     },
     "execution_count": 25,
     "metadata": {},
     "output_type": "execute_result"
    }
   ],
   "source": [
    "max(ratings_dict, key=ratings_dict.get),ratings_dict[max(ratings_dict, key=ratings_dict.get)]"
   ]
  },
  {
   "cell_type": "markdown",
   "metadata": {},
   "source": [
    "**2. What’s the average movie rating for most movies**     \n",
    "This is the Weighted-Average of the distribution.\n",
    "This simply means we multiply each rating key by the number of times it was rated and we add them all together and divide by the total number of ratings."
   ]
  },
  {
   "cell_type": "code",
   "execution_count": 33,
   "metadata": {},
   "outputs": [
    {
     "data": {
      "text/plain": [
       "3.5260770044122243"
      ]
     },
     "execution_count": 33,
     "metadata": {},
     "output_type": "execute_result"
    }
   ],
   "source": [
    "ratings_dict_df = pd.DataFrame(list(ratings_dict.items()) ,columns = ['Rating_Keys','Count'])\n",
    "\n",
    "# First we find the sum of the product of rate keys and corresponding values.\n",
    "product = sum((ratings_dict_df.Rating_Keys * ratings_dict_df.Count))\n",
    "# Let's divide product by total ratings.\n",
    "weighted_average = product / len(ratings_df)\n",
    "# Then we display the weighted-average below.\n",
    "weighted_average"
   ]
  },
  {
   "cell_type": "markdown",
   "metadata": {},
   "source": [
    "**What percentage of movie ratings does each rating key hold?**"
   ]
  },
  {
   "cell_type": "code",
   "execution_count": 34,
   "metadata": {},
   "outputs": [
    {
     "data": {
      "text/html": [
       "<div>\n",
       "<style scoped>\n",
       "    .dataframe tbody tr th:only-of-type {\n",
       "        vertical-align: middle;\n",
       "    }\n",
       "\n",
       "    .dataframe tbody tr th {\n",
       "        vertical-align: top;\n",
       "    }\n",
       "\n",
       "    .dataframe thead th {\n",
       "        text-align: right;\n",
       "    }\n",
       "</style>\n",
       "<table border=\"1\" class=\"dataframe\">\n",
       "  <thead>\n",
       "    <tr style=\"text-align: right;\">\n",
       "      <th></th>\n",
       "      <th>Rating_Keys</th>\n",
       "      <th>Count</th>\n",
       "      <th>Percent</th>\n",
       "    </tr>\n",
       "  </thead>\n",
       "  <tbody>\n",
       "    <tr>\n",
       "      <th>0</th>\n",
       "      <td>5.0</td>\n",
       "      <td>3358218</td>\n",
       "      <td>14.674719</td>\n",
       "    </tr>\n",
       "    <tr>\n",
       "      <th>1</th>\n",
       "      <td>4.5</td>\n",
       "      <td>1813922</td>\n",
       "      <td>7.926464</td>\n",
       "    </tr>\n",
       "    <tr>\n",
       "      <th>2</th>\n",
       "      <td>4.0</td>\n",
       "      <td>6265623</td>\n",
       "      <td>27.379478</td>\n",
       "    </tr>\n",
       "    <tr>\n",
       "      <th>3</th>\n",
       "      <td>3.5</td>\n",
       "      <td>2592375</td>\n",
       "      <td>11.328143</td>\n",
       "    </tr>\n",
       "    <tr>\n",
       "      <th>4</th>\n",
       "      <td>3.0</td>\n",
       "      <td>4783899</td>\n",
       "      <td>20.904650</td>\n",
       "    </tr>\n",
       "    <tr>\n",
       "      <th>5</th>\n",
       "      <td>2.5</td>\n",
       "      <td>1044176</td>\n",
       "      <td>4.562833</td>\n",
       "    </tr>\n",
       "    <tr>\n",
       "      <th>6</th>\n",
       "      <td>2.0</td>\n",
       "      <td>1603254</td>\n",
       "      <td>7.005889</td>\n",
       "    </tr>\n",
       "    <tr>\n",
       "      <th>7</th>\n",
       "      <td>1.5</td>\n",
       "      <td>337605</td>\n",
       "      <td>1.475264</td>\n",
       "    </tr>\n",
       "    <tr>\n",
       "      <th>8</th>\n",
       "      <td>1.0</td>\n",
       "      <td>769654</td>\n",
       "      <td>3.363229</td>\n",
       "    </tr>\n",
       "    <tr>\n",
       "      <th>9</th>\n",
       "      <td>0.5</td>\n",
       "      <td>315651</td>\n",
       "      <td>1.379330</td>\n",
       "    </tr>\n",
       "  </tbody>\n",
       "</table>\n",
       "</div>"
      ],
      "text/plain": [
       "   Rating_Keys    Count    Percent\n",
       "0          5.0  3358218  14.674719\n",
       "1          4.5  1813922   7.926464\n",
       "2          4.0  6265623  27.379478\n",
       "3          3.5  2592375  11.328143\n",
       "4          3.0  4783899  20.904650\n",
       "5          2.5  1044176   4.562833\n",
       "6          2.0  1603254   7.005889\n",
       "7          1.5   337605   1.475264\n",
       "8          1.0   769654   3.363229\n",
       "9          0.5   315651   1.379330"
      ]
     },
     "execution_count": 34,
     "metadata": {},
     "output_type": "execute_result"
    }
   ],
   "source": [
    "ratings_dict_df['Percent'] = ratings_dict_df['Count'].apply(lambda x: (x / (len(ratings_df)) * 100))\n",
    "ratings_dict_df"
   ]
  },
  {
   "cell_type": "markdown",
   "metadata": {},
   "source": [
    "**To find the percentage of movies that are rated at least average (3.5)**, we simply sum the percentages of movie keys 3.5 to 5.0."
   ]
  },
  {
   "cell_type": "code",
   "execution_count": 35,
   "metadata": {},
   "outputs": [
    {
     "data": {
      "text/plain": [
       "61.308804692389046"
      ]
     },
     "execution_count": 35,
     "metadata": {},
     "output_type": "execute_result"
    }
   ],
   "source": [
    "sum(ratings_dict_df[ratings_dict_df.Rating_Keys >= 3.5]['Percent'])"
   ]
  },
  {
   "cell_type": "markdown",
   "metadata": {},
   "source": [
    "From these exercises, we can infer that on a scale of 5.0, most movies are rated 4.0 and the average rating for movies is 3.5 and finally, over 61.3% of all movies produced have a rating of at least 3.5."
   ]
  },
  {
   "cell_type": "code",
   "execution_count": null,
   "metadata": {},
   "outputs": [],
   "source": []
  }
 ],
 "metadata": {
  "kernelspec": {
   "display_name": "Python 3",
   "language": "python",
   "name": "python3"
  },
  "language_info": {
   "codemirror_mode": {
    "name": "ipython",
    "version": 3
   },
   "file_extension": ".py",
   "mimetype": "text/x-python",
   "name": "python",
   "nbconvert_exporter": "python",
   "pygments_lexer": "ipython3",
   "version": "3.7.6"
  }
 },
 "nbformat": 4,
 "nbformat_minor": 4
}
